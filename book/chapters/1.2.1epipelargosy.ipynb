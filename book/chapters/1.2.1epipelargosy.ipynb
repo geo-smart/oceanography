{
 "cells": [
  {
   "cell_type": "code",
   "execution_count": null,
   "id": "d84ac7ff-d8bb-4418-8bf3-75248ba37c78",
   "metadata": {},
   "outputs": [],
   "source": [
    "from IPython.display import Image, HTML, Video"
   ]
  },
  {
   "cell_type": "markdown",
   "id": "a2971fde-31bb-477d-bfdd-f9c7f500cb9b",
   "metadata": {
    "editable": true,
    "slideshow": {
     "slide_type": ""
    },
    "tags": []
   },
   "source": [
    "[Jupyter Book](https://geo-smart.github.io/oceanography/chapters/1.2.1epipelargosy.html) <br>\n",
    "[GitHub repo](https://github.com/geo-smart/oceanography)\n",
    "<br> [Regional Cabled Array Learning Site](https://interactiveoceans.washington.edu)\n",
    "<br> [Ryan Abernathy's Introduction to Physical Oceanography](https://rabernat.github.io/intro_to_physical_oceanography/intro.html#)\n",
    "<br> [Abernathy source repo](https://github.com/rabernat/intro_to_physical_oceanography)\n",
    "\n",
    "\n",
    "# Epipelargosy\n",
    "\n",
    "\n",
    "> Wavering between the profit and the loss\n",
    "in this brief transit where the dreams cross... <br><br>-T.S.Eliot\n",
    "\n",
    "\n",
    "**Epipelargosy (επιπελαργοση)(noun)(neologism): A voyage through the epipelagic zone.**\n",
    "\n",
    "\n",
    "This chapter introduces physical and bio-optical data from a *shallow profiler* as pictured below.\n",
    "We will also look at data from a NOAA buoy installed about one kilometer away that tracks\n",
    "the surface sea state including waves and wind conditions.\n",
    "\n",
    "\n",
    "To begin with the shallow profiler: Let's review *how* observational data are collected.\n",
    "The profiler base or *platform* is anchored to the sea floor by cables. The platform is\n",
    "positively buoyant, *'floating'* 200 meters below the ocean surface. Periodically cable is let\n",
    "out from the platform so that the instrument-bearing science pod (upper right in image) \n",
    "gradually ascends from the platform depth to a few meters below the surface, acquiring data\n",
    "as it rises. The science pod is then drawn back down. In this manner the instruments on the science pod \n",
    "*profile* the upper water column through a depth range of 10 to 200 meters. Typically there are nine \n",
    "such profiles per day.\n",
    "\n",
    "\n"
   ]
  },
  {
   "cell_type": "code",
   "execution_count": null,
   "id": "893e0f7f-6526-4428-bc27-87430eaf0424",
   "metadata": {},
   "outputs": [],
   "source": [
    "Image('../img/shallowprofilerinsitu.png', width=400)"
   ]
  },
  {
   "cell_type": "markdown",
   "id": "29f3cf27-84a9-46bd-89c1-4d9eb74c6d6f",
   "metadata": {
    "editable": true,
    "slideshow": {
     "slide_type": ""
    },
    "tags": []
   },
   "source": [
    "Shallow Profiler: Platform and Science Pod photographed by an ROV; depth 200 meters.\n",
    "The orange sensor pod (the Science Pod or **SCIP**) is tethered to the rectangular platform\n",
    "(yellow cable). Multiple *instruments* are attached to the SCIP bearing\n",
    "one or more *sensors*. Sensors acquire data: Temperature, salinity, fluorescence and so on. \n",
    "\n",
    "\n",
    "The shallow profiler platform resides at a *site* (i.e. a geographic location).\n",
    "Sites are connected together by means of undersea cables.\n",
    "The ensemble constitutes an enormous observing system called the Regional Cabled \n",
    "Array ([RCA](https://interactiveoceans.washington.edu/)). \n",
    "The RCA is in turn one of several arrays that together comprise the Ocean Observatories Initiative.\n",
    "\n",
    "\n",
    "### Technical notes\n",
    "\n",
    "\n",
    "#### Code and data organization\n",
    "\n",
    "\n",
    "The code in this notebook uses a *data dictionary* to manage the large collection of sensors intrinsic\n",
    "to the RCA shallow profilers. This dictionary is elaborated at some length in the \n",
    "`shallowprofiler_techical.ipynb` notebook. In addition there are several native *module* files\n",
    "(file extension `.py`) that contain commonly used functions: See `charts.py`, `data.py` and \n",
    "`shallowprofiler.py` for example. \n",
    "\n",
    "\n",
    "#### The `/osb` data path\n",
    "    \n",
    "\n",
    "The data volume in use here exceeds the recommended limit for GitHub. Consequently we \n",
    "use a standard Linux mechanism to place the data outside the repository while making it \n",
    "appear functionally like it is *inside*. This mechanism is called a symbolic link. \n",
    "\n",
    "\n",
    "The notebook `dataloader.ipynb` is run to build out a dataset from the Oregon Slope Base\n",
    "shallow profiler. The Oregon Slope Base site is abbreviated `osb`. The data should be \n",
    "placed in a local directory outside the repo, for example in `/home/user/osb`. A symbolic\n",
    "link is then created inside this repository that links or points to this external data\n",
    "directory. The Linux command to generate this link would be something like: \n",
    "\n",
    "\n",
    "`ln -s /home/user/osb /home/user/oceanography/books/chapters/data/rca/sensors/osb`\n",
    "\n",
    "\n",
    "This command should be customized to fit the file paths on your system.\n",
    "\n",
    "\n",
    "## Load profile metadata and build the data dictionary\n",
    "\n",
    "\n",
    "We now presume the `osb` data has been loaded and linked as described above.  \n",
    "The next step -- cell below -- is to build out a data dictionary **`d `** with keys \n",
    "corresponding to sensors: **`conductivity`, `temperature`, `pco2`** etcetera. \n",
    "Sensor names are the dictionary keys. The dictionary values are five-tuples indexed\n",
    "`\\[0\\]`, `\\[1\\]`,  `\\[2\\]`, `\\[3\\]`, `\\[4\\]`. These correspond to two XArray DataArrays, \n",
    "2 float values, and one string respectively:\n",
    "\n",
    "\n",
    "```\n",
    "0: XArray DataArray: sensor data: Various units, coordinate/dimension = time\n",
    "1: XArray DataArray: sensor depth: Meters, coordinate/dimension = time\n",
    "2: float: Default charting lower limit for this sensor's data\n",
    "3: float: Default charting upper limit for this sensor's data\n",
    "4: string: Default chart color e.g. 'blue'\n",
    "```\n",
    "\n",
    "<br>\n",
    "\n",
    "Note that if the time extent of the data is one month -- say 30 days -- \n",
    "a shallow profiler will generate about $9 \\times 30 = 270$ profiles.\n",
    "Selecting out time blocks that correspond to these profiles is done using\n",
    "the profile metadata, contained in a pandas Dataframe called `profiles`. "
   ]
  },
  {
   "cell_type": "markdown",
   "id": "ba83b465-a3a6-4cef-9c15-a893d7baf466",
   "metadata": {},
   "source": [
    "# We interrupt this broadcast"
   ]
  },
  {
   "cell_type": "code",
   "execution_count": 11,
   "id": "7e061187-a886-4d5b-8714-5eb4e7e8a8c8",
   "metadata": {
    "tags": []
   },
   "outputs": [],
   "source": [
    "import shallowprofiler as sp\n",
    "from data import *\n",
    "from charts import *\n",
    "from os import path\n",
    "from time import time"
   ]
  },
  {
   "cell_type": "code",
   "execution_count": 17,
   "id": "a6c15c04-5071-4ec7-bd32-dec7c072e03c",
   "metadata": {
    "tags": []
   },
   "outputs": [
    {
     "name": "stdout",
     "output_type": "stream",
     "text": [
      "<class 'pandas._libs.tslibs.timestamps.Timestamp'>\n"
     ]
    }
   ],
   "source": [
    "# Loads data / depth from local files > d{}. See the chapter 'dataloader' to pre-stage these local files. \n",
    "#   Each sensor has an associated key so d[key] is a 5-tuple (DA-sensor, DA-depth, lo, hi, color).\n",
    "\n",
    "profiles = ReadProfileMetadata()                   # Times associated with profile stages, 1 year\n",
    "# print(profiles)\n",
    "print(type(profiles['a0t'][0]))"
   ]
  },
  {
   "cell_type": "code",
   "execution_count": 18,
   "id": "7903d251-1016-437a-8a11-2f9a80cab327",
   "metadata": {},
   "outputs": [
    {
     "name": "stdout",
     "output_type": "stream",
     "text": [
      "./data/rca/sensors/osb/temp_jan_2022.nc ./data/rca/sensors/osb/salinity_jan_2022.nc\n"
     ]
    }
   ],
   "source": [
    "data_file_root_path   = './data/rca/sensors'\n",
    "sitestring            = 'osb'\n",
    "monthstring           = 'jan'               \n",
    "yearstring            = '2022'\n",
    "fTemp     = AssembleShallowProfilerDataFilename(data_file_root_path, sitestring, \"temp\", monthstring, yearstring)\n",
    "fSalinity = AssembleShallowProfilerDataFilename(data_file_root_path, sitestring, \"salinity\", monthstring, yearstring)\n",
    "print(fTemp, fSalinity)"
   ]
  },
  {
   "cell_type": "code",
   "execution_count": 19,
   "id": "62b7ef90-fc9d-44b6-b38a-71a37d754eac",
   "metadata": {},
   "outputs": [],
   "source": [
    "Tds = xr.open_dataset(fTemp)\n",
    "Sds = xr.open_dataset(fSalinity)"
   ]
  },
  {
   "cell_type": "code",
   "execution_count": 20,
   "id": "4ee313ae-7203-490b-9122-ef4f3dce7f87",
   "metadata": {},
   "outputs": [
    {
     "name": "stdout",
     "output_type": "stream",
     "text": [
      "<xarray.Dataset>\n",
      "Dimensions:  (time: 2678084)\n",
      "Coordinates:\n",
      "  * time     (time) datetime64[ns] 2022-01-01T00:00:00.097717760 ... 2022-01-...\n",
      "Data variables:\n",
      "    depth    (time) float64 ...\n",
      "    temp     (time) float64 ...\n",
      "<xarray.Dataset>\n",
      "Dimensions:   (time: 2678084)\n",
      "Coordinates:\n",
      "  * time      (time) datetime64[ns] 2022-01-01T00:00:00.097717760 ... 2022-01...\n",
      "Data variables:\n",
      "    salinity  (time) float64 ...\n",
      "    depth     (time) float64 ...\n"
     ]
    }
   ],
   "source": [
    "print(Tds)\n",
    "print(Sds)"
   ]
  },
  {
   "cell_type": "code",
   "execution_count": null,
   "id": "7efd371e-25d3-4257-bace-f6bde8b993a4",
   "metadata": {},
   "outputs": [],
   "source": [
    "xr.open_dataset(fTemp).to_dataframe().to_csv('temp.csv')"
   ]
  },
  {
   "cell_type": "code",
   "execution_count": 30,
   "id": "fb8fee81-49cc-4bb5-8f5b-118b2188e30f",
   "metadata": {},
   "outputs": [
    {
     "name": "stdout",
     "output_type": "stream",
     "text": [
      "Index(['salinity', 'depth'], dtype='object')\n"
     ]
    }
   ],
   "source": [
    "df = xr.open_dataset(fSalinity).to_dataframe()\n",
    "print(df.columns)"
   ]
  },
  {
   "cell_type": "code",
   "execution_count": 31,
   "id": "728e46fd-69b7-4f07-9b1e-69b70e1f99db",
   "metadata": {},
   "outputs": [
    {
     "data": {
      "text/html": [
       "<div>\n",
       "<style scoped>\n",
       "    .dataframe tbody tr th:only-of-type {\n",
       "        vertical-align: middle;\n",
       "    }\n",
       "\n",
       "    .dataframe tbody tr th {\n",
       "        vertical-align: top;\n",
       "    }\n",
       "\n",
       "    .dataframe thead th {\n",
       "        text-align: right;\n",
       "    }\n",
       "</style>\n",
       "<table border=\"1\" class=\"dataframe\">\n",
       "  <thead>\n",
       "    <tr style=\"text-align: right;\">\n",
       "      <th></th>\n",
       "      <th>salinity</th>\n",
       "      <th>depth</th>\n",
       "    </tr>\n",
       "    <tr>\n",
       "      <th>time</th>\n",
       "      <th></th>\n",
       "      <th></th>\n",
       "    </tr>\n",
       "  </thead>\n",
       "  <tbody>\n",
       "    <tr>\n",
       "      <th>2022-01-01 00:00:00.097717760</th>\n",
       "      <td>33.939419</td>\n",
       "      <td>192.457638</td>\n",
       "    </tr>\n",
       "    <tr>\n",
       "      <th>2022-01-01 00:00:01.097620992</th>\n",
       "      <td>33.939160</td>\n",
       "      <td>192.461935</td>\n",
       "    </tr>\n",
       "    <tr>\n",
       "      <th>2022-01-01 00:00:02.097106944</th>\n",
       "      <td>33.939271</td>\n",
       "      <td>192.467264</td>\n",
       "    </tr>\n",
       "    <tr>\n",
       "      <th>2022-01-01 00:00:03.097217536</th>\n",
       "      <td>33.939203</td>\n",
       "      <td>192.470428</td>\n",
       "    </tr>\n",
       "    <tr>\n",
       "      <th>2022-01-01 00:00:04.097119744</th>\n",
       "      <td>33.939189</td>\n",
       "      <td>192.475723</td>\n",
       "    </tr>\n",
       "    <tr>\n",
       "      <th>...</th>\n",
       "      <td>...</td>\n",
       "      <td>...</td>\n",
       "    </tr>\n",
       "    <tr>\n",
       "      <th>2022-01-31 23:59:55.066199552</th>\n",
       "      <td>33.912604</td>\n",
       "      <td>193.535232</td>\n",
       "    </tr>\n",
       "    <tr>\n",
       "      <th>2022-01-31 23:59:56.065684480</th>\n",
       "      <td>33.912751</td>\n",
       "      <td>193.533133</td>\n",
       "    </tr>\n",
       "    <tr>\n",
       "      <th>2022-01-31 23:59:57.066420736</th>\n",
       "      <td>33.912380</td>\n",
       "      <td>193.532067</td>\n",
       "    </tr>\n",
       "    <tr>\n",
       "      <th>2022-01-31 23:59:58.065696768</th>\n",
       "      <td>33.912450</td>\n",
       "      <td>193.532067</td>\n",
       "    </tr>\n",
       "    <tr>\n",
       "      <th>2022-01-31 23:59:59.066327552</th>\n",
       "      <td>33.912525</td>\n",
       "      <td>193.534199</td>\n",
       "    </tr>\n",
       "  </tbody>\n",
       "</table>\n",
       "<p>2678084 rows × 2 columns</p>\n",
       "</div>"
      ],
      "text/plain": [
       "                                salinity       depth\n",
       "time                                                \n",
       "2022-01-01 00:00:00.097717760  33.939419  192.457638\n",
       "2022-01-01 00:00:01.097620992  33.939160  192.461935\n",
       "2022-01-01 00:00:02.097106944  33.939271  192.467264\n",
       "2022-01-01 00:00:03.097217536  33.939203  192.470428\n",
       "2022-01-01 00:00:04.097119744  33.939189  192.475723\n",
       "...                                  ...         ...\n",
       "2022-01-31 23:59:55.066199552  33.912604  193.535232\n",
       "2022-01-31 23:59:56.065684480  33.912751  193.533133\n",
       "2022-01-31 23:59:57.066420736  33.912380  193.532067\n",
       "2022-01-31 23:59:58.065696768  33.912450  193.532067\n",
       "2022-01-31 23:59:59.066327552  33.912525  193.534199\n",
       "\n",
       "[2678084 rows x 2 columns]"
      ]
     },
     "execution_count": 31,
     "metadata": {},
     "output_type": "execute_result"
    }
   ],
   "source": [
    "df\n",
    "# order is time, salinity, depth"
   ]
  },
  {
   "cell_type": "code",
   "execution_count": 34,
   "id": "7c4897e1-078c-445c-91af-1a581d6d64eb",
   "metadata": {},
   "outputs": [
    {
     "name": "stdout",
     "output_type": "stream",
     "text": [
      "Index(['depth', 'salinity'], dtype='object')\n"
     ]
    }
   ],
   "source": [
    "print(df.columns)"
   ]
  },
  {
   "cell_type": "code",
   "execution_count": 32,
   "id": "742b945f-75eb-4cf6-acf8-b6472639780c",
   "metadata": {},
   "outputs": [
    {
     "name": "stdout",
     "output_type": "stream",
     "text": [
      "                                    depth   salinity\n",
      "time                                                \n",
      "2022-01-01 00:00:00.097717760  192.457638  33.939419\n",
      "2022-01-01 00:00:01.097620992  192.461935  33.939160\n",
      "2022-01-01 00:00:02.097106944  192.467264  33.939271\n",
      "2022-01-01 00:00:03.097217536  192.470428  33.939203\n",
      "2022-01-01 00:00:04.097119744  192.475723  33.939189\n",
      "...                                   ...        ...\n",
      "2022-01-31 23:59:55.066199552  193.535232  33.912604\n",
      "2022-01-31 23:59:56.065684480  193.533133  33.912751\n",
      "2022-01-31 23:59:57.066420736  193.532067  33.912380\n",
      "2022-01-31 23:59:58.065696768  193.532067  33.912450\n",
      "2022-01-31 23:59:59.066327552  193.534199  33.912525\n",
      "\n",
      "[2678084 rows x 2 columns]\n"
     ]
    }
   ],
   "source": [
    "df = df[['depth', 'salinity']]\n",
    "print(df)"
   ]
  },
  {
   "cell_type": "code",
   "execution_count": 33,
   "id": "5260711d-ab5b-4d11-8139-a2e0465737a4",
   "metadata": {},
   "outputs": [],
   "source": [
    "df.to_csv('salinity.csv')"
   ]
  },
  {
   "cell_type": "code",
   "execution_count": null,
   "id": "f08cf525-eecd-4277-8791-516144be0f61",
   "metadata": {
    "tags": []
   },
   "outputs": [],
   "source": [
    "d = {}                # empty dictionary: to populate with 5-tuples, default time range January 2022,\n",
    "                      # defult site Oregon Slope Base\n",
    "\n",
    "data_file_root_path   = './data/rca/sensors'\n",
    "sitestring            = 'osb'\n",
    "monthstring           = 'jan'               \n",
    "yearstring            = '2022'\n",
    "\n",
    "for sensor in sensors:   # sensors[] is a list of 2-element lists, each list = [sensor_str, instrument_str]\n",
    "    f = AssembleShallowProfilerDataFilename(data_file_root_path, sitestring, sensor[0], monthstring, yearstring)\n",
    "    if path.isfile(f): d[sensor[0]] = GetSensorTuple(sensor[0], f)    # creates d[sensor-key]\n",
    "    # as a quick check on data validity: use d['temperature'].z.plot()\n",
    "\n",
    "profile_list = [0]\n",
    "d.keys()                    # indicates which sensors loaded properly: 'conductivity' etcetera\n",
    "\n",
    "# `sensors` is a list of lists, each ['<sensor-name>', '<instrument-name>'].\n",
    "# sensors"
   ]
  },
  {
   "cell_type": "markdown",
   "id": "f122c555-e72e-4666-b9d4-05948d03a741",
   "metadata": {},
   "source": [
    "For a month like January 2022 there are 2678400 seconds.\n",
    "\n",
    "`d[]` is a dictionary of tuples so `d['temp']` has indices `0`, `1` (both Data Arrays), `2`, `3`, `4`.\n",
    "The latter are respectively real, real, str (a chart color). The real numbers are low and high values for the sensor.\n",
    "The five-tuple is designed to make it easy to produce charts comparing two sensor profiles."
   ]
  },
  {
   "cell_type": "code",
   "execution_count": null,
   "id": "fb37fff5-f69c-46c1-b890-a65ff53f3154",
   "metadata": {},
   "outputs": [],
   "source": [
    "sensortypes = ['salinity', 'temp']\n",
    "for s in sensortypes:\n",
    "    print(type(d[s][1]))\n",
    "    print(d[s][2])\n",
    "    print(d[s][3])\n",
    "    print(d[s][4])"
   ]
  },
  {
   "cell_type": "code",
   "execution_count": null,
   "id": "61ac900f-69e3-4c8b-8f2f-9e4fbe027a1a",
   "metadata": {},
   "outputs": [],
   "source": [
    "T=d['temp'][0]\n",
    "T\n",
    "Z=d['temp'][1]\n",
    "Z"
   ]
  },
  {
   "cell_type": "code",
   "execution_count": null,
   "id": "51830822-4941-4a4c-9b5d-b17abbf7c7a4",
   "metadata": {},
   "outputs": [],
   "source": [
    "Ax, Ay = A.sel(time=slice(tA0,  tA1)), Az.sel(time=slice(tA0, tA1))"
   ]
  },
  {
   "cell_type": "code",
   "execution_count": null,
   "id": "c5edf961-303d-4126-af23-44c5b6b5e6c5",
   "metadata": {},
   "outputs": [],
   "source": []
  },
  {
   "cell_type": "code",
   "execution_count": null,
   "id": "bab7c3e9-039e-40af-a588-cd0101b88421",
   "metadata": {},
   "outputs": [],
   "source": [
    "d['temp'][0]"
   ]
  },
  {
   "cell_type": "code",
   "execution_count": null,
   "id": "4d6e15c9-270e-44ee-b9c1-911ca3578fb6",
   "metadata": {},
   "outputs": [],
   "source": [
    "type(d)"
   ]
  },
  {
   "cell_type": "code",
   "execution_count": null,
   "id": "b0ed53a4-6279-4ab4-8000-463868fbdb38",
   "metadata": {},
   "outputs": [],
   "source": [
    "ChartSensor(profiles, [7, 11], [0], d['temp'][0], d['temp'][1], \"temp\", \"red\", 'ascent', 10, 10, z0=-200., z1=0.)"
   ]
  },
  {
   "cell_type": "code",
   "execution_count": null,
   "id": "049d4cff-b1d2-4152-a4ba-41e2891b050d",
   "metadata": {
    "tags": []
   },
   "outputs": [],
   "source": [
    "toc = time()\n",
    "fig,axs = ChartTwoSensors(profiles, [ranges['temp'], ranges['salinity']], profile_list, \n",
    "                          d['temp'][0],     -d['temp'][1],     'Temperature', colors['temp'],     'ascent',\n",
    "                          d['salinity'][0], -d['salinity'][1], 'Salinity',    colors['salinity'], 'ascent', 6, 6)\n",
    "print(time() - toc, 'seconds\\n\\n\\n')"
   ]
  },
  {
   "cell_type": "markdown",
   "id": "84ccaab8-742c-4c7d-99c3-d1fa287749ae",
   "metadata": {},
   "source": [
    "### Interpretation\n",
    "\n",
    "The upper 70m is a homogeneous *mixed layer*. The transitional section below this\n",
    "(particularly in terms of salinity) from 70m to 95m represents a sharp change in temperature and salinity.\n",
    "This is the *pycnocline*, a boundary separating the mixed layer from the lower ocean. From 95m down\n",
    "to the lowest observed depth of 195m we have water that is colder, more saline, and more dense. The cold\n",
    "temperature excursion in the data in the 70--90m depth range is an anomalous departure from a monotonic \n",
    "gradient. "
   ]
  },
  {
   "cell_type": "code",
   "execution_count": null,
   "id": "a10605ea-57a9-4d9e-a593-e36483d06eee",
   "metadata": {
    "tags": []
   },
   "outputs": [],
   "source": [
    "# density and pressure\n",
    "fig,axs = ChartTwoSensors(profiles, [ranges['density'], ranges['conductivity']], profile_list, \n",
    "                          d['density'][0],      -d['density'][1],      'Density',      colors['density'],    'ascent',\n",
    "                          d['conductivity'][0], -d['conductivity'][1], 'Conductivity', 'blue', 'ascent', 6, 6)"
   ]
  },
  {
   "cell_type": "markdown",
   "id": "f461af19-2e98-4417-b5ad-68cc6041e679",
   "metadata": {},
   "source": [
    "Interpretation: ...hmmmm... compared to the one prior: It seems like conductivity and salinity are not 'pretty much the same thing'..."
   ]
  },
  {
   "cell_type": "code",
   "execution_count": null,
   "id": "ff9ad8cd-eb68-483b-a565-d0299beb91eb",
   "metadata": {
    "tags": []
   },
   "outputs": [],
   "source": [
    "# dissolved oxygen and chlorophyll-a\n",
    "fig,axs = ChartTwoSensors(profiles, [ranges['do'], ranges['chlora']], profile_list, \n",
    "                          d['do'][0],     -d['do'][1], 'Dissolved Oxygen', colors['do'],    'ascent',\n",
    "                          d['chlora'][0], -d['chlora'][1],    'Chlorophyll-A',  colors['chlora'], 'ascent', 6, 6)"
   ]
  },
  {
   "cell_type": "code",
   "execution_count": null,
   "id": "1003765c-b69f-4bb0-a67a-ff959ec56197",
   "metadata": {
    "tags": []
   },
   "outputs": [],
   "source": [
    "# fdom and backscatter\n",
    "fig,axs = ChartTwoSensors(profiles, [ranges['fdom'], ranges['backscatter']], profile_list, \n",
    "                          d['fdom'][0],         -d['fdom'][1],        'FDOM', colors['do'], 'ascent',\n",
    "                          d['backscatter'][0],  -d['backscatter'][1], 'Backscatter', colors['chlora'], 'ascent', 6, 6)"
   ]
  },
  {
   "cell_type": "code",
   "execution_count": null,
   "id": "9ce31097-51b2-48d4-8692-bf69b13fa6ae",
   "metadata": {
    "tags": []
   },
   "outputs": [],
   "source": [
    "# pH and pCO2\n",
    "# These sensors are recording only on midnight and noon *descents*. The first of these 0n\n",
    "# January 1 2022 is profile 3, not profile 0, hence the third argument is [3], the first \n",
    "# first midnight profile of January. Next would be profiel 8, the subsequent noon. \n",
    "fig,axs = ChartTwoSensors(profiles, [ranges['ph'], ranges['pco2']], [3],\n",
    "                          d['ph'][0],    -d['ph'][1], 'pH', colors['ph'], 'descent',\n",
    "                          d['pco2'][0],  -d['pco2'][1], 'pCO2', colors['pco2'], 'descent', 6, 6)"
   ]
  },
  {
   "cell_type": "code",
   "execution_count": null,
   "id": "a66e0fa5-a504-42cf-abe4-82f0b82b943b",
   "metadata": {
    "tags": []
   },
   "outputs": [],
   "source": [
    "# Spectral irradiance is not currently in place\n",
    "if False:\n",
    "    fig,axs = ChartTwoSensors(profiles, [ranges['spkir412nm'], ranges['spkir555nm']], [8],\n",
    "                              d['spkir412nm'][0], d['spkir412nm'][1], '412nm', colors['spkir412nm'], 'ascent',\n",
    "                              d['spkir555nm'][0], d['spkir555nm'][1], '555nm', colors['spkir555nm'], 'ascent', 6, 6)\n",
    "\n",
    "if False:\n",
    "    fig,axs = ChartTwoSensors(profiles, [ranges['par'], ranges['spkir620nm']], [8, 80],\n",
    "                              d['par'][0], d['par'][1], 'PAR', colors['par'], 'ascent',\n",
    "                              d['spkir620nm'][0], d['spkir620nm'][1], 'spkir620nm spkir', \n",
    "                              colors['spkir620nm'], 'ascent', 6, 6)"
   ]
  },
  {
   "cell_type": "code",
   "execution_count": null,
   "id": "d24bdc33-b1a8-47ce-b82d-5cd2b41dfcec",
   "metadata": {
    "tags": []
   },
   "outputs": [],
   "source": [
    "# Nitrate and pH (midnight: ascent for nitrate, descent for pH)\n",
    "fig,axs = ChartTwoSensors(profiles, [ranges['nitrate'], ranges['ph']], [3],     # (then 8, 12, 17)\n",
    "                          d['nitrate'][0], -d['nitrate'][1], 'nitrate', colors['nitrate'], 'ascent',\n",
    "                          d['ph'][0], -d['ph'][1], 'pH', colors['ph'], 'descent', 6, 6)"
   ]
  },
  {
   "cell_type": "code",
   "execution_count": null,
   "id": "de6fd9ef-f269-403c-9831-4c183db18564",
   "metadata": {
    "tags": []
   },
   "outputs": [],
   "source": [
    "# Current velocity 'east' and 'north'\n",
    "fig,axs = ChartTwoSensors(profiles, [ranges['east'], ranges['north']], [0],\n",
    "                          d['east'][0], -d['east'][1], 'east velocity', colors['east'], 'ascent',\n",
    "                          d['north'][0], -d['north'][1], 'north velocity', colors['north'], 'ascent', 6, 4)"
   ]
  },
  {
   "cell_type": "markdown",
   "id": "3f63d009-d81b-4976-8407-1d7301502ee9",
   "metadata": {},
   "source": [
    "## A next type of visualization: bundle charts\n",
    "\n",
    "\n",
    "The 'depth-signal' charts above illustrate epipelagic snapshots in terms of single profiles. \n",
    "A next logical step is to create 'bundle charts' from consecutive profiles for a given sensor.\n",
    "This introduces a sense of variability across a longer time interval. Again we note that \n",
    "nine consecutive profiles correspond to a single day. \n"
   ]
  },
  {
   "cell_type": "code",
   "execution_count": null,
   "id": "663a8767-a802-4ec4-8b98-43de19ff1bf5",
   "metadata": {
    "tags": []
   },
   "outputs": [],
   "source": [
    "if False: ShowStaticBundles(d, profiles)   # broken"
   ]
  },
  {
   "cell_type": "markdown",
   "id": "f5e4e808-972f-42f4-aecd-d69a55f9285e",
   "metadata": {},
   "source": [
    "```\n",
    "def BundleChart(profiles, date0, date1, time0, time1, wid, hgt, data, title):\n",
    "    '''\n",
    "    Create a bundle chart: Multiple profiles showing sensor/depth in ensemble.\n",
    "        date0   start / end of time range: date only, range is inclusive [date0, date1]\n",
    "        date1\n",
    "        time0   start / end time range for each day\n",
    "        time1       (this scheme permits selecting midnight or noon)\n",
    "        wid     figure size\n",
    "        hgt\n",
    "        data    a value from the data dictionary (5-tuple: includes range and color)\n",
    "        title   chart title\n",
    "    '''\n",
    "\n",
    "BundleChart(profiles, dt64('2022-01-01'), dt64('2022-02-01'), td64(0, 'h'), td64(24, 'h'), 8, 6,  'Dissolved Oxygen')\n",
    "```"
   ]
  },
  {
   "cell_type": "code",
   "execution_count": null,
   "id": "da79f6ed-792c-4142-86ad-f2ad0fcf65fc",
   "metadata": {
    "tags": []
   },
   "outputs": [],
   "source": [
    "def LocalGenerateTimeWindowIndices(profiles, dt0, dt1):\n",
    "    '''\n",
    "    In UTC: Passed a time window via two bounding datetimes. Return a list of \n",
    "    profile indices for profiles that begin ascent within this time box. These \n",
    "    indices are rows in the profiles DataFrame.\n",
    "    '''\n",
    "    pidcs = []\n",
    "    for i in range(len(profiles)):\n",
    "        a0 = profiles[\"a0t\"][i]\n",
    "        if a0 >= dt0 and a0 <= dt1: pidcs.append(i)\n",
    "    return pidcs\n",
    "\n",
    "\n",
    "def LocalBundleChart(profiles, dt0, dt1, wid, hgt, data, depth, lo, hi, title, color):\n",
    "    pidcs = LocalGenerateTimeWindowIndices(profiles, dt0, dt1)\n",
    "    if len(pidcs) < 1: \n",
    "        print('LocalBundleChart(): Zero profile hits')\n",
    "        return False\n",
    "    fig, ax = plt.subplots(figsize=(wid, hgt), tight_layout=True)\n",
    "    for i in range(len(pidcs)):\n",
    "        ta0, ta1 = profiles[\"a0t\"][pidcs[i]], profiles[\"a1t\"][pidcs[i]]\n",
    "        ax.plot(data.sel(time=slice(ta0,  ta1)), depth.sel(time=slice(ta0, ta1)), ms = 4., color=color)\n",
    "    ax.set(title = title)\n",
    "    ax.set(xlim = (lo, hi), ylim = (-200, 0))\n",
    "    return ax\n",
    "\n",
    "bundle_start_time, bundle_end_time = dt64('2022-01-01T00:00:00'), dt64('2022-01-04T00:00:00')\n",
    "LocalBundleChart(profiles, bundle_start_time, bundle_end_time, \n",
    "                 8, 8, d['do'][0], -d['do'][1], d['do'][2], d['do'][3], 'Dissolved Oxygen: OSB, 3 days', d['do'][4])"
   ]
  },
  {
   "cell_type": "code",
   "execution_count": null,
   "id": "9e8cdf75-0df5-40ac-a9fe-2ab28de2fa64",
   "metadata": {
    "tags": []
   },
   "outputs": [],
   "source": [
    "bundle_start_time, bundle_end_time = dt64('2022-01-01T00:00:00'), dt64('2022-02-01T00:00:00')\n",
    "LocalBundleChart(profiles, bundle_start_time, bundle_end_time, \n",
    "                 8, 8, d['do'][0], -d['do'][1], d['do'][2], d['do'][3], 'Dissolved Oxygen', d['do'][4])"
   ]
  },
  {
   "cell_type": "markdown",
   "id": "aee163dc-7c2d-4ad6-94e1-5f3d821e55f1",
   "metadata": {},
   "source": [
    "### **Interpretation** \n",
    "\n",
    "The three-day time interval implies at most 27 profiles. Some might be missing. The low profile \n",
    "depth is fairly consistently around 195 meters. The upper depth shows more variability, 10 to 30 meters.\n",
    "\n",
    "\n",
    "The mixed layer depth (transition to pycnocline) varies in depth from 50 to 70 meters. \n",
    "Mixed layer depth is influenced by surface winds driving wave action and hence mixing. \n",
    "\n",
    "\n",
    "There are anomalies in the month-long dataset: Dissolved oxygen excursions below the main 'bundle'. \n",
    "In particular four 'low oxygen' profiles originate in the pycnocline and extend down to the platform \n",
    "depth at 190 meters. To verify that these profiles are consecutive we need a convenient scrolling\n",
    "interface; which we now introduce by means of an interactive 'widget'."
   ]
  },
  {
   "cell_type": "code",
   "execution_count": null,
   "id": "fb0913c9-f44f-467c-8fdc-7bb25e08e077",
   "metadata": {
    "tags": []
   },
   "outputs": [],
   "source": [
    "from ipywidgets import interact, widgets\n",
    "from traitlets import dlink"
   ]
  },
  {
   "cell_type": "code",
   "execution_count": null,
   "id": "cf424214-afb5-4b42-b5f0-0f1d4f1f2496",
   "metadata": {
    "tags": []
   },
   "outputs": [],
   "source": [
    "def BundleInteract(sensor_key, time_index, bundle_size):\n",
    "    '''\n",
    "    Consider a time range that includes many (e.g. 279) consecutive profiles. This function plots sensor data\n",
    "    within the time range. Choose the sensor using a dropdown. Choose the first profile using the start slider.\n",
    "    Choose the number of consecutive profiles to chart using the bundle slider. \n",
    "    Details\n",
    "      - There is no support at this time for selecting midnight or noon profiles exclusively\n",
    "          - nitrate, ph and pco2 bundle charts will be correspondingly sparse\n",
    "      - There is a little bit of intelligence built in to the selection of ascent or descent\n",
    "          - most sensors measure on ascent or ascent + descent. pco2 and ph are descent only\n",
    "          - ph and pco2 still have a charting bug \"last-to-first line\" clutter: For some reason\n",
    "            the first profile value is the last value from the prior profile. There is a hack in\n",
    "            place (\"i0\") to deal with this.\n",
    "      - All available profiles are first plotted in light grey\n",
    "          - This tacitly assumes a month or less time interval for the current full dataset\n",
    "    '''\n",
    "    \n",
    "    \n",
    "    (phase0, phase1, i0) = ('a0t', 'a1t', 0) if not (sensor_key == 'ph' or sensor_key == 'pco2') else ('d0t', 'd1t', 1)\n",
    "    x    = d[sensor_key][0]\n",
    "    z    = d[sensor_key][1]\n",
    "    xlo = d[sensor_key][2]\n",
    "    xhi = d[sensor_key][3]\n",
    "    xtitle = sensor_names[sensor_key]\n",
    "    xcolor = d[sensor_key][4]\n",
    "\n",
    "    # This configuration code block is hardcoded to work with Jan 2022\n",
    "    date0, date1   = dt64('2022-01-01T00:00:00'), dt64('2022-02-01T00:00:00')\n",
    "    wid, hgt       = 9, 6\n",
    "    x0, x1, z0, z1 = xlo, xhi, -200, 0\n",
    "    title          = xtitle\n",
    "    color          = xcolor\n",
    "    pidcs          = LocalGenerateTimeWindowIndices(profiles, date0, date1)    # !!!!! either midn or noon, not both\n",
    "    nProfiles      = len(pidcs)\n",
    "    \n",
    "    fig, ax = plt.subplots(figsize=(wid, hgt), tight_layout=True)\n",
    "    \n",
    "    # insert code: light grey full history\n",
    "    iProf0 = 0\n",
    "    iProf1 = nProfiles\n",
    "    for i in range(iProf0, iProf1):\n",
    "        pIdx = pidcs[i]\n",
    "        ta0, ta1 = profiles[phase0][pIdx], profiles[phase1][pIdx]\n",
    "        xi, zi = x.sel(time=slice(ta0,  ta1)), -z.sel(time=slice(ta0, ta1))\n",
    "        ax.plot(xi[i0:], zi[i0:], ms = 4., color = 'xkcd:light grey')    \n",
    "    \n",
    "    # resume normal code\n",
    "    iProf0 = time_index if time_index < nProfiles else nProfiles\n",
    "    iProf1 = iProf0 + bundle_size if iProf0 + bundle_size < nProfiles else nProfiles\n",
    "    for i in range(iProf0, iProf1):\n",
    "        pIdx = pidcs[i]\n",
    "        ta0, ta1 = profiles[phase0][pIdx], profiles[phase1][pIdx]\n",
    "        xi, zi = x.sel(time=slice(ta0,  ta1)), -z.sel(time=slice(ta0, ta1))\n",
    "        ax.plot(xi[i0:], zi[i0:], ms = 4., color=color, mfc=color)\n",
    "    ax.set(title = title)\n",
    "    ax.set(xlim = (x0, x1), ylim = (z0, z1))\n",
    "\n",
    "    # Add text indicating the current time range of the profile bundle\n",
    "    # tString = str(p[\"ascent_start\"][pIdcs[iProf0]])\n",
    "    # if iProf1 - iProf0 > 1: tString += '\\n ...through... \\n' + str(p[\"ascent_start\"][pIdcs[iProf1-1]])\n",
    "    # ax.text(px, py, tString)\n",
    "    \n",
    "    plt.show()\n",
    "    return"
   ]
  },
  {
   "cell_type": "code",
   "execution_count": null,
   "id": "a37208cf-a150-4b0a-98ce-2dff447edddd",
   "metadata": {
    "tags": []
   },
   "outputs": [],
   "source": [
    "def Interactor(continuous_update = False):\n",
    "    '''Set up three bundle-interactive charts, vertically. Independent sliders for choice of \n",
    "    sensor, starting profile by index, and number of profiles in bundle. (90 profiles is about\n",
    "    ten days.) A fast machine can have cu = True to give a slider-responsive animation. Make\n",
    "    it False to avoid jerky 'takes forever' animation on less powerful machines.\n",
    "    '''\n",
    "    style = {'description_width': 'initial'}\n",
    "    \n",
    "    # data dictionary d{} keys:\n",
    "    optionsList = ['temp', 'salinity', 'density', 'conductivity', 'do', 'chlora', 'fdom', 'bb', 'pco2', \\\n",
    "                   'ph', 'par', 'nitrate', 'east', 'north', 'up']\n",
    "\n",
    "    interact(BundleInteract, \\\n",
    "                             sensor_key = widgets.Dropdown(options=optionsList,  value=optionsList[0], description='sensor'), \\\n",
    "                             time_index = widgets.IntSlider(min=0, max=270, step=1, value=160,                    \\\n",
    "                                                            layout=widgets.Layout(width='35%'),                   \\\n",
    "                                                            continuous_update=False, description='bundle start',  \\\n",
    "                                                            style=style),\n",
    "                             bundle_size = widgets.IntSlider(min=1, max=90, step=1, value=20,                     \\\n",
    "                                                            layout=widgets.Layout(width='35%'),                   \\\n",
    "                                                            continuous_update=False, description='bundle width',  \\\n",
    "                                                            style=style))\n",
    "\n",
    "    return\n",
    "\n",
    "Interactor(False)"
   ]
  },
  {
   "cell_type": "markdown",
   "id": "2867c76c-bbe0-410b-9451-3e00091aa583",
   "metadata": {},
   "source": [
    "### **Interpretation**\n",
    "\n",
    "\n",
    "Selecting dissolved oxygen (**`do`**) with `start = 0`, `width = 90` shows two anomalies, \n",
    "both *low* oxygen levels. The full bundle is shown in light grey in the background for context.\n",
    "Narrowing in we get `start = 59` and `width = 4` showing four consecutive\n",
    "anomalous profiles. The anomaly extends as far down as the profiler platform at ~195 meters.\n",
    "\n",
    "\n",
    "The bundle width slider can be maximized to reinforce the \n",
    "typical (bundle-based) profile distribution in relation to the second anomaly. \n",
    "\n",
    "\n",
    "Incidentally other anomalies are also apparent, for example a single outlier in profile 211.\n",
    "\n",
    "\n",
    "***Temperature coincidence***: An obvious next thought is to check for *coincidence*: This dissolved oxygen anomaly \n",
    "with other sensors.  Beginning with temperature: During the anomaly the mixed layer is apparently very small (30 meters) \n",
    "with a relatively cold upper water column temperature. Sub-pycnocline temperatures are in contrast comparatively warm. \n",
    "The pycnocline itself is very constricted and features temperature inversions.\n",
    "\n",
    "\n",
    "***Salinity coincidence***: The anomaly is again present, with a shallow fixed layer and comparatively \n",
    "high salinity throughout the profiler depth range. \n",
    "\n",
    "\n",
    "***Density coincidence***: Sharp increase through the pycnocline, anomalously high.\n",
    "\n",
    "\n",
    "***Other coincidences***: pH, pCO2, nitrate, chlorophyll: All anomalous, respectively low, high, high, low."
   ]
  },
  {
   "cell_type": "code",
   "execution_count": null,
   "id": "19fe7c88-76f0-499d-bacf-10188c50408f",
   "metadata": {
    "tags": []
   },
   "outputs": [],
   "source": [
    "Interactor(False)\n",
    "Interactor(False)\n",
    "Interactor(False)"
   ]
  },
  {
   "cell_type": "code",
   "execution_count": null,
   "id": "fa89a731-5748-44ea-870a-d73bf3eb7f3a",
   "metadata": {
    "tags": []
   },
   "outputs": [],
   "source": [
    "ZuluToLocal = td64(8, 'h')\n",
    "for i in range(4): print(profiles['a0t'][59+i]-ZuluToLocal)\n",
    "print('\\n\\nZulu\\n')\n",
    "for i in range(4): print(profiles['a0t'][59+i]-ZuluToLocal)"
   ]
  },
  {
   "cell_type": "markdown",
   "id": "dd83aeb4-10ca-4189-8d00-4e25715ae37b",
   "metadata": {},
   "source": [
    "Summary: The OSB shallow profiler observed a mass of acidic, nutrient rich water with depleted oxygen \n",
    "and elevated carbon dioxide on January 7 2022. The episode lasted ten hours.\n",
    "\n",
    "\n",
    "Questions about the sea state\n",
    "- What was the current before / during / after this anomaly?\n",
    "- Was the onset sharp or gradual? Decay to typical sharp or gradual?\n",
    "- What was the windspeed? Wave height? "
   ]
  },
  {
   "cell_type": "markdown",
   "id": "b78f73b5-0e5e-430b-92b3-5e65f8b2a6bc",
   "metadata": {},
   "source": [
    "The NOAA **National Data Buoy Center** (NDBC) has historical data available for download.\n",
    "[This website](https://www.ndbc.noaa.gov/histsearch.php) is the search interface. Stations \n",
    "46098 and 46050 are closest to the Oregon Slope Base observing site: Respective distances\n",
    "are 1 km and 46 km. Datasets are downloadable\n",
    "as text files (space delimiter). No-data values typically have nines in them, as `999` \n",
    "or `99.00` or `999.0`. Observations are at 10 minute intervals.  \n",
    "\n",
    "\n",
    "### Historical buoy data: Metadata\n",
    "\n",
    "\n",
    "The first two rows of a data file are column headers: Type and units. An interpretive \n",
    "key may be found [here](https://www.ndbc.noaa.gov/faq/measdes.shtml). For the two stations\n",
    "of interest, 46098 and 46050, year = 2022, we have these column headers:\n",
    "\n",
    "```\n",
    "YY  MM DD hh mm     Time down to minutes: UTC not local\n",
    "WDIR WSPD GST       Wind speed, direction and gusts; direction is degrees clockwise from true north\n",
    "WVHT                Wave height, meters\n",
    "DPD   APD           Dominant and Average wave period\n",
    "MWD                 Mean wave direction (direction from which; deg CW from TN as above)\n",
    "PRES                Sea surface atmospheric pressure (hPa, hectoPascale or equiv. millibars)\n",
    "ATMP                Air temperature (deg C)\n",
    "WTMP                Surface water temperature (deg C)\n",
    "DEWP                Dewpoint (deg C)\n",
    "VIS                 Visibility (mi)\n",
    "TIDE                Tide (ft)\n",
    "```\n",
    "\n",
    "### Locations, proximity\n",
    "\n",
    "\n",
    "```\n",
    "Oregon Slope Base:  44.37415 N      124.95648 W\n",
    "Buoy 46050:         44.669   N      124.546   W       Distance to OSB: 46km\n",
    "Buoy 46098:         44.378   N      124.947   W       Distance to OSB:  1km\n",
    "```"
   ]
  },
  {
   "cell_type": "code",
   "execution_count": null,
   "id": "766f03ae-fdb7-4c6c-8645-1975c35e0354",
   "metadata": {
    "tags": []
   },
   "outputs": [],
   "source": [
    "# This cell calculates distances from NDBC buoys to the OSB shallow profiler\n",
    "\n",
    "from math import cos, pi, sqrt\n",
    "\n",
    "loc_osb_lat, loc_osb_lon               = 44.37415, -124.95648\n",
    "loc_buoy_46050_lat, loc_buoy_46050_lon = 44.669,   -124.546\n",
    "loc_buoy_46098_lat, loc_buoy_46098_lon = 44.378,   -124.947\n",
    "\n",
    "earth_r   = 6378000\n",
    "earth_c   = earth_r * 2 * pi\n",
    "deg_lat_m = earth_c / 360\n",
    "\n",
    "print('one degree of latitude approximately', round(deg_lat_m, 1), 'meters')\n",
    "\n",
    "meanlat    = (1/3)*(loc_osb_lat + loc_buoy_46050_lat + loc_buoy_46098_lat)\n",
    "dtr        = pi/180\n",
    "lon_stride = deg_lat_m * cos(meanlat*dtr)\n",
    "\n",
    "print('At this latitude one degree of longitude is', round(lon_stride, 1), 'meters')\n",
    "\n",
    "dlat = loc_osb_lat - loc_buoy_46050_lat\n",
    "dlon = loc_osb_lon - loc_buoy_46050_lon\n",
    "d_osb_46050 = sqrt((dlat*deg_lat_m)**2 + (dlon*lon_stride)**2)\n",
    "\n",
    "dlat = loc_osb_lat - loc_buoy_46098_lat\n",
    "dlon = loc_osb_lon - loc_buoy_46098_lon\n",
    "d_osb_46098 = sqrt((dlat*deg_lat_m)**2 + (dlon*lon_stride)**2)\n",
    "\n",
    "print('Distance OSB to buoy 46050:', round(d_osb_46050, 1), 'm')\n",
    "print('Distance OSB to buoy 46098:', round(d_osb_46098, 1), 'm')"
   ]
  },
  {
   "cell_type": "code",
   "execution_count": null,
   "id": "e5654d2f-3058-4ce9-96af-4a7c0e61092b",
   "metadata": {
    "tags": []
   },
   "outputs": [],
   "source": [
    "# This cell reads in the 46098 (proximal) data to a pandas DataFrame\n",
    "ndbc_root_path     = './data/noaa/ndbc/'\n",
    "buoy_id            = '46098'\n",
    "year               = '2022'\n",
    "ndbc_filename      = 'station_' + buoy_id + '_year_' + year + '.txt'\n",
    "ndbc_path          = ndbc_root_path + ndbc_filename"
   ]
  },
  {
   "cell_type": "code",
   "execution_count": null,
   "id": "91c4ce63-1eeb-4cdc-8643-8cfbd038e13a",
   "metadata": {},
   "outputs": [],
   "source": [
    "# This cell can take a few minutes to run. It loads and tidies up the NDBC data from\n",
    "#   a site 1km from the OSB shallow profiler location.\n",
    "#\n",
    "# def ReadNDBCMetadata(fnm = './data/noaa/ndbc/station_46098_year_2022.txt'):\n",
    "#     \"\"\"\n",
    "#     See comment above on file format.\n",
    "#     The default input buoy is 800 meters from the Oregon Slope Base (OSB) site. Default year is 2022.\n",
    "#     \"\"\"\n",
    "df = pd.read_csv('./data/noaa/ndbc/station_46098_year_2022.txt', sep='\\s+', header = 0)\n",
    "df = df.drop([0])        # the second row of text is units for each column\n",
    "# df\n",
    "# df['Zulu'] = pd.to_datetime( )\n",
    "# df['Zulu'] = pd.to_datetime(df['#YY'] + '-' + str(df['MM']) + '-' + str(df['DD']))\n",
    "# df.dtypes gives all 'object'\n",
    "# print(df['#YY'][17]) etcetera for MM DD hh mm\n",
    "\n",
    "# timestamp = dt64(df['#YY'][1400] + '-' + df['MM'][1400] + '-' + df['DD'][1400] + ' ' + df['hh'][1400] + ':' + df['mm'][1400])\n",
    "# print(timestamp)\n",
    "# df['Zulu'] = pd.to_datetime(str(df['#YY']) + '-' + str(df['MM']) + '-' + str(df['DD']) + ' ' + str(df['hh']) + ':' + str(df['mm']))\n",
    "\n",
    "df['Zulu'] = pd.to_datetime(df['#YY'])\n",
    "for i in range(1, len(df)+1):\n",
    "    c_yr = str(df['#YY'][i])\n",
    "    c_mo = str(df['MM'][i])\n",
    "    c_dy = str(df['DD'][i])\n",
    "    c_hr = str(df['hh'][i])\n",
    "    c_mn = str(df['mm'][i])      # eschewing fixes like: if len(c_mo) == 1: c_mo = '0' + c_mo\n",
    "    df['Zulu'][i] = pd.to_datetime(c_yr + '-' + c_mo + '-' + c_dy + ' ' + c_hr + ':' + c_mn)\n",
    "\n",
    "df = df.drop(columns=['#YY', 'MM', 'DD', 'hh', 'mm'])\n",
    "\n",
    "df = df.astype({'WDIR': 'float'})\n",
    "df = df.astype({'WSPD': 'float'})\n",
    "df = df.astype({'GST': 'float'})\n",
    "df = df.astype({'WVHT': 'float'})\n",
    "df = df.astype({'DPD': 'float'})\n",
    "df = df.astype({'APD': 'float'})\n",
    "df = df.astype({'MWD': 'float'})\n",
    "df = df.astype({'PRES': 'float'})\n",
    "df = df.astype({'ATMP': 'float'})\n",
    "df = df.astype({'WTMP': 'float'})\n",
    "df = df.astype({'DEWP': 'float'})\n",
    "df = df.astype({'VIS': 'float'})\n",
    "df = df.astype({'TIDE': 'float'})             # to this point: df still contains 99 and 999 for \"no data\"\n",
    "                                              #   so we take a moment to replace those with np.NaN.\n",
    "dfNaN = df.replace([99, 999], np.NaN)         # Post-NaN-sub this fails: dfNaN['WVHT'][1:4459].plot()\n",
    "dfNaN                                         # Visual inspection of the cleaned up DataFrame"
   ]
  },
  {
   "cell_type": "code",
   "execution_count": null,
   "id": "eb39947e-06ca-4c52-acf6-8e18f57dae17",
   "metadata": {},
   "outputs": [],
   "source": [
    "# Artifact: Scatter plot\n",
    "# fig,ax = plt.subplots(figsize=(8,8))\n",
    "# ax.scatter(dfNaN['Zulu'][1:4459], dfNaN['WVHT'][1:4459], s=4, c='r')\n",
    "# , ds.z, marker='.', ms=11., color='k', mfc='r', linewidth='.0001')\n",
    "# ax.set(ylim = (0., 10.), title='OSB site wave height (meters) Jan 2022', ylabel='WVHT (m)', xlabel='Date')\n",
    "# ax.set(xticks=[dt64('2022-01-01'), dt64('2022-01-15T12:00'), dt64('2022-02-01')])\n",
    "\n",
    "wdir_time = dfNaN['Zulu'][1:4459]; wdir_data = dfNaN['WDIR'][1:4459]; wdir_mask = np.isfinite(wdir_data)\n",
    "wvht_time = dfNaN['Zulu'][1:4459]; wvht_data = dfNaN['WVHT'][1:4459]; wvht_mask = np.isfinite(wvht_data)\n",
    "wspd_time = dfNaN['Zulu'][1:4459]; wspd_data = dfNaN['WSPD'][1:4459]; wspd_mask = np.isfinite(wspd_data)\n",
    "wtmp_time = dfNaN['Zulu'][1:4459]; wtmp_data = dfNaN['WTMP'][1:4459]; wtmp_mask = np.isfinite(wtmp_data)\n",
    "\n",
    "fig,ax = plt.subplots(figsize=(12,6))\n",
    "ax.plot(wvht_time[wvht_mask], wvht_data[wvht_mask], linestyle='-', marker='.', ms=3, color='red', mec='black')\n",
    "ax.plot(profiles['a0t'][59], 5.8, linestyle='-', marker='.', color='blue')\n",
    "ax.set(ylim = (0., 10.), title='OSB site wave height (meters) Jan 2022', ylabel='WVHT (m)', xlabel='Date')\n",
    "ax.set(xticks=[dt64('2022-01-01'), dt64('2022-01-15T12:00'), dt64('2022-02-01')])"
   ]
  },
  {
   "cell_type": "code",
   "execution_count": null,
   "id": "24fcd230-0db3-4010-8845-5b1587e542a4",
   "metadata": {},
   "outputs": [],
   "source": [
    "fig,ax = plt.subplots(figsize=(12,6))\n",
    "twinx = ax.twinx()\n",
    "ax.plot(wspd_time[wspd_mask], wspd_data[wspd_mask], linestyle='-', marker='.', ms=3, color='black', mec='blue')\n",
    "ax.plot(profiles['a0t'][59], 5.8, linestyle='-', marker='.', color='blue')\n",
    "ax.set(ylim = (0., 22.), title='OSB site wind speed (meters / second) Jan 2022', ylabel='WSPD (m/s)', xlabel='Date')\n",
    "ax.set(xticks=[dt64('2022-01-01'), dt64('2022-01-15T12:00'), dt64('2022-02-01')])\n",
    "\n",
    "twinx.plot(wvht_time[wvht_mask], wvht_data[wvht_mask], linestyle='-', marker='.', ms=3, color='red', mec='black')\n",
    "twinx.set(ylim = (0., 10.))"
   ]
  },
  {
   "cell_type": "code",
   "execution_count": null,
   "id": "a875b6b8-01a1-4f49-b051-2b8b74979886",
   "metadata": {},
   "outputs": [],
   "source": [
    "wdir_data"
   ]
  },
  {
   "cell_type": "code",
   "execution_count": null,
   "id": "1d135de1-0651-4ead-8a0a-2b65519747cd",
   "metadata": {},
   "outputs": [],
   "source": [
    "print(wdir_mask[2], wdir_data[2])"
   ]
  },
  {
   "cell_type": "code",
   "execution_count": null,
   "id": "71b67370-d365-43c8-b44b-d662b9a5c7d4",
   "metadata": {},
   "outputs": [],
   "source": [
    "print(wdir_mask)"
   ]
  },
  {
   "cell_type": "code",
   "execution_count": null,
   "id": "7969fdda-aa8f-4d9e-8fc5-352c6b661290",
   "metadata": {},
   "outputs": [],
   "source": [
    "from matplotlib import dates as mdates"
   ]
  },
  {
   "cell_type": "code",
   "execution_count": null,
   "id": "31b3214e-f8b5-43b2-af84-944ed7d126b6",
   "metadata": {},
   "outputs": [],
   "source": [
    "wdir_data_list = list(wdir_data[wdir_mask])\n",
    "wdir_time_list = list(wdir_time[wdir_mask])\n",
    "prior_wdir = wdir_data_list[0]\n",
    "len_wdir = len(wdir_data_list)\n",
    "\n",
    "for i in range(len_wdir):\n",
    "    w = wdir_data_list[i]\n",
    "    while w - prior_wdir > 180: w -= 360\n",
    "    while w - prior_wdir < -180: w += 360\n",
    "    while w > 360 + 90: w -= 360\n",
    "    while w < -90: w += 360\n",
    "    prior_wdir = w\n",
    "    wdir_data_list[i] = w\n",
    "\n",
    "fig,ax = plt.subplots(figsize=(12,6))\n",
    "twinx = ax.twinx()\n",
    "ax.plot(wspd_time[wspd_mask], wspd_data[wspd_mask], linestyle='-', marker='.', ms=3, color='blue')\n",
    "ax.set(ylim = (0., 40.), ylabel='Wind speed (blue) in meters / second')\n",
    "ax.text(profiles['a0t'][59], 33, 'anomaly start')\n",
    "ax.plot(profiles['a0t'][59], 35, linestyle='-', marker='.', color='red')\n",
    "ax.set(xticks=[dt64('2022-01-01T00:00'), dt64('2022-01-15T12:00'), dt64('2022-02-01T00:00')])\n",
    "twinx.plot(wdir_time_list, wdir_data_list, linestyle='-', marker='.', ms=3, color='green')\n",
    "twinx.set(ylim = (-200, max(wdir_data_list)+20), \\\n",
    "       title='OSB wind speed (blue, m/s), direction (green, deg CW from True N): Jan 2022', \\\n",
    "       ylabel='Wind direction in deg CW from True North', xlabel='Date')\n",
    "\n",
    "locator = mdates.AutoDateLocator(minticks=7, maxticks=7)\n",
    "formatter = mdates.ConciseDateFormatter(locator)\n",
    "ax.xaxis.set_major_locator(locator)\n",
    "ax.xaxis.set_major_formatter(formatter)"
   ]
  },
  {
   "cell_type": "code",
   "execution_count": null,
   "id": "d041210d-b197-4af9-8816-2fea2d2576f0",
   "metadata": {},
   "outputs": [],
   "source": [
    "max(wdir_data_list)"
   ]
  },
  {
   "cell_type": "markdown",
   "id": "dea1e63a-c0e8-4dfc-aa2a-e5385597d9ab",
   "metadata": {},
   "source": [
    "### Interpretation\n",
    "\n",
    "The blue signal is wind speed; which tends to be more variable than the (red signal) waveheight. As the wind drops the wave height decays; and\n",
    "vice versa: There tends to be a phase lag between wind and wave height."
   ]
  },
  {
   "cell_type": "markdown",
   "id": "aea7ad41-7970-4c0f-a819-e6c1c0d728d5",
   "metadata": {},
   "source": [
    "### Resampling profiles to depth bins\n",
    "\n",
    "We have d['sensor'][0] and [1] as respectively sensor and depth DataArrays, with dimension/coordinate = time.\n",
    "That is, both sensor data and depth data are indexed by time of observation. However we are treating each profile\n",
    "like a snapshot of the water column; so time is not the key index. Rather this is depth; so we now bin the\n",
    "data on some vertical spatial interval. \n",
    "\n",
    "Practically this means a single profile will be a Dataset with dimension/coordinate `depth` at some spatial \n",
    "scale, e.g. 20 cm. Time will be dropped. We will bin both using mean and standard deviation.\n",
    "\n",
    "\n",
    "***Note: .resample() only operates on a time dimension. Please document: c.resample( --not time-- ) fails***"
   ]
  },
  {
   "cell_type": "code",
   "execution_count": null,
   "id": "07e4dee3-f9ca-4fa3-9b1a-e91c7bf7edef",
   "metadata": {
    "tags": []
   },
   "outputs": [],
   "source": [
    "def LocalGenerateBinnedProfileDatasetFromTimeSeries(a, b, t0, t1, binZ, sensor):\n",
    "    '''\n",
    "    Operate on DataArrays a and b to produce a Dataset c:\n",
    "        a is a sensor value as a function of time\n",
    "        b is depth as a function of (the same) time\n",
    "        This is presumed to span a single profile ascent or descent.\n",
    "        Depth is swapped in for time as the operative dimension\n",
    "        A regular depth profile is generated.\n",
    "        Both mean and standard deviation DataArrays are calculated and combined \n",
    "          into a new Dataset which is returned.\n",
    "    '''\n",
    "    a_sel, b_sel = a.sel(time=slice(t0,  t1)), b.sel(time=slice(t0, t1))\n",
    "    c = xr.combine_by_coords([a_sel, b_sel])\n",
    "    c = c.swap_dims({'time':'depth'})\n",
    "    c = c.drop_vars('time')\n",
    "    c = c.sortby('depth')\n",
    "    depth0, depthE = 0., 200.                                                     # depth of surface, depth of epipelagic\n",
    "    nBounds = int((depthE - depth0)/binZ + 1)\n",
    "    nCenters = nBounds - 1\n",
    "    depth_bounds = np.linspace(depth0, depthE, nBounds)                           # For 1001 bounds: 0., .20, ..., 200.\n",
    "    depth_centers = np.linspace(depth0 + binZ/2, depthE - binZ/2, nCenters)\n",
    "    cmean = c.groupby_bins('depth', depth_bounds, labels=depth_centers).mean()\n",
    "    cstd  = c.groupby_bins('depth', depth_bounds, labels=depth_centers).std()\n",
    "    cmean = cmean.rename({sensor: sensor + '_mean'})\n",
    "    cstd  = cstd.rename({sensor: sensor + '_std'})\n",
    "    c = xr.combine_by_coords([cmean, cstd])\n",
    "    return c\n",
    "\n",
    "def LocalChartSensorMeanStd(s, key_mean, key_std, key_z, range_mean, range_std, color_mean, color_std, wid, hgt, annot):\n",
    "    \"\"\"\n",
    "    Single chart, one profile, no time: Superimpose sensor depth-averaged mean data and \n",
    "    standard deviation. Axis format: Vertical down is depth, horizontal is sensor mean / std.\n",
    "    Data s[km], s[ks] are XArrays Dataset 's' DataArrays keyed km, ks, and then kz for depth. \n",
    "    Ranges are 2-tuples. Colors for mean and std as given, chart size wid x hgt.\n",
    "\n",
    "    annot[] is a list of strings to be attached to the chart, in order:\n",
    "        [0] sensor\n",
    "        [1] timestamp presumed Zulu of presumed ascent start\n",
    "        [2] vertical bin size presumed meters\n",
    "        [3] remark\n",
    "        [4] x-axis label\n",
    "        [5] y-axis label\n",
    "    \"\"\"\n",
    "    fig, ax = plt.subplots(figsize=(wid, hgt), tight_layout=True)\n",
    "    axtwin  = ax.twiny()\n",
    "    ax.plot(s[key_mean], -s[key_z],    ms = 4., color=color_mean, mfc=color_mean)\n",
    "    axtwin.plot(s[key_std], -s[key_z], ms = 4., color=color_std, mfc=color_std)\n",
    "    ax.set(    xlim = (range_mean[0], range_mean[1]), ylim = (-200, 0))\n",
    "    axtwin.set(xlim = (range_std[0],  range_std[1]),  ylim = (-200, 0))\n",
    "\n",
    "    # place annotations if len(string)\n",
    "    titlestring  = 'mean and standard deviation: one profile' if not len(annot[0]) else annot[0] + ' binned at ' + annot[2] + 'm: M/SD ' \n",
    "    xlabelstring = 'sensor value mean / std' if not len(annot[4]) else annot[4]\n",
    "    ylabelstring = 'depth (m)' if not len(annot[5]) else annot[5]\n",
    "    dtmsgstring  = '' if not len(annot[1]) else annot[1]\n",
    "    dtmsgX       = (range_mean[0] + range_mean[1])/2\n",
    "    remarkstring = '' if not len(annot[3]) else annot[3]\n",
    "    ax.set(title = titlestring, ylabel=ylabelstring, xlabel=xlabelstring)\n",
    "    ax.text(dtmsgX, -20, dtmsgstring)\n",
    "    ax.text(dtmsgX, -40, remarkstring)\n",
    "\n",
    "    return fig, ax\n",
    "\n"
   ]
  },
  {
   "cell_type": "code",
   "execution_count": null,
   "id": "8d2f2d12-ae79-4838-b575-3d86258a0e94",
   "metadata": {
    "tags": []
   },
   "outputs": [],
   "source": [
    "sensors = ['temp', 'salinity', 'density', 'do', 'chlora']\n",
    "stdevdivs = {'temp':20, 'salinity':20, 'density': 100000, 'do': 20, 'chlora': 20}\n",
    "sensors = ['density']\n",
    "stdevdivs = {'density':10000}\n",
    "\n",
    "# for profileIndex in [55, 56, 57, 58, 59, 60, 61, 62, 63]:\n",
    "for profileIndex in [55]:\n",
    "    for sensor in sensors:\n",
    "        (dkey0, dkey1) = ('d0t', 'd1t') if sensor == 'ph' or sensor == 'pco2' else ('a0t', 'a1t')    # ascent with 2 exceptions\n",
    "        for binSize in [0.20, 1.0]:\n",
    "            c = LocalGenerateBinnedProfileDatasetFromTimeSeries(d[sensor][0], d[sensor][1], \\\n",
    "                    profiles[dkey0][profileIndex], profiles[dkey1][profileIndex], binSize, sensor)\n",
    "            annot = [sensor, str(profiles[dkey0][profileIndex]), str(round(binSize, 2)), 'hmm', '', 'depth (meters) binned']\n",
    "            fig, ax = LocalChartSensorMeanStd(c, sensor + '_mean', sensor + '_std', 'depth_bins', \\\n",
    "                    [d[sensor][2], d[sensor][3]], [0., d[sensor][3]/stdevdivs[sensor]], 'blue', 'red', 6, 6, annot)   "
   ]
  },
  {
   "cell_type": "markdown",
   "id": "0ce2e860-8d5b-4e51-bf84-883e8671441e",
   "metadata": {
    "editable": true,
    "slideshow": {
     "slide_type": ""
    },
    "tags": []
   },
   "source": [
    "### Quo vadis\n",
    "\n",
    "\n",
    "For a given depth-bin size, for example 1.0 meters: We have a collection of samples for each bin.\n",
    "These samples yield a mean and a standard deviation. At the vertical center of the pycnocline the \n",
    "standard deviation will tend to reach a local maximum. As a result the depth of maximum standard \n",
    "deviation (abbreviation: DMSD) in the upper 100 meters is a proxy for the center depth of the pycnocline.\n",
    "\n",
    "\n",
    "The DMSD for dissolved oxygen will not necessarily coincide with the DMSD for another sensor such as temperature.\n",
    "\n",
    "\n",
    "It might be of interest to compare buoy-observed wave height with a sensor's DMSD, for example across the month. "
   ]
  },
  {
   "cell_type": "code",
   "execution_count": null,
   "id": "960b82a6-6c82-4a51-abd9-e4f7bb1416c8",
   "metadata": {},
   "outputs": [],
   "source": [
    "            annot = [sensor, str(profiles[dkey0][profileIndex]), str(round(binSize, 2)), 'hmm', '', 'depth (meters) binned']\n",
    "            fig, ax = LocalChartSensorMeanStd(c, sensor + '_mean', sensor + '_std', 'depth_bins', \\\n",
    "                    [d[sensor][2], d[sensor][3]], [0., d[sensor][3]/20], 'blue', 'red', 6, 6, annot)"
   ]
  },
  {
   "cell_type": "code",
   "execution_count": null,
   "id": "23b6560a-e550-4cb4-89c8-cbeefbde8676",
   "metadata": {},
   "outputs": [],
   "source": [
    "for p in range(59, 70):\n",
    "    c = LocalGenerateBinnedProfileDatasetFromTimeSeries(d['do'][0], d['do'][1], \\\n",
    "                    profiles['a0t'][p], profiles['a1t'][p], 1.0, 'do')\n",
    "    c.do_std.plot()\n",
    "    print()"
   ]
  },
  {
   "cell_type": "code",
   "execution_count": null,
   "id": "b70158ac-44d2-4cc1-9ebf-2356ebeab954",
   "metadata": {},
   "outputs": [],
   "source": []
  },
  {
   "cell_type": "code",
   "execution_count": null,
   "id": "3709fd06-ec49-4b98-9591-af55c242b7c2",
   "metadata": {},
   "outputs": [],
   "source": [
    "# practice getting the Depth of Max Std Dev DMSD\n",
    "for profileIndex in range(57, 58):\n",
    "    dirletter = 'a'\n",
    "    binSize = 1.\n",
    "    sensor = 'do'\n",
    "    t0, t1 = profiles[dirletter + '0t'][profileIndex], profiles[dirletter + '1t'][profileIndex]\n",
    "    c = LocalGenerateBinnedProfileDatasetFromTimeSeries(d['do'][0], d['do'][1], t0, t1, binSize, sensor)\n",
    "    thisDMSD = float(c.do_std.idxmax())\n",
    "    thisTime = tbar\n",
    "    print(t0, t1, thisDMSD, thisTime)"
   ]
  },
  {
   "cell_type": "code",
   "execution_count": null,
   "id": "b2bb4973-1e23-4c6d-a124-becf838e483c",
   "metadata": {},
   "outputs": [],
   "source": [
    "# practice getting the Depth of Max Std Dev DMSD\n",
    "for profileIndex in range(57, 58):\n",
    "    dirletter = 'a'\n",
    "    binSize = 1.\n",
    "    sensor = 'do'\n",
    "    t0, t1 = profiles[dirletter + '0t'][profileIndex], profiles[dirletter + '1t'][profileIndex]\n",
    "    c = LocalGenerateBinnedProfileDatasetFromTimeSeries(d['do'][0], d['do'][1], t0, t1, binSize, sensor)\n",
    "    c_upper100 = c.sel(depth_bins=slice(0.,  100.))\n",
    "    thisDMSD = float(c_upper100.do_std.idxmax())\n",
    "    thisTime = tbar\n",
    "    print(t0, t1, thisDMSD, thisTime)"
   ]
  },
  {
   "cell_type": "code",
   "execution_count": null,
   "id": "cfe6d871-8458-4b0f-8c00-b5af4bbe79ad",
   "metadata": {},
   "outputs": [],
   "source": [
    "c_upper100"
   ]
  },
  {
   "cell_type": "code",
   "execution_count": null,
   "id": "71492294-925e-46ad-b25c-a4941c0b1cea",
   "metadata": {},
   "outputs": [],
   "source": [
    "c"
   ]
  },
  {
   "cell_type": "code",
   "execution_count": null,
   "id": "f190d13a-f901-4532-9dbf-e052bf08c80a",
   "metadata": {},
   "outputs": [],
   "source": [
    "nProfiles = len(profiles)\n",
    "sensors = ['do', 'temp', 'salinity']\n",
    "for sensor in sensors:\n",
    "    DMSD             = []\n",
    "    ProfileTimestamp = []\n",
    "    for profileIndex in range(nProfiles):\n",
    "        dirletter = 'd' if sensor == 'ph' or sensor == 'pco2' else 'a'\n",
    "        t0, t1 = profiles[dirletter + '0t'][profileIndex], profiles[dirletter + '1t'][profileIndex]\n",
    "        tbar = t0 + (t1 - t0)/2\n",
    "        for binSize in [1.0]:\n",
    "            c = LocalGenerateBinnedProfileDatasetFromTimeSeries(d[sensor][0], d[sensor][1], t0, t1, binSize, sensor)\n",
    "            c_upper100 = c.sel(depth_bins=slice(0.,  100.))\n",
    "            if sensor == 'do':         thisDMSD = c_upper100.do_std.idxmax()\n",
    "            elif sensor == 'temp':     thisDMSD = c_upper100.temp_std.idxmax()\n",
    "            elif sensor == 'salinity': thisDMSD = c_upper100.salinity_std.idxmax()\n",
    "            thisTime = tbar\n",
    "        if thisDMSD < 100:               # some profiles are abandoned before reaching near-surface depth\n",
    "            DMSD.append(thisDMSD)\n",
    "            ProfileTimestamp.append(thisTime)\n",
    "        if not profileIndex % 20: print('done with profile', profileIndex, 'for sensor', sensor)\n",
    "    if sensor == 'do':         do_DMSD = DMSD[:]\n",
    "    elif sensor == 'temp':     temp_DMSD = DMSD[:]\n",
    "    elif sensor == 'salinity': salinity_DMSD = DMSD[:]"
   ]
  },
  {
   "cell_type": "code",
   "execution_count": null,
   "id": "6e6de85e-54ff-4c95-9775-167fb5f3fe57",
   "metadata": {},
   "outputs": [],
   "source": [
    "def BoxFilterList(a, w):\n",
    "    if not w % 2: return False\n",
    "    alen = len(a)\n",
    "    b = []\n",
    "    w_half = w//2                                    # 3 produces 1, 5 > 2, ...\n",
    "    for i in range(w_half):                     b.append(np.mean(a[0:i+w_half+1]))\n",
    "    for i in range(w_half,        alen-w_half): b.append(np.mean(a[i-w_half:i+w_half+1]))\n",
    "    for i in range(alen - w_half, alen):        b.append(np.mean(a[i-w_half:alen]))\n",
    "    return b\n",
    "\n",
    "do_DMSD_filtered = BoxFilterList(do_DMSD, 15)\n",
    "temp_DMSD_filtered = BoxFilterList(temp_DMSD, 15)\n",
    "salinity_DMSD_filtered = BoxFilterList(salinity_DMSD, 15)"
   ]
  },
  {
   "cell_type": "code",
   "execution_count": null,
   "id": "195e9f6a-d030-4790-8036-5a786e314061",
   "metadata": {},
   "outputs": [],
   "source": [
    "# time_data = dfNaN['Zulu'][1:4459]\n",
    "# wvht_data = dfNaN['WVHT'][1:4459]\n",
    "# mask_data = np.isfinite(wvht_data)"
   ]
  },
  {
   "cell_type": "code",
   "execution_count": null,
   "id": "1ba91dea-3a88-40a1-b8af-5c6e6c25aa92",
   "metadata": {},
   "outputs": [],
   "source": [
    "fig,ax=plt.subplots(figsize=(14,8))\n",
    "axtwin  = ax.twinx()\n",
    "ax.plot(    ProfileTimestamp,     temp_DMSD_filtered,   linestyle='-', marker='.', ms=4, color='blue', mec='black')\n",
    "axtwin.plot(time_data[mask_data], wvht_data[mask_data], linestyle='-', marker='.', ms=3, color='red',  mec='black')"
   ]
  },
  {
   "cell_type": "code",
   "execution_count": null,
   "id": "6641fd47-0c83-4763-b5c0-79af5d950a2f",
   "metadata": {},
   "outputs": [],
   "source": [
    "fig,ax=plt.subplots(figsize=(14,8))\n",
    "axtwin  = ax.twinx()\n",
    "ax.plot(    ProfileTimestamp, temp_DMSD_filtered, linestyle='-', marker='.', ms=4, color='blue', mec='black')\n",
    "axtwin.plot(ProfileTimestamp,   do_DMSD_filtered, linestyle='-', marker='.', ms=3, color='green',  mec='black')"
   ]
  },
  {
   "cell_type": "code",
   "execution_count": null,
   "id": "9703bf62-2ea3-4f3b-b671-1a65c61a606d",
   "metadata": {},
   "outputs": [],
   "source": [
    "fig,ax=plt.subplots(figsize=(14,8))\n",
    "axtwin  = ax.twinx()\n",
    "ax.plot(    ProfileTimestamp,     temp_DMSD_filtered, linestyle='-', marker='.', ms=4, color='blue', mec='black')\n",
    "axtwin.plot(ProfileTimestamp, salinity_DMSD_filtered, linestyle='-', marker='.', ms=3, color='cyan',  mec='black')"
   ]
  },
  {
   "cell_type": "code",
   "execution_count": null,
   "id": "67d9a838-ba1b-4a74-9661-6afa7ad363ef",
   "metadata": {},
   "outputs": [],
   "source": [
    "fig,ax=plt.subplots(figsize=(14,8))\n",
    "axtwin  = ax.twinx()\n",
    "ax.plot(    ProfileTimestamp,       do_DMSD_filtered, linestyle='-', marker='.', ms=4, color='green', mec='black')\n",
    "axtwin.plot(ProfileTimestamp, salinity_DMSD_filtered, linestyle='-', marker='.', ms=3, color='cyan',  mec='black')"
   ]
  },
  {
   "cell_type": "code",
   "execution_count": null,
   "id": "a77236f9-b25d-4324-adf0-2ccdc70f8c9b",
   "metadata": {},
   "outputs": [],
   "source": [
    "fig,ax=plt.subplots(figsize=(14,8))\n",
    "axtwin  = ax.twinx()\n",
    "ax.plot(    ProfileTimestamp,     do_DMSD_filtered,   linestyle='-', marker='.', ms=4, color='green', mec='black')\n",
    "axtwin.plot(time_data[mask_data], wvht_data[mask_data], linestyle='-', marker='.', ms=3, color='red',  mec='black')"
   ]
  },
  {
   "cell_type": "code",
   "execution_count": null,
   "id": "11f3d263-d629-4e1d-98a9-dcfc8f05165f",
   "metadata": {},
   "outputs": [],
   "source": [
    "fig,ax=plt.subplots(figsize=(14,8))\n",
    "axtwin  = ax.twinx()\n",
    "ax.plot(    ProfileTimestamp,     salinity_DMSD_filtered,   linestyle='-', marker='.', ms=4, color='cyan', mec='black')\n",
    "axtwin.plot(time_data[mask_data], wvht_data[mask_data],     linestyle='-', marker='.', ms=3, color='red',  mec='black')"
   ]
  },
  {
   "cell_type": "markdown",
   "id": "2b448f5d-605a-4c51-9d25-7a7bd10fbb84",
   "metadata": {},
   "source": [
    "### Quo vadis\n",
    "\n",
    "\n",
    "We can see from the above that the maximum standard deviation is likely to identify the pycnocline based on\n",
    "dissolved oxygen. Two dimensions then: Sensors and time give a view of this important feature. It seems that\n",
    "a snapshot analysis could be extended to a time series; so let's look at \n",
    "[this reference](https://tutorial.xarray.dev/intermediate/01-high-level-computation-patterns.html)\n",
    "for more on how to use built in xarray tools. "
   ]
  },
  {
   "cell_type": "markdown",
   "id": "60121256-e1fe-4d6e-8d1c-07bf80215090",
   "metadata": {},
   "source": [
    "## Concept material"
   ]
  },
  {
   "cell_type": "markdown",
   "id": "6c14596a-49a8-4020-96bf-467fa1e10280",
   "metadata": {},
   "source": [
    "The charts below place two sensors x 3 across for a total of six. "
   ]
  },
  {
   "cell_type": "code",
   "execution_count": null,
   "id": "781861b8-103f-4feb-bea7-5bf7bb61859e",
   "metadata": {},
   "outputs": [],
   "source": [
    "Image(filename='./../img/ABCOST_signals_vs_depth_and_time.png', width=600)"
   ]
  },
  {
   "cell_type": "code",
   "execution_count": null,
   "id": "d58c9726-6242-4953-8bb4-a78228eef3a6",
   "metadata": {
    "tags": []
   },
   "outputs": [],
   "source": [
    "Video('./../img/multisensor_animation.mp4', embed=True, width = 500, height = 500)"
   ]
  },
  {
   "cell_type": "markdown",
   "id": "5c2529fb-b28c-46f6-80d6-9727a74ea721",
   "metadata": {},
   "source": [
    "### MODIS surface chlorophyll"
   ]
  },
  {
   "cell_type": "code",
   "execution_count": null,
   "id": "29875680-a6d1-4d4e-be3c-279d52c52c04",
   "metadata": {},
   "outputs": [],
   "source": [
    "Image(filename=\"./../img/modis_chlorophyll.png\", width=600)"
   ]
  }
 ],
 "metadata": {
  "kernelspec": {
   "display_name": "Python 3 (ipykernel)",
   "language": "python",
   "name": "python3"
  },
  "language_info": {
   "codemirror_mode": {
    "name": "ipython",
    "version": 3
   },
   "file_extension": ".py",
   "mimetype": "text/x-python",
   "name": "python",
   "nbconvert_exporter": "python",
   "pygments_lexer": "ipython3",
   "version": "3.11.4"
  }
 },
 "nbformat": 4,
 "nbformat_minor": 5
}
