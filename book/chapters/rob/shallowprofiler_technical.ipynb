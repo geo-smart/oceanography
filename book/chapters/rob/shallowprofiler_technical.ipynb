{
 "cells": [
  {
   "cell_type": "markdown",
   "id": "d7face82-f51e-47d3-ab05-cc8c5fec2e0f",
   "metadata": {},
   "source": [
    "# Shallow Profiler: Technical\n",
    "\n",
    "\n",
    "This document documents the code.\n",
    "\n",
    "\n",
    "\n",
    "From the imported `shallowprofiler.py` module we have available `sensors`: A list of lists. \n",
    "Each entry is `[sensor_name, instrument_name]` so for example `sensors[4]` is `['temperature', 'ctd']`.\n",
    "To see the entirety run a Python cell with just `sensors`.\n",
    "\n",
    "With instrument and sensor names sorted (with spectral irradiance a special case) the next step\n",
    "is to build a data dictionary called **`d `** with keys corresponding to sensor (data) types:\n",
    "**`conductivity`, `temperature`, `pco2`** etcetera. The corresponding value for each sensor\n",
    "key is a five-tuple indexed \\[0\\], \\[1\\], ..., \\[4\\].\n",
    "\n",
    "\n",
    "```\n",
    "0: XArray DataArray: sensor data\n",
    "1: XArray DataArray: sensor depth (meters, negative down) corresponding to data\n",
    "2: float: Default charting lower limit for data\n",
    "3: float: Default charting upper limit for data\n",
    "4: string: Default chart color e.g. \"blue\"\n",
    "```"
   ]
  }
 ],
 "metadata": {
  "kernelspec": {
   "display_name": "Python 3 (ipykernel)",
   "language": "python",
   "name": "python3"
  },
  "language_info": {
   "codemirror_mode": {
    "name": "ipython",
    "version": 3
   },
   "file_extension": ".py",
   "mimetype": "text/x-python",
   "name": "python",
   "nbconvert_exporter": "python",
   "pygments_lexer": "ipython3",
   "version": "3.11.4"
  }
 },
 "nbformat": 4,
 "nbformat_minor": 5
}
