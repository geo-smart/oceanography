{
 "cells": [
  {
   "cell_type": "markdown",
   "metadata": {},
   "source": [
    "[Jupyter Book](https://geo-smart.github.io/oceanography/chapters/data.html) and [GitHub repo](https://github.com/geo-smart/oceanography).\n",
    "\n",
    "\n",
    "# Data\n",
    "\n",
    "\n",
    "The second part of this oceanography Jupyter Book is \n",
    "concerned with methods and technical details in support of the \n",
    "science presented in the first part. \n",
    "\n",
    "\n",
    "The **`Epipelargosy`** chapter concerned the upper water column as observed\n",
    "by the regional cabled array shallow profilers.\n",
    "\n",
    "\n",
    "## Shallow Profiler Data\n",
    "\n",
    "\n",
    "### Data types\n",
    "\n",
    "\n",
    "There are two data concepts:\n",
    "\n",
    "\n",
    "- Platform metadata: A record of when a profiler is at rest / ascending / descending\n",
    "- Sensor data: Sensor values as a function of depth for a given profile: Salinity, temperature etcetera\n",
    "\n",
    "\n",
    "We identify the sensor data of interest by pulling a time range from the platform metadata.\n",
    "For this purpose we refer to a rest interval followed by ascent followed by descent as\n",
    "a single shallow profiler *profile*.\n",
    "\n",
    "\n",
    "### Selecting sensor data from profile metadata\n",
    "\n",
    "\n",
    "Profiles take on the order of an hour for one ascent/descent cycle as the \n",
    "Science Pod traverses from the platform at a depth of 200 meters to near the surface\n",
    "and back again. Typically nine profiles run per day. We consier each profile \n",
    "to be an *observation* of the state of the epipelagic water column.\n",
    "A data chart of one such observation features a vertical axis for depth (with the surface at\n",
    "the top) and a horizontal axis for the sensor parameter. Note that there is no time axis \n",
    "in this chart scheme.\n",
    "\n",
    "\n",
    "Profile metadata is stored in a CSV file as a table of timestamps. A single profile consists\n",
    "of three consecutive stages as noted: Rest, Ascent, and Descent.\n",
    "(The Rest stage has the Science Pod parked in the platform at a depth of 200 meters.)\n",
    "Profile metadata is read into memory as a pandas DataFrame where each row corresponds\n",
    "to an entire profile. \n",
    "\n",
    "\n",
    "### Sensor data\n",
    "\n",
    "\n",
    "There are about 31 million seconds in a year; and the sampling rate for many\n",
    "shallow profilers is about one sample per second. As a result some data volume\n",
    "management is necessary. We can, for example, work with smaller blocks of time, \n",
    "typically somewhere between one day and one month.\n",
    "\n",
    "\n",
    "The current solution to managing a fairly large dataset is to create a symbolic\n",
    "link (`ln -s <destination> <source>`) to an empty folder and use the `dataloader.ipynb`\n",
    "notebook to populate it. Current emphasis is January 2022, Oregon Slope Base site.\n",
    "This will break the Jupyter Book (as I have no comprehension of linking the \n",
    "repository to an external data volume) so that will be a problem to solve another day; \n",
    "perhaps by staging the reduced datasets to an open cloud location. \n",
    "\n",
    "\n",
    "### Summary of data management considerations\n",
    "\n",
    "\n",
    "- Profile metadata is relatively small volume, resides within this Book/Repository\n",
    "- Sensor data volume can be understood in terms of measurements\n",
    "    - One measurement per second is typical\n",
    "    - 31 million seconds per year\n",
    "    - Each sensor measurement is { sensed value, pressure/depth, timestamp }\n",
    "        - Sensor data also includes some quality control; typically ignored (dropped) here\n",
    "    - There are about 22 sensor values\n",
    "        - Most measurements are made on *ascent*, some on *descent* as noted\n",
    "        - Three of these are from a fluorometer instrument\n",
    "        - Two of these are nitrate measurements\n",
    "        - Seven of these are spectral irradiance channels\n",
    "        - Not included: Spectrophotometer data\n",
    "    - Water density is a measurement derived from temperature, pressure and salinity\n",
    "    - Data goes back as far as 2015\n",
    "        - There are gaps in the data owing to maintenance etcetera\n",
    "    - There are three shallow profiler sites\n",
    "        - Coastal Endurance \"Oregon Offshore\" in 500m depth, distal edge of the continental shelf\n",
    "        - RCA \"Oregon Slope Base\" at 3000m depth, bottom of the continental shelf break\n",
    "        - RCA \"Axial Base\" at 2100m depth, further out in the Pacific at the base of Axial Seamount\n",
    "- Moderate-size datasets can be stored in this repository (upper limit about 50MB)\n",
    "- Large datasets can be saved external to the repository\n",
    "- We use virtual or *lazy* loading of data structures using the Python `xarray` library\n",
    "    - When a data file is 'read' the data are literally *not* read into memory\n",
    "        - Rather a description of the data is loaded into an XArray Dataset\n",
    "        - Operations on the data cause it to be *actually* read into memory\n",
    "            - Lazy loading facilitates data reduction:\n",
    "                - Strip away excess data elements that are not of interest\n",
    "                - Time-box a subset of the data\n",
    "                - Sub-sample the data to lower temporal / spatial resolution"
   ]
  },
  {
   "cell_type": "markdown",
   "metadata": {},
   "source": [
    "### Repository folder structure\n",
    "\n",
    "\n",
    "```\n",
    "~/book/_toc.yml               -- table of contents --\n",
    "       img/                   -- contains resource images --\n",
    "       chapters/              -- Jupyter notebooks map to book chapters --\n",
    "                data/               -- repo data storage space --\n",
    "                     modis/              -- Data from the MODIS satellite system\n",
    "                     argo/               -- Data from the ARGO drifter program\n",
    "                     roms/               -- Data from the Regional Ocean Modeling System (ROMS)\n",
    "                     rca/                -- Data from the regional cabled array--\n",
    "                         profiles/       -- Profile metadata folder--\n",
    "                                  axb/         -- Site subdirectories --\n",
    "                                  oos/\n",
    "                                  osb/\n",
    "                                      2019.csv     -- Profile metadata for 2019 at the OSB site --\n",
    "                         sensors/        -- Sensor (measurement) data from shallow profilers / platforms\n",
    "                                 axb/            -- Axial Base site\n",
    "                                 oos/            -- Oregon Offshore site\n",
    "                                 osb/            -- Oregons Slope Base site (sym-link to external volume)\n",
    "                                     temp_jan_22.nc       -- instrument = CTD, jan22 = time range, sensor = temperature\n",
    "```\n",
    "\n",
    "\n",
    "### Data resources \n",
    "\n",
    "\n",
    "Shallow profiler data was originally pulled from the [OOI Data Explorer](https://dataexplorer.oceanobservatories.org/).\n",
    "This practice is now deprecated in favor of the [Interactive Oceans **Data Portal**](https://interactiveoceans.washington.edu).\n",
    "The latter system includes shallow profiler data held on cloud object storage. The access pattern is described below.\n",
    "The **Interactive Oceans** website has built-in data exploration and is very educator-friendly. "
   ]
  },
  {
   "cell_type": "markdown",
   "metadata": {},
   "source": [
    "### Terminology\n",
    "\n",
    "\n",
    "* Regional Cabled Array (RCA): A cabled observatory on the sea floor and in select locations rising up through the water column: off the coast of Oregon\n",
    "* Site: A location in the RCA\n",
    "* Platform: A mechanical structure -- static or mobile -- at a site\n",
    "* Instrument: A device fastened to a platform that carries one or more sensors\n",
    "* Sensor: A device that measures some aspect of the ocean like pH or temperature\n",
    "* Stream: Data produced by a sensor as part of an instrument located on a platform at a site in the RCA\n",
    "* Profiler 'Oregon Slope Base'\n",
    "* Profiler 'Axial Base' PN3A \n",
    "* Profiler 'Oregon Offshore' (shared with the OSU Endurance array)"
   ]
  },
  {
   "cell_type": "markdown",
   "metadata": {},
   "source": [
    "### Sensor dictionary with abbreviations\n",
    "\n",
    "\n",
    "The following table lists sensors in relation to instruments. \n",
    "Short abbreviations are included. They are sometimes used in the code to \n",
    "make it easier to read. \n",
    "Spectral irradiance is abbreviated `spkir` in OOI nomenclature. This \n",
    "data is broken out by wavelength channel (7 total) into separate sensors.\n",
    "The `spec` instrument is a spectrophotometer with 83 channels. This \n",
    "is treated separate from the main collection of shallow profiler sensors. \n",
    "The `current` instrument is a platform-mounted current sensor providing\n",
    "three-dimensional estimates of current with depth.\n",
    "\n",
    "\n",
    "```\n",
    "Short     Sensor                Name used     Instrument     Sensor operates\n",
    "Abbrev.                         here          \n",
    "-----     ------                -------       ----------     -----------\n",
    "A         Chlorophyll-A         chlora        fluor          continuous\n",
    "B         backscatter           backscatter   fluor          continuous\n",
    "C         CDOM                  fdom          fluor          continuous\n",
    "D         Density               density       ctd            continuous\n",
    "E[]       Spec'r optical abs    oa            spec           ? (83 channels)\n",
    "F[]       Spec'r beam atten     ba            spec\n",
    "G         pCO2                  pco2          pco2           midnight/noon descent\n",
    "H         pH                    ph            ph             midnight/noon descent\n",
    "I[]       Spectral Irradiance   spkir412nm    spkir          ?\n",
    "                                spkir443nm\n",
    "                                spkir490nm\n",
    "                                spkir510nm\n",
    "                                spkir555nm\n",
    "                                spkir620nm\n",
    "                                spkir683nm\n",
    "K         Conductivity          conductivity  ctd            continuous\n",
    "N         Nitrate               nitrate       nitrate        midnight/noon ascent\n",
    "P         PAR                   par           par            continuous\n",
    "Q         pressure              pressure      ctd            continuous\n",
    "O         dissolved oxygen      do            do             continuous\n",
    "S         salinity              salinity      ctd            continuous\n",
    "T         temperature           temp          ctd            continuous\n",
    "U         velocity east         veast         current        continuous:\n",
    "V         velocity north        vnorth                           from platform?\n",
    "W         velocity up           vup                              looking up?\n",
    "Z         depth = pressure      depth         ctd            see 'pressure'\n",
    "```"
   ]
  },
  {
   "cell_type": "markdown",
   "metadata": {},
   "source": [
    "#### Code note\n",
    "\n",
    "\n",
    "This notebook refers to functions in modules `data.py` and `shallowprofiler.py`."
   ]
  },
  {
   "cell_type": "markdown",
   "metadata": {
    "tags": []
   },
   "source": [
    "***Tasks***\n",
    "\n",
    "\n",
    "- Does the S3 Zarr source go down on Sunday evenings? Is there a way to test if it is down?\n",
    "- This section does not demonstrate profile use; but it should\n",
    "- This section effectively does the profile-from-data chart twice; once is enough\n",
    "- Mothball the ReformatDataFile() function in `data.py` which is part of the old Data Explorer procedure.\n",
    "- Move ProfilerDepthChart() to a module file\n",
    "- Look for occurrences of cdom (change to fdom) and temperature (change to temp) and conductivity (change to conduct)\n",
    "- flort backscatter has multiple possibilities; I picked one; verify it is the right one with Wendi\n",
    "- Deal with the code artifact below on WriteProfile()\n",
    "\n",
    "\n",
    "```\n",
    "# def WriteProfile(date_id):\n",
    "#     fnm = '../data/osb_ctd_' + date_id + '_pressure.nc'                       \n",
    "#     a0, a1, d0, d1, r0, r1 = ProfileGenerator(fnm, 'z', True)\n",
    "#     # last 2 days chart check: xr.open_dataset(fnm)['z'][-1440*2:-1].plot()\n",
    "#     if not ProfileWriter('../profiles/osb_profiles_' + date_id + '.csv', a0, a1, d0, d1, r0, r1): print('ProfileWriter() is False')\n",
    "#    \n",
    "# for date_id in ['apr21', 'jul21', 'jan22']: WriteProfile(date_id)               # !!!!! hard coded flag\n",
    "```"
   ]
  },
  {
   "cell_type": "markdown",
   "metadata": {},
   "source": [
    "## Profiles\n",
    "\n",
    "\n",
    "This section describes profile metadata: Pre-generated and stored in this \n",
    "repository at relative path `./data/rca/profiles/<site-abbrev>`. \n",
    "\n",
    "\n",
    "- Time is UTM/Zulu.\n",
    "- Typically nine profiles run per day, two of which are noticeably longer in duration\n",
    "- The two longer profiles are at midnight and noon local time\n",
    "    - They are associated with nitrate, pCO2 and pH measurement\n",
    "    - These have built-in pauses on descent for equilibration\n",
    "- During *rest* intervals the profiler is secured to the platform at 200m depth\n",
    "    - The platform has its own set of instruments"
   ]
  },
  {
   "cell_type": "code",
   "execution_count": 1,
   "metadata": {
    "tags": []
   },
   "outputs": [
    {
     "name": "stdout",
     "output_type": "stream",
     "text": [
      "\n",
      "Jupyter Notebook running Python 3\n"
     ]
    },
    {
     "data": {
      "image/png": "[encoded data removed]",
      "text/plain": [
       "<Figure size 1200x400 with 1 Axes>"
      ]
     },
     "metadata": {},
     "output_type": "display_data"
    }
   ],
   "source": [
    "from matplotlib import pyplot as plt\n",
    "from shallowprofiler import *\n",
    "from data import *\n",
    "from charts import *\n",
    "\n",
    "RenderShallowProfilerTwoDayDepthChart()\n",
    "\n",
    "# This code intentionally disabled: Alternative (more expansive) view of shallow profiler cycling.\n",
    "if False: VisualizeProfiles('jan22', 31, '2022', '01', 'January', 'Oregon Slope Base', 'osb', 'ctd_jan22_conductivity.nc')"
   ]
  },
  {
   "cell_type": "markdown",
   "metadata": {},
   "source": [
    "#### How to use profile files\n",
    "\n",
    "- Read the file into a pandas Dataframe\n",
    "- Each row is a Rest --- Ascent --- Descent phase sequence\n",
    "    - Each phase has a start and an end: For a total of six events\n",
    "        - There is degeneracy: r1 == a0, a1 == d0, and mostly d1 == the next row's r0\n",
    "    - Each entry for these six events is a triple (i, t, z)\n",
    "        - i is an index from the source file; usually ignore this\n",
    "        - t is the time of the event; important\n",
    "        - z is the depth of the event\n",
    "            - for a1/d0 this will indicate if the profile approached the surface\n",
    "    - Consequently each row has 18 columns\n",
    "    \n",
    "Suppose the idea is to make a depth plot of temperature for a particular profile. Select out this\n",
    "profile and slice the source data using a time range given as a0 to a1. See the next notebook \n",
    "for examples.\n"
   ]
  },
  {
   "cell_type": "markdown",
   "metadata": {},
   "source": [
    "#### Comment on profile phase durations\n",
    "\n",
    "\n",
    "```\n",
    "  Ascents:   67.4 +-3.0  minutes\n",
    "  Descents:  vary depending: midnight/noon descents are slow (70 minutes); otherwise quick (20 minutes)\n",
    "  Rests:     vary with descent, 30 / 60 minutes\n",
    "```\n",
    "\n",
    "### Example use of profile metadata\n",
    "\n",
    "\n",
    "The following cell reads January 2022 Oregon Slope Base metadata into a pandas DataFrame 'profiles'.\n",
    "In so doing it converts the information from text to pandas Timestamps. The rows of the resulting \n",
    "DataFrame correspond to consecutive profiles. The columns correspond to (time depth)\n",
    "pairs: r0t is rest start time. r0z is depth at that time. r1t is rest end time.\n",
    "r1z is depth at that time (typically close to r0z). Following this are a0, a1 for \n",
    "ascent and d0, d1 for descent. There is some degeneracy in this metadata as the \n",
    "end of the ascent corresponds to the start of the descent.\n",
    "\n",
    "January has 31 days so there are a maximum of 279 possible profiles."
   ]
  },
  {
   "cell_type": "code",
   "execution_count": null,
   "metadata": {
    "tags": []
   },
   "outputs": [],
   "source": [
    "profiles = ReadProfileMetadata()\n",
    "profiles"
   ]
  },
  {
   "cell_type": "code",
   "execution_count": null,
   "metadata": {
    "tags": []
   },
   "outputs": [],
   "source": [
    "# profile time access syntax:\n",
    "profile_row_index = 0\n",
    "tA0, tA1 = profiles['a0t'][profile_row_index], profiles['a1t'][profile_row_index]\n",
    "print(tA0, tA1, 'Time difference:', tA1 - tA0)\n",
    "print('Type of these times:', type(tA0))"
   ]
  },
  {
   "cell_type": "code",
   "execution_count": null,
   "metadata": {
    "tags": []
   },
   "outputs": [],
   "source": [
    "ds = xr.open_dataset('./data/rca/sensors/osb/ctd_jan22_conductivity.nc')\n",
    "ds_timebox = ds.sel(time=slice(tA0, tA1))\n",
    "ds_timebox.conductivity.plot()"
   ]
  },
  {
   "cell_type": "markdown",
   "metadata": {},
   "source": [
    "## Sensor Data\n",
    "\n",
    "\n",
    "### Part 1: Deprecated OOI Data Explorer 1-minute data\n",
    "\n",
    "\n",
    "In the preceding section we accessed some conductivity data from Oregon Slope Base circa\n",
    "January 2022. This section connects more formally to these existing sensor datasets.\n",
    "\n"
   ]
  },
  {
   "cell_type": "code",
   "execution_count": null,
   "metadata": {
    "tags": []
   },
   "outputs": [],
   "source": [
    "base_path = './data/rca/sensors/'\n",
    "date_id   = 'jan22'\n",
    "site_id   = 'osb'\n",
    "\n",
    "data_file_list = []\n",
    "for s in sensors:\n",
    "    data_file_list.append(base_path + site_id + '/' + s[1] + '_' + date_id + '_' + s[0] + '.nc')   # example result: 'osb/ctd_jan22_temperature.nc'\n",
    "\n",
    "!ls -al ./data/rca/sensors/osb/ctd_jan22_conductivity.nc\n",
    "\n",
    "# relative path to data files is base_path + site_id + '/'\n",
    "# The data variables corresponding to the jan22_data filenames in data_file_list[]:\n",
    "month_data_vars = [\n",
    "    ['pressure'],['temperature'],['density'], ['salinity'], ['conductivity'],\n",
    "    ['fdom'], ['chlora'], ['bb'],\n",
    "    ['spkir412nm', 'spkir443nm', 'spkir490nm', 'spkir510nm', 'spkir555nm', 'spkir620nm', 'spkir683nm'],\n",
    "    ['nitrate'],\n",
    "    ['pco2'],\n",
    "    ['do'],\n",
    "    ['par'],\n",
    "    ['ph'],\n",
    "    ['up'], ['east'], ['north']\n",
    "    ]"
   ]
  },
  {
   "cell_type": "markdown",
   "metadata": {},
   "source": [
    "#### Dataset check\n",
    "\n",
    "\n",
    "The above cell creates `data_file_list`: A list of time-bounded NetCDF sensor measurement files (in-repo). \n",
    "To review these files in more detail:\n",
    "    \n",
    "\n",
    "```\n",
    "ds = xr.open_dataset(data_file_list[0])\n",
    "print(ds)\n",
    "```"
   ]
  },
  {
   "cell_type": "code",
   "execution_count": null,
   "metadata": {
    "tags": []
   },
   "outputs": [],
   "source": [
    "# This cell assembles a data dictionary \"d\" from the OOI datasets\n",
    "\n",
    "d = {}                 # empty Python dictionary\n",
    "\n",
    "relative_path = './data/rca/sensors/'\n",
    "sitestring = 'osb'                    # available: osb = Oregon Slope Base\n",
    "monthstring = 'jan22'                 # available: apr21, jul21, jan22\n",
    "\n",
    "def GetSensorTuple(s, f):\n",
    "    '''\n",
    "    s is the sensor identifier string like 'temperature'\n",
    "        It is actually a 2-element list: [0] is the sensor, [1] is the instrument\n",
    "    f is the source filename like './../data/osb_ctd_jan22_temperature.nc' \n",
    "    '''\n",
    "    df_sensor    = xr.open_dataset(f)[s]\n",
    "    df_z         = xr.open_dataset(f)['z']\n",
    "    range_lo     = ranges[s][0]\n",
    "    range_hi     = ranges[s][1]\n",
    "    sensor_color = colors[s]\n",
    "    return (df_sensor, df_z, range_lo, range_hi, sensor_color)\n",
    "\n",
    "for sensor in sensors:          # sensor is a list of 2 strings [sensor_str, instrument_str]\n",
    "    f = relative_path + sitestring + '/' + sensor[1] + '_' + monthstring + '_' + sensor[0] + '.nc'\n",
    "    d[sensor[0]] = GetSensorTuple(sensor[0], f)"
   ]
  },
  {
   "cell_type": "code",
   "execution_count": null,
   "metadata": {
    "tags": []
   },
   "outputs": [],
   "source": [
    "# temperature and salinity\n",
    "fig,axs = ChartTwoSensors(profiles, [ranges['temperature'], ranges['conductivity']], [0], \n",
    "                          d['temperature'][0], d['temperature'][1], 'Temperature', colors['temperature'],    'ascent',\n",
    "                          d['conductivity'][0],       d['conductivity'][1],    'Conductivity',  colors['conductivity'], 'ascent', 6, 4)"
   ]
  },
  {
   "cell_type": "markdown",
   "metadata": {
    "tags": []
   },
   "source": [
    "**Note: The above chart shows a temperature excursion to the left at a depth of about 75 meters (red). \n",
    "There is not a corresponding excursion in the salinity (cyan), this illustrating a *lack* of coincidence.**"
   ]
  },
  {
   "cell_type": "code",
   "execution_count": null,
   "metadata": {
    "tags": []
   },
   "outputs": [],
   "source": [
    "# temperature: ascent versus descent\n",
    "fig,axs = ChartTwoSensors(profiles, [ranges['temperature'], ranges['temperature']], [0], \n",
    "                          d['temperature'][0], d['temperature'][1], 'T-Ascent',   colors['temperature'],    'ascent',\n",
    "                          d['temperature'][0], d['temperature'][1], 'T-Descent',  'green',                  'descent', 6, 4)"
   ]
  },
  {
   "cell_type": "markdown",
   "metadata": {},
   "source": [
    "**Note: The above chart compares profile temperature on ascent (red) with the subsequent descent (green). \n",
    "The cold excursion noted above is present in both profiles. The temperature structure below 100 meters\n",
    "is similar but less well-matched. This is an initial view of what we can expect for *stability*.**"
   ]
  },
  {
   "cell_type": "markdown",
   "metadata": {
    "tags": []
   },
   "source": [
    "### Part 2. Interactive Oceans Zarr (Lazy Load)"
   ]
  },
  {
   "cell_type": "code",
   "execution_count": null,
   "metadata": {
    "tags": []
   },
   "outputs": [],
   "source": [
    "# This cell connects to the RCA Zarr filesystem for OOI (on the cloud).\n",
    "# A 'stream' is a source of one or more sensor data time series organized by\n",
    "# site and by instrument. For example the CTD instrument provides temperature,\n",
    "# conductivity, pressure, salinity and water density. (Some of these parameters,\n",
    "# like density, are derived from the others.)\n",
    "\n",
    "import netCDF4\n",
    "import xarray as xr\n",
    "import s3fs\n",
    "from shallowprofiler import *\n",
    "from charts import *\n",
    "\n",
    "fs = s3fs.S3FileSystem(anon=True)\n",
    "\n",
    "streamlist = fs.listdir('ooi-data', detail = False)\n",
    "\n",
    "# For more on connecting to the source data: See the dataloader.ipynb notebook:\n",
    "#     - data stream naming system\n",
    "#     - reading in a data stream by site and instrument\n",
    "#     - time range subset\n",
    "#     - eliminating extraneous information \n",
    "#     - saving the result to a local (fast access) NetCDF file"
   ]
  },
  {
   "cell_type": "code",
   "execution_count": null,
   "metadata": {
    "tags": []
   },
   "outputs": [],
   "source": [
    "ds_zarr = xr.open_dataset('./data/rca/sensors/osb/temperature_jan_2022.nc')\n",
    "\n",
    "# temperature: ascent versus descent\n",
    "fig,axs = ChartTwoSensors(profiles, [ranges['temperature'], ranges['temperature']], [0], \n",
    "                          ds_zarr.temperature, -ds_zarr.depth,\n",
    "                          'T-Ascent',   colors['temperature'],    'ascent',\n",
    "                          ds_zarr.temperature, -ds_zarr.depth,\n",
    "                          'T-Descent',  'green',                  'descent', 6, 4)"
   ]
  },
  {
   "cell_type": "code",
   "execution_count": null,
   "metadata": {
    "tags": []
   },
   "outputs": [],
   "source": [
    "# temperature: ascent versus descent\n",
    "fig,axs = ChartTwoSensors(profiles, [ranges['temperature'], ranges['temperature']], [0], \n",
    "                          ds_zarr.temperature, -ds_zarr.depth,\n",
    "                          'Zarr Data',   colors['temperature'],    'ascent',\n",
    "                          d['temperature'][0], d['temperature'][1], 'OOI Data',   'blue',    'ascent', 6, 4)"
   ]
  },
  {
   "cell_type": "markdown",
   "metadata": {},
   "source": [
    "Fossil code:\n",
    "\n",
    "```\n",
    "df   = ds.to_dataframe()\n",
    "vals = [xr.DataArray(data=df[c], dims=['time'], coords={'time':df.index}, attrs=ds[c].attrs) for c in df.columns]\n",
    "ds   = xr.Dataset(dict(zip(df.columns, vals)), attrs=ds.attrs)\n",
    "```"
   ]
  }
 ],
 "metadata": {
  "kernelspec": {
   "display_name": "Python 3 (ipykernel)",
   "language": "python",
   "name": "python3"
  },
  "language_info": {
   "codemirror_mode": {
    "name": "ipython",
    "version": 3
   },
   "file_extension": ".py",
   "mimetype": "text/x-python",
   "name": "python",
   "nbconvert_exporter": "python",
   "pygments_lexer": "ipython3",
   "version": "3.12.3"
  }
 },
 "nbformat": 4,
 "nbformat_minor": 4
}
