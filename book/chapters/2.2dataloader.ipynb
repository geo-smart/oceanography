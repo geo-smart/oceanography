{
 "cells": [
  {
   "cell_type": "markdown",
   "id": "7d3e14f7-a804-4b73-b024-7e5073f3d641",
   "metadata": {},
   "source": [
    "[Jupyter Book](https://geo-smart.github.io/oceanography/intro.html) and [GitHub repo](https://github.com/geo-smart/oceanography).\n",
    "\n",
    "\n",
    "# Data Loader\n",
    "\n",
    "\n",
    "The data referenced in this Jupyter Book exceed recommended GitHub repository capacity. As a result\n",
    "this notebook loads data from the cloud as needed to a directory (folder) external to the repository.\n",
    "This directory *appears* to be part of the repository by means of a symbolic link. \n",
    "\n",
    "\n",
    "The data source is the **interactive oceans** zarr-format collections found via the Python `s3fs` library\n",
    "under the name `ooi-data`.\n",
    "\n",
    "\n",
    "Consequently the data load process can be summarized as 'I created a data folder with a couple Gigabytes\n",
    "of available capacity, I set up a symbolic link from within the Jupyter Book **`oceanography`** repository\n",
    "(which I created using `git clone`); and then I connected to the cloud using the Python `s3fs` library\n",
    "to access data of interest.'\n",
    "\n",
    "\n",
    "The two important preliminary steps (after cloning this repository) are creating that landing space \n",
    "for the data and enabling ingest processing in this notebook/chapter. These steps take about five minutes.\n",
    "\n",
    "\n",
    "> 1. **Setting up a landing site for data** The repo data folder resides in the `chapters` folder with a path like\n",
    "`data/rca/sensors/osb`. The necessary data volume is about 1GB. Supposer your home directory is `/home/roger`.\n",
    "The the full path to this folder, assuming you have the `oceanography` repo installed in your home\n",
    "folder, would be `/home/roger/oceanography/books/chapters/data/rca/sensors/osb`. Notice that this is\n",
    "*inside* your repository directory. This will work fine as long as you do not have plans to push the\n",
    "repo back to GitHub. Why? Because loading in 1GB of data is considered impolite. To this end you can\n",
    "instead create an `osb` folder that is external to the repository and then make a symbolic link to \n",
    "that external folder. An example command sequence:\n",
    "\n",
    "\n",
    "```\n",
    "cd ~\n",
    "mkdir osb\n",
    "cd oceanography/book/chapters/data/rca/sensors\n",
    "rmdir osb\n",
    "ln -s /home/roger/osb ./osb\n",
    "```\n",
    "\n",
    "\n",
    "> This creates a link in your `sensors` folder that points to the external `osb` folder. \n",
    "\n",
    "\n",
    "> 2. Enable the ingest process: Set `doIngest = True` in the code cell below. \n",
    "\n",
    "\n",
    "With these two steps done (and presuming you have `s3fs` installed in your environment)\n",
    "you are ready to run the cells in this notebook that connect to the sensor stream\n",
    "datasets. At the moment there are 15 sensors of interest with more pending. One\n",
    "instrument, the 83-channel spectrophotometer, is treated separately.\n",
    "\n",
    "\n",
    "> Pro tips:\n",
    "> - Possible issue if running an ingest cell a second time: The code may try and fail to clobber an existing data file\n",
    "> - charting is done from locally saved data, not from cloud data\n",
    ">     - improvement: charting code ought to check for the local file existence first\n",
    "> - improvement: the code should be consolidated as monolithic\n",
    "\n",
    "\n",
    "For more on Zarr store use see [Joe Duprey's gist on GitHub](https://gist.github.com/jdduprey/7d5735d6de9c0c46fd16b78ee865f612).\n",
    "\n",
    "\n",
    "## Shallow Profiler Oregon Slope Base January 2022"
   ]
  },
  {
   "cell_type": "code",
   "execution_count": null,
   "id": "e3021b6b-d5b8-4c06-9b2d-05e1ccceb286",
   "metadata": {
    "tags": []
   },
   "outputs": [],
   "source": [
    "import netCDF4\n",
    "import xarray as xr\n",
    "import s3fs\n",
    "from   shallowprofiler  import *\n",
    "from   charts           import *\n",
    "from   sys              import exit\n",
    "from   os               import path\n",
    "from   time             import time\n",
    "\n",
    "tic = time()\n",
    "\n",
    "############################\n",
    "#####\n",
    "##### doIngest is a bool code activator: Interact with the zarr data store\n",
    "#####\n",
    "############################\n",
    "\n",
    "doIngest = True\n",
    "\n",
    "fs = s3fs.S3FileSystem(anon=True)\n",
    "\n",
    "streamlist = fs.listdir('ooi-data', detail = False)\n",
    "\n",
    "profiles = ReadProfileMetadata()\n",
    "\n",
    "# 'streamlist' as the last line of the cell will list out the streams; organized by site and instrument\n",
    "# For more details on the nomenclature run the following cell.\n",
    "\n",
    "def InstrumentBreakout(s):\n",
    "    print('Field breakout:', s[9:11], s[11:13], s[13:15], s[15:17], s[18:20], s[20:22], s[22:23], s[24:26], \\\n",
    "          s[27:32], s[32:33], s[33:36], s[46:])\n",
    "\n",
    "print('List Oregon Slope Base Profiler streams:\\n')\n",
    "for s in streamlist:\n",
    "    if 'SF01A' in s: print(s)\n",
    "print()\n",
    "print('Translation:')\n",
    "print('  CTDPF / ctdpf                 CTD')\n",
    "print('  PHSEN / phsen                 pH')\n",
    "print('  FLORT / flort                 Fluorometer { FDOM, Chlor-A, Backscatter }')\n",
    "print('  OPTAA / optaa                 Spectrophotometer') \n",
    "print('  PARAD / parad                 PAR')\n",
    "print('  SPKIR / spkir                 Spectral Irradiance')\n",
    "print('  NUTNR / nutnr_a_dark_sample   Nitrate: Dark sample (explain please)')\n",
    "print('  NUTNR / nutnr_a_sample        Nitrate: ...')\n",
    "print('  VELPT / velpt                 Velocity (current) ambiguous: on SCIP or affixed to platform?')\n",
    "print('  PCO2W / pco2w                 pCO2')\n",
    "print()\n",
    "\n",
    "stream_choice = 15       # the 15th element in the file list corresponds to the Shallow Profiler, Oregon Slope Base site\n",
    "\n",
    "print()\n",
    "print('Full stream name:', streamlist[stream_choice])\n",
    "print()\n",
    "InstrumentBreakout(streamlist[stream_choice])\n",
    "print()\n",
    "print('The first field has CE for Coastal Endurance or RS for Regional Cabled Array.')\n",
    "print('The Oregon Offshore site is a CE site; the other two are RS sites.')\n",
    "print('Fields 5, 6 and 7 give us shallow profiler site and choice of profiler or platform.')\n",
    "print()\n",
    "indenter = 4\n",
    "print(' '*indenter + 'PC 01 B --> Oregon Offshore 200m Platform')\n",
    "print(' '*indenter + 'SF 01 B --> Oregon Offshore Profiler')\n",
    "print(' '*indenter + 'PC 01 A --> Oregon Slope Base 200m Platform')\n",
    "print(' '*indenter + 'SF 01 A --> Oregon Slope Base Profiler')\n",
    "print(' '*indenter + 'PC 03 A --> Axial Base 200m Platform')\n",
    "print(' '*indenter + 'SF 03 A --> Axial Base Profiler')\n",
    "print()\n",
    "print('Non-shallow-profiler examples:')\n",
    "print('  DP O3 A is the Axial Base Deep Profiler')\n",
    "print('  LJ 01 A is the Oregon Slope Base Seafloor')\n",
    "print()\n",
    "\n",
    "def loadData(stream_name):\n",
    "    fs = s3fs.S3FileSystem(anon=True)\n",
    "    zarr_store = fs.get_mapper(stream_name)\n",
    "    ds = xr.open_zarr(zarr_store, consolidated=True)\n",
    "    return ds\n",
    "\n",
    "def ShallowProfilerDataReduce(ds, t0, t1, keepers, rename):\n",
    "    \"\"\"\n",
    "    From an XArray Dataset for a shallow profiler instrument stream: Clean up and return a \n",
    "    subset of the data also in Dataset format. \n",
    "      - constrain the time range to the interval t0 - t1\n",
    "      - verify one dimension/coordinate: 'time'\n",
    "          - others are removed via .drop_dims()\n",
    "      - from a list of keeper data variables: rename them\n",
    "      - drop the other data variables\n",
    "      - drop all the attributes\n",
    "    \"\"\"\n",
    "    if not len(ds.dims) == 1: \n",
    "        for dim in ds.dims:\n",
    "            if not dim == 'time':\n",
    "                ds = ds.drop_dims(dim)\n",
    "        if not len(ds.dims) == 1: return False, \"time dimension only code failed\"\n",
    "    if not list(dict(ds.dims))[0] == 'time': \n",
    "        return False, \"Dataset dim is not 'time' (as assumed)\"\n",
    "    if not len(ds.coords) == 1: \n",
    "        return False, \"Dataset coords count is not 1 (as assumed)\"\n",
    "    if not list(dict(ds.coords))[0] == 'time': \n",
    "        return False, \"Dataset coord is not 'time' (as assumed)\"\n",
    "    \n",
    "    ds = ds.sel(time=slice(t0, t1))               # time window\n",
    "    \n",
    "    for s in ds.data_vars:\n",
    "        if not s in keepers: ds = ds.drop(s)                              # drop extraneous data vars\n",
    "    for s in ds.data_vars: ds = ds.rename({s:rename[keepers.index(s)]})   # rename the others\n",
    "    a = [s for s in ds.attrs]\n",
    "    for p in a: ds.attrs.pop(p)\n",
    "    return ds, 'looks ok'\n",
    "\n",
    "osb_profiler_streams = [sname for sname in streamlist if 'SF01A' in sname]\n",
    "\n",
    "for s in osb_profiler_streams: \n",
    "    if 'ctdpf' in s: print('CTD:', s)\n",
    "    if 'velpt' in s: print('Current:', s)\n",
    "    \n",
    "print(\"There are\", len(osb_profiler_streams), \"Oregon Slope Base profiler streams\")\n",
    "\n",
    "\n",
    "print(time() - tic, 'seconds\\n\\n\\n')"
   ]
  },
  {
   "cell_type": "markdown",
   "id": "c413eb11-1326-459a-8e98-2a5f302f5fcc",
   "metadata": {},
   "source": [
    "### Go through all 10 osb profiler streams in sequence\n",
    "\n",
    "In this order: \n",
    "\n",
    "- ctdpf\n",
    "- phsen\n",
    "- flort\n",
    "- optaa\n",
    "- parad\n",
    "- spkir\n",
    "- nutnr_a_dark_sample\n",
    "- nutnr_a_sample\n",
    "- velpt\n",
    "- pco2w"
   ]
  },
  {
   "cell_type": "markdown",
   "id": "c2083153-23d1-4cf1-adf2-1013abb643a5",
   "metadata": {},
   "source": [
    "## XXX This Section In Development XXX\n",
    "\n",
    "\n",
    "(This code will do the data load as a cycle through the various instruments.)\n",
    "\n",
    "\n",
    "Scroll down past this to continue: Sequence of instrument-based data loads."
   ]
  },
  {
   "cell_type": "code",
   "execution_count": null,
   "id": "336aa001-e1ef-4a0d-aad9-56d5bfc4619e",
   "metadata": {
    "tags": []
   },
   "outputs": [],
   "source": [
    "streamlist_profiler_site_keys = {'osb':'SF01A', 'oof':'SF01B', 'axb':'SF03A'}\n",
    "streamlist_platform_site_keys = {'osb':'PC01A', 'oof':'PC01B', 'axb':'PC03A'}\n",
    "\n",
    "site_key = 'osb'\n",
    "\n",
    "profiler_instrument_streams = [sname for sname in streamlist if streamlist_profiler_site_keys[site_key] in sname]"
   ]
  },
  {
   "cell_type": "code",
   "execution_count": null,
   "id": "16f9cf4c-a4ce-4f9d-9e2d-23b88e90502c",
   "metadata": {
    "tags": []
   },
   "outputs": [],
   "source": [
    "official_instrument_keys = ['ctdpf', 'phsen', 'flort', 'nutnr_a_dark_sample', 'nutnr_a_sample', 'velpt', 'pco2w']\n",
    "official_unused_instrument_keys = \n",
    "\n",
    "doIngest = True\n",
    "do_ingest = [doIngest]*len(instrument_keys)\n",
    "sensor_official_names = [['corrected_dissolved_oxygen','sea_water_density','sea_water_electrical_conductivity','sea_water_practical_salinity','sea_water_temperature'], \\\n",
    "                         ['ph_seawater'], \\\n",
    "                         ['fluorometric_cdom','fluorometric_chlorophyll_a','optical_backscatter'], \\\n",
    "                         ['nitrate_concentration'], \\\n",
    "                         ['salinity_corrected_nitrate'], \\\n",
    "                         ['velpt_d_upward_velocity','velpt_d_northward_velocity','velpt_d_eastward_velocity'], \n",
    "                         ['pco2_seawater']]\n",
    "sensor_informal_names = [['do','density','conductivity','salinity','temp'], ['ph'], ['fdom','chlora','backscatter'], ['nitrate_dark'], ['nitrate'], ['up','north','east'], ['pco2']]\n",
    "sensor_official_depth = ['sea_water_pressure','int_ctd_pressure','int_ctd_pressure','int_ctd_pressure','int_ctd_pressure','int_ctd_pressure','int_ctd_pressure']\n",
    "\n",
    "nSensors      = [len(sensorlist) for sensorlist in sensor_official_names]\n",
    "nSensorsCheck = [len(sensorlist) for sensorlist in sensor_informal_names]\n",
    "if not nSensors == nSensorsCheck:\n",
    "    print(\"Sensor descriptions official/informal do not align\")\n",
    "    exit()"
   ]
  },
  {
   "cell_type": "code",
   "execution_count": null,
   "id": "3508d41a-19f7-4acb-a9fb-b3f4f4280720",
   "metadata": {
    "tags": []
   },
   "outputs": [],
   "source": [
    "for ik in instrument_keys:                               # going in order CTD ... pCO2, ik is a string like 'ctdpf'\n",
    "    idx = instrument_keys.index(ik)                      # idx is an instrument index\n",
    "    for s in profiler_instrument_streams:                # profiler_instrument_streams is a list of 10 long stream names\n",
    "        if ik in s:                                      # match up the one we want \n",
    "            key = profiler_instrument_streams.index(s)   # key is the index of the stream of interest\n",
    "            print('Found instrument ' + ik + ': ' + s)\n",
    "            if doIngest[idx]:\n",
    "                ds = loadData(\n",
    "                for sensor in sensor_official_names[idx]:\n",
    "                    sensor_index = sensor_official_names[idx].index(sensor)\n",
    "                    \n",
    "            else:\n",
    "                print(\"Skipping ingest on this instrument.\")\n",
    "            "
   ]
  },
  {
   "cell_type": "markdown",
   "id": "265eae5c-f3ab-468e-bb55-f89426f517e4",
   "metadata": {},
   "source": [
    "# XXX End of In Development Section XXX"
   ]
  },
  {
   "cell_type": "markdown",
   "id": "d10e5137-aa7c-4da7-bcf6-369f4c66695f",
   "metadata": {},
   "source": [
    "This is the development code\n",
    "\n",
    "#### 1 of 10: **ctdpf** i.e. CTD\n",
    "\n"
   ]
  },
  {
   "cell_type": "code",
   "execution_count": null,
   "id": "6c46400e-d2ea-41b2-baf2-c8cf4b105298",
   "metadata": {
    "tags": []
   },
   "outputs": [],
   "source": [
    "tic = time()\n",
    "\n",
    "for s in osb_profiler_streams: \n",
    "    if 'ctdpf' in s: \n",
    "        print('Found CTD:', s)\n",
    "        stream_ctd = s\n",
    "        break\n",
    "        \n",
    "if doIngest:\n",
    "    ds = loadData(stream_ctd)                             # lazy load\n",
    "    t0, t1 = '2022-01-01T00', '2022-12-31T23'             # January 2022\n",
    "    ds = ds.sel(time=slice(t0, t1))                       # Subset the full time range to one month\n",
    "    print(ds.time[0], '              ', ds.time[-1])      # verify selected one month time range\n",
    "    ds                                                    # get a 'data variable' list of sensors/metadata for this instrument\n",
    "\n",
    "print(time() - tic, 'seconds\\n\\n\\n')"
   ]
  },
  {
   "cell_type": "markdown",
   "id": "f980dc6e-58db-4377-b84c-92801017b37f",
   "metadata": {},
   "source": [
    "We pull five sensor time series datasets from the CTD stream. These are named data variables and\n",
    "they will be renamed using the table found in the **Data** chapter. Each sensor dataset also contains\n",
    "time (as dimension/coordinate) and depth (as a second data variable). \n",
    "Depth is the `sea_water_pressure` data variable renamed. \n",
    "\n",
    "```\n",
    "corrected_dissolved_oxygen              do              depth  \n",
    "sea_water_density                       density         depth                     \n",
    "sea_water_electrical_conductivity       conductivity    depth       \n",
    "sea_water_practical_salinity            salinity        depth\n",
    "sea_water_temperature                   temp            depth\n",
    "```"
   ]
  },
  {
   "cell_type": "code",
   "execution_count": null,
   "id": "f242c716-90a1-4ce6-b07b-4ba49b58f8f1",
   "metadata": {
    "tags": []
   },
   "outputs": [],
   "source": [
    "tic = time()\n",
    "\n",
    "if doIngest:\n",
    "    t0, t1 = '2022-01-01T00', '2022-01-31T23'\n",
    "    ds_do, reply1           = ShallowProfilerDataReduce(ds, t0, t1, ['corrected_dissolved_oxygen', 'sea_water_pressure'], ['do', 'depth'])\n",
    "    ds_density, reply2      = ShallowProfilerDataReduce(ds, t0, t1, ['sea_water_density', 'sea_water_pressure'], ['density', 'depth'])\n",
    "    ds_conductivity, reply3 = ShallowProfilerDataReduce(ds, t0, t1, ['sea_water_electrical_conductivity', 'sea_water_pressure'], ['conductivity', 'depth'])\n",
    "    ds_salinity, reply4     = ShallowProfilerDataReduce(ds, t0, t1, ['sea_water_practical_salinity', 'sea_water_pressure'], ['salinity', 'depth'])\n",
    "    ds_temp, reply5         = ShallowProfilerDataReduce(ds, t0, t1, ['sea_water_temperature', 'sea_water_pressure'], ['temp', 'depth'])\n",
    "\n",
    "    if False: \n",
    "        print(reply1)\n",
    "        print(reply2)\n",
    "        print(reply3)\n",
    "        print(reply4)\n",
    "        print(reply5)\n",
    "\n",
    "    if False: \n",
    "        print(ds_do)\n",
    "        print(ds_density)\n",
    "        print(ds_conductivity)\n",
    "        print(ds_salinity)\n",
    "        print(ds_temp)\n",
    "\n",
    "    ds_do.to_netcdf('./data/rca/sensors/osb/do_jan_2022.nc') \n",
    "    ds_density.to_netcdf('./data/rca/sensors/osb/density_jan_2022.nc') \n",
    "    ds_conductivity.to_netcdf('./data/rca/sensors/osb/conductivity_jan_2022.nc') \n",
    "    ds_salinity.to_netcdf('./data/rca/sensors/osb/salinity_jan_2022.nc') \n",
    "    ds_temp.to_netcdf('./data/rca/sensors/osb/temp_jan_2022.nc')\n",
    "\n",
    "print(time() - tic, 'seconds\\n\\n\\n')"
   ]
  },
  {
   "cell_type": "code",
   "execution_count": null,
   "id": "14ccbac3-2fbc-48cb-a969-f52ee75ff82b",
   "metadata": {
    "tags": []
   },
   "outputs": [],
   "source": [
    "ds_temp = xr.open_dataset('./data/rca/sensors/osb/temp_jan_2022.nc')\n",
    "\n",
    "# temperature: ascent versus descent\n",
    "fig,axs = ChartTwoSensors(profiles, [ranges['temp'], ranges['temp']], [0], \n",
    "                          ds_temp.temp, -ds_temp.depth, 'T-Ascent',   colors['temp'],    'ascent',\n",
    "                          ds_temp.temp, -ds_temp.depth, 'T-Descent',  'green',           'descent', 6, 4)"
   ]
  },
  {
   "cell_type": "markdown",
   "id": "89d33a5d-636e-4142-a925-0968ee2e94b4",
   "metadata": {},
   "source": [
    "#### 2 of 10: **phsen** i.e. pH"
   ]
  },
  {
   "cell_type": "code",
   "execution_count": null,
   "id": "cfe26ea4-75e6-4778-b077-71b1ae8ca111",
   "metadata": {
    "tags": []
   },
   "outputs": [],
   "source": [
    "if doIngest:\n",
    "    instrument_key = 'phsen'\n",
    "    for s in osb_profiler_streams: \n",
    "        if instrument_key in s: \n",
    "            print('Found this instrument stream:', s)\n",
    "            instrument_stream = s\n",
    "            break\n",
    "\n",
    "    ds = loadData(instrument_stream)                      # lazy load\n",
    "    t0, t1 = '2022-01-01T00', '2022-12-31T23'             # January 2022\n",
    "    ds = ds.sel(time=slice(t0, t1))                       # Subset the full time range to one month\n",
    "    print(ds.time[0], '              ', ds.time[-1])      # verify selected one month time range\n",
    "    ds                                                    # get a 'data variable' list of sensors/metadata for this instrument"
   ]
  },
  {
   "cell_type": "markdown",
   "id": "9af9a4a0-2b75-496f-9c59-3f7f3f1db186",
   "metadata": {},
   "source": [
    "We pull one sensor time series dataset from this stream. See the CTD section above\n",
    "and the Data chapter. The data variable of interest is `ph_seawater` which will be\n",
    "renamed ph. Depth will be a rename of the `int_ctd_pressure` data variable. \n",
    "This stream has multiple dimensions so there is a preliminary step to isolate\n",
    "just time, ph_seawater and int_ctd_pressure. "
   ]
  },
  {
   "cell_type": "code",
   "execution_count": null,
   "id": "d023983f-ac29-44bb-b4ed-78bf758c25a4",
   "metadata": {
    "tags": []
   },
   "outputs": [],
   "source": [
    "if doIngest:\n",
    "    t0, t1 = '2022-01-01T00', '2022-01-31T23'\n",
    "    ds_ph, reply = ShallowProfilerDataReduce(ds, t0, t1, ['ph_seawater', 'int_ctd_pressure'], ['ph', 'depth'])\n",
    "    print(reply)\n",
    "    print(ds_ph)\n",
    "\n",
    "    ds_ph.to_netcdf('./data/rca/sensors/osb/ph_jan_2022.nc') "
   ]
  },
  {
   "cell_type": "code",
   "execution_count": null,
   "id": "25bb73e1-578b-4752-9816-c3d99cda4854",
   "metadata": {
    "tags": []
   },
   "outputs": [],
   "source": [
    "ds_ph = xr.open_dataset('./data/rca/sensors/osb/ph_jan_2022.nc')\n",
    "\n",
    "# ph: is measured on descent\n",
    "fig, axes = ChartSensor(profiles, ranges['ph'], [3, 8, 12, 17], ds_ph.ph, -ds_ph.depth, 'profile pH', 'black', 'descent', 6, 4)"
   ]
  },
  {
   "cell_type": "markdown",
   "id": "9b016396-a8e7-4bd5-992d-9ae31c615841",
   "metadata": {},
   "source": [
    "#### 3 of 10: **flort** i.e. fluorometer: Chlor-A, FDOM, particulate backscatter"
   ]
  },
  {
   "cell_type": "code",
   "execution_count": null,
   "id": "c887bf8c-facf-4400-8aa7-cafdd2947452",
   "metadata": {
    "tags": []
   },
   "outputs": [],
   "source": [
    "if doIngest:\n",
    "    instrument_key = 'flort'\n",
    "    for s in osb_profiler_streams: \n",
    "        if instrument_key in s: \n",
    "            print('Found this instrument stream:', s)\n",
    "            instrument_stream = s\n",
    "            break\n",
    "\n",
    "    ds = loadData(instrument_stream)                      # lazy load\n",
    "    t0, t1 = '2022-01-01T00', '2022-12-31T23'             # January 2022\n",
    "    ds = ds.sel(time=slice(t0, t1))                       # Subset the full time range to one month\n",
    "    print(ds.time[0], '              ', ds.time[-1])      # verify selected one month time range\n",
    "    ds                                                    # get a 'data variable' list of sensors/metadata for this instrument"
   ]
  },
  {
   "cell_type": "markdown",
   "id": "cabefd1c-6d6d-429f-ac10-6cd9b0418ba7",
   "metadata": {},
   "source": [
    "We pull three sensor time series datasets from this stream. See the CTD section above\n",
    "and the Data chapter. Data variables: \n",
    "\n",
    "```\n",
    "fluorometric_cdom           >      fdom, depth\n",
    "fluorometric_chlorophyll_a  >      chlora, depth\n",
    "optical_backscatter         >      backscatter, depth\n",
    "```\n",
    "\n",
    "Depth from `int_ctd_pressure`."
   ]
  },
  {
   "cell_type": "code",
   "execution_count": null,
   "id": "9fcda352-1f28-4e2a-9bf2-d52597ac0ecd",
   "metadata": {
    "tags": []
   },
   "outputs": [],
   "source": [
    "if doIngest:\n",
    "    t0, t1 = '2022-01-01T00', '2022-01-31T23'\n",
    "    ds_fdom, reply        = ShallowProfilerDataReduce(ds, t0, t1, ['fluorometric_cdom', 'int_ctd_pressure'], ['fdom', 'depth'])\n",
    "    ds_chlora, reply      = ShallowProfilerDataReduce(ds, t0, t1, ['fluorometric_chlorophyll_a', 'int_ctd_pressure'], ['chlora', 'depth'])\n",
    "    ds_backscatter, reply = ShallowProfilerDataReduce(ds, t0, t1, ['optical_backscatter', 'int_ctd_pressure'], ['backscatter', 'depth'])\n",
    "\n",
    "    ds_fdom.to_netcdf('./data/rca/sensors/osb/fdom_jan_2022.nc')\n",
    "    ds_chlora.to_netcdf('./data/rca/sensors/osb/chlora_jan_2022.nc')\n",
    "    ds_backscatter.to_netcdf('./data/rca/sensors/osb/backscatter_jan_2022.nc')"
   ]
  },
  {
   "cell_type": "code",
   "execution_count": null,
   "id": "eb92f3ef-c4d5-424d-8fd5-8d81ab996266",
   "metadata": {
    "tags": []
   },
   "outputs": [],
   "source": [
    "ds_fdom        = xr.open_dataset('./data/rca/sensors/osb/fdom_jan_2022.nc')\n",
    "ds_chlora      = xr.open_dataset('./data/rca/sensors/osb/chlora_jan_2022.nc')\n",
    "ds_backscatter = xr.open_dataset('./data/rca/sensors/osb/backscatter_jan_2022.nc')\n",
    "\n",
    "fig, axes = ChartSensor(profiles, ranges['fdom'],        [0], ds_fdom.fdom,               -ds_fdom.depth,        'profile FDOM', 'blue', 'ascent', 6, 4)\n",
    "fig, axes = ChartSensor(profiles, ranges['chlora'],      [0], ds_chlora.chlora,           -ds_chlora.depth,      'profile Chlor-A', 'green', 'ascent', 6, 4)\n",
    "fig, axes = ChartSensor(profiles, ranges['backscatter'], [0], ds_backscatter.backscatter, -ds_backscatter.depth, 'profile backscatter', 'red', 'ascent', 6, 4)"
   ]
  },
  {
   "cell_type": "markdown",
   "id": "460c5fee-fe47-4920-b6ee-8e0a5ec4e06d",
   "metadata": {},
   "source": [
    "**Interpretation**: FDOM appears to be a faint or nonexistant signal. Chlorophyll-A shows a strong signal\n",
    "in the mixed layer and then subsides through a *cline*. Backscatter shows some structure. As above these are\n",
    "single profile charts. Clearly it will be very interesting to view multiple consecutive profiles."
   ]
  },
  {
   "cell_type": "markdown",
   "id": "4a520057-c39e-4bc1-a14c-71ada6a286dc",
   "metadata": {},
   "source": [
    "#### 4 of 10: **optaa** i.e. spectrophotometer 2 signals x 83 channels"
   ]
  },
  {
   "cell_type": "code",
   "execution_count": null,
   "id": "6ffe45d8-0a2f-4a24-bf2e-89f3eeeed381",
   "metadata": {
    "tags": []
   },
   "outputs": [],
   "source": [
    "# Not working yet\n",
    "if False:\n",
    "    instrument_key = 'optaa'\n",
    "    for s in osb_profiler_streams: \n",
    "        if instrument_key in s: \n",
    "            print('Found this instrument stream:', s)\n",
    "            instrument_stream = s\n",
    "            break\n",
    "        \n",
    "    ds = loadData(instrument_stream)                      # lazy load\n",
    "    t0, t1 = '2022-01-01T00', '2022-12-31T23'             # January 2022\n",
    "    ds = ds.sel(time=slice(t0, t1))                       # Subset the full time range to one month\n",
    "    print(ds.time[0], '              ', ds.time[-1])      # verify selected one month time range\n",
    "    ds                                                    # get a 'data variable' list of sensors/metadata for this instrument"
   ]
  },
  {
   "cell_type": "markdown",
   "id": "3768a1ad-1063-48b1-8a72-14455724496f",
   "metadata": {},
   "source": [
    "...paused here: This will require unique code to retain the wavelength dimension..."
   ]
  },
  {
   "cell_type": "markdown",
   "id": "363f8c5a-ca63-46c6-8f2d-db244eb7e41c",
   "metadata": {},
   "source": [
    "#### 5 of 10: **parad** i.e. PAR (photosynthetically available radiation)"
   ]
  },
  {
   "cell_type": "code",
   "execution_count": null,
   "id": "116d035e-c844-44a3-b021-49ec801c0d88",
   "metadata": {
    "tags": []
   },
   "outputs": [],
   "source": [
    "if False:\n",
    "    instrument_key = 'parad'\n",
    "    for s in osb_profiler_streams: \n",
    "        if instrument_key in s: \n",
    "            print('Found this instrument stream:', s)\n",
    "            print('Compare:                      ooi-data/RS01SBPS-SF01A-3C-PARADA101-streamed-parad_sa_sample') \n",
    "            instrument_stream = s\n",
    "            break"
   ]
  },
  {
   "cell_type": "code",
   "execution_count": null,
   "id": "62581c86-5bd2-4adf-b70e-383b50a44c9a",
   "metadata": {
    "tags": []
   },
   "outputs": [],
   "source": [
    "if False:\n",
    "    ds = loadData(instrument_stream)                      # lazy load\n",
    "    t0, t1 = '2022-01-01T00', '2022-12-31T23'             # January 2022\n",
    "    ds = ds.sel(time=slice(t0, t1))                       # Subset the full time range to one month\n",
    "    print(ds.time[0], '              ', ds.time[-1])      # verify selected one month time range\n",
    "    ds                                                    # get a 'data variable' list of sensors/metadata for this instrument"
   ]
  },
  {
   "cell_type": "markdown",
   "id": "a85cfc79-50dd-42a0-a7e6-315bb4c4f123",
   "metadata": {},
   "source": [
    "***seems to fail: kernel restart (timeout?)***\n",
    "\n",
    "\n",
    "Compare: Joe says this stream is ok: `RS01SBPS-SF01A-3C-PARADA101-streamed-parad_sa_sample` and use a bigger machine."
   ]
  },
  {
   "cell_type": "code",
   "execution_count": null,
   "id": "b94180d3-bd6e-42ad-b555-9b1039d1b9e6",
   "metadata": {},
   "outputs": [],
   "source": []
  },
  {
   "cell_type": "markdown",
   "id": "be474e5a-5bd0-4636-b2ca-7232d5f0e08f",
   "metadata": {},
   "source": [
    "#### 6 of 10: **spkir** i.e. spectral irradiance"
   ]
  },
  {
   "cell_type": "code",
   "execution_count": null,
   "id": "dc18449d-8e02-4047-b5fa-4fec129f21c1",
   "metadata": {
    "tags": []
   },
   "outputs": [],
   "source": [
    "if False:\n",
    "    instrument_key = 'spkir'\n",
    "    for s in osb_profiler_streams: \n",
    "        if instrument_key in s: \n",
    "            print('Found this instrument stream:', s)\n",
    "            instrument_stream = s\n",
    "            break\n",
    "\n",
    "    ds = loadData(instrument_stream)                      # lazy load\n",
    "    t0, t1 = '2022-01-01T00', '2022-12-31T23'             # January 2022\n",
    "    ds = ds.sel(time=slice(t0, t1))                       # Subset the full time range to one month\n",
    "    print(ds.time[0], '              ', ds.time[-1])      # verify selected one month time range\n",
    "    ds                                                    # get a 'data variable' list of sensors/metadata for this instrument"
   ]
  },
  {
   "cell_type": "markdown",
   "id": "d849a077-1f7a-45c2-9252-ba18fd9be430",
   "metadata": {},
   "source": [
    "***seems to fail: kernel restart (timeout?)***"
   ]
  },
  {
   "cell_type": "markdown",
   "id": "c424d0b3-9814-4e4b-b828-ccecc97b3a33",
   "metadata": {},
   "source": [
    "#### 7 of 10: **nutnr_a_dark_sample** i.e. nitrate explain dark"
   ]
  },
  {
   "cell_type": "code",
   "execution_count": null,
   "id": "8344cfa7-362c-4522-818c-788e7a639d48",
   "metadata": {
    "tags": []
   },
   "outputs": [],
   "source": [
    "if doIngest: \n",
    "    instrument_key = 'nutnr_a_dark_sample'\n",
    "    for s in osb_profiler_streams: \n",
    "        if instrument_key in s: \n",
    "            print('Found this instrument stream:', s)\n",
    "            instrument_stream = s\n",
    "            break\n",
    "\n",
    "    ds = loadData(instrument_stream)                      # lazy load\n",
    "    t0, t1 = '2022-01-01T00', '2022-12-31T23'             # January 2022\n",
    "    ds = ds.sel(time=slice(t0, t1))                       # Subset the full time range to one month\n",
    "    print(ds.time[0], '              ', ds.time[-1])      # verify selected one month time range\n",
    "    ds                                                    # get a 'data variable' list of sensors/metadata for this instrument"
   ]
  },
  {
   "cell_type": "markdown",
   "id": "1c12fc1c-a16c-40fc-8c6c-38fc9c72e10e",
   "metadata": {},
   "source": [
    "**The dark sample nitrate is on hold pending an explanation of what is going on.** \n",
    "Presuming it was business as usual, maybe: `nutnr_nitrogen_in_nitrate` becomes `nitrate_dark` and `int_ctd_pressure` becomes depth."
   ]
  },
  {
   "cell_type": "code",
   "execution_count": null,
   "id": "0097acb9-a10b-409b-9c28-c1713fbb7d12",
   "metadata": {
    "tags": []
   },
   "outputs": [],
   "source": [
    "if doIngest:\n",
    "    t0, t1 = '2022-01-01T00', '2022-01-31T23'\n",
    "    ds_nitrate_dark, reply    = ShallowProfilerDataReduce(ds, t0, t1, ['nitrate_concentration', 'int_ctd_pressure'], ['nitrate_dark', 'depth'])\n",
    "    ds_nitrate_dark.to_netcdf('./data/rca/sensors/osb/nitrate_dark_jan_2022.nc')\n",
    "\n",
    "ds_nitrate_dark    = xr.open_dataset('./data/rca/sensors/osb/nitrate_dark_jan_2022.nc')\n",
    "fig, axes = ChartSensor(profiles, [0, 1],     [3], ds_nitrate_dark.nitrate_dark, -ds_nitrate_dark.depth, 'nitrate (dark)', 'black', 'ascent', 6, 6)"
   ]
  },
  {
   "cell_type": "markdown",
   "id": "98f8cabc-dcfb-434a-be5d-a1bd263ee05a",
   "metadata": {},
   "source": [
    "#### 8 of 10: **nutnr_a_sample** i.e. nitrate"
   ]
  },
  {
   "cell_type": "code",
   "execution_count": null,
   "id": "6476db17-0835-498c-865e-07641dbe09e4",
   "metadata": {
    "tags": []
   },
   "outputs": [],
   "source": [
    "ds.nitrate_concentration.plot()"
   ]
  },
  {
   "cell_type": "code",
   "execution_count": null,
   "id": "8aefd0e3-2738-4e9b-9f64-9864f9223710",
   "metadata": {
    "tags": []
   },
   "outputs": [],
   "source": [
    "ds_nitrate_dark.nitrate_dark.plot()"
   ]
  },
  {
   "cell_type": "code",
   "execution_count": null,
   "id": "33a82c38-ddb1-411d-beca-d1dc900905c4",
   "metadata": {},
   "outputs": [],
   "source": []
  },
  {
   "cell_type": "code",
   "execution_count": null,
   "id": "69f59bc3-04c9-4dff-9950-b10a3bffd5fa",
   "metadata": {
    "tags": []
   },
   "outputs": [],
   "source": [
    "if doIngest:\n",
    "    instrument_key = 'nutnr_a_sample'\n",
    "    for s in osb_profiler_streams: \n",
    "        if instrument_key in s: \n",
    "            print('Found this instrument stream:', s)\n",
    "            instrument_stream = s\n",
    "            break\n",
    "\n",
    "    ds = loadData(instrument_stream)                      # lazy load\n",
    "    t0, t1 = '2022-01-01T00', '2022-12-31T23'             # January 2022\n",
    "    ds = ds.sel(time=slice(t0, t1))                       # Subset the full time range to one month\n",
    "    print(ds.time[0], '              ', ds.time[-1])      # verify selected one month time range\n",
    "    ds                                                    # get a 'data variable' list of sensors/metadata for this instrument"
   ]
  },
  {
   "cell_type": "markdown",
   "id": "b2f399c7-339d-4536-9740-7e609f2e6e3a",
   "metadata": {},
   "source": [
    "`salinity_corrected_nitrate` > `nitrate` and `int_ctd_pressure` > `depth`"
   ]
  },
  {
   "cell_type": "code",
   "execution_count": null,
   "id": "5d3aa1c9-d4ae-45de-a79c-94d56195c008",
   "metadata": {
    "tags": []
   },
   "outputs": [],
   "source": [
    "if doIngest:\n",
    "    t0, t1 = '2022-01-01T00', '2022-01-31T23'\n",
    "    ds_nitrate, reply    = ShallowProfilerDataReduce(ds, t0, t1, ['salinity_corrected_nitrate', 'int_ctd_pressure'], ['nitrate', 'depth'])\n",
    "    ds_nitrate.to_netcdf('./data/rca/sensors/osb/nitrate_jan_2022.nc')\n",
    "\n",
    "ds_nitrate = xr.open_dataset('./data/rca/sensors/osb/nitrate_jan_2022.nc')\n",
    "fig, axes = ChartSensor(profiles, ranges['nitrate'], [3], ds_nitrate.nitrate, -ds_nitrate.depth,    'nitrate ', 'black', 'ascent', 6, 6)"
   ]
  },
  {
   "cell_type": "markdown",
   "id": "037fc2c3-ab7b-4003-9ee9-8636daafe528",
   "metadata": {},
   "source": [
    "#### 9 of 10: **velpt** i.e. current velocity"
   ]
  },
  {
   "cell_type": "code",
   "execution_count": null,
   "id": "5b764c28-ae36-4066-9d3e-64873c13962a",
   "metadata": {
    "tags": []
   },
   "outputs": [],
   "source": [
    "instrument_key = 'velpt'\n",
    "for s in osb_profiler_streams: \n",
    "    if instrument_key in s: \n",
    "        print('Found this instrument stream:', s)\n",
    "        instrument_stream = s\n",
    "        break\n",
    "        \n",
    "ds = loadData(instrument_stream)                      # lazy load\n",
    "t0, t1 = '2022-01-01T00', '2022-12-31T23'             # January 2022\n",
    "ds = ds.sel(time=slice(t0, t1))                       # Subset the full time range to one month\n",
    "print(ds.time[0], '              ', ds.time[-1])      # verify selected one month time range\n",
    "ds                                                    # get a 'data variable' list of sensors/metadata for this instrument"
   ]
  },
  {
   "cell_type": "markdown",
   "id": "79f86ba8-a9f0-4eef-a8b9-78014e01bb1a",
   "metadata": {},
   "source": [
    "For the current sensor: \n",
    "depth: `int_ctd_pressure`. Velocities: `velpt_d_upward_velocity`, `velpt_d_northward_velocity`, `velpt_d_eastward_velocity`.\n",
    "Respectively `depth`, `up`, `north`, `east`"
   ]
  },
  {
   "cell_type": "code",
   "execution_count": null,
   "id": "065f320a-a80c-420b-8440-cfef842a599a",
   "metadata": {
    "tags": []
   },
   "outputs": [],
   "source": [
    "if doIngest:\n",
    "    t0, t1 = '2022-01-01T00', '2022-01-31T23'\n",
    "    ds_up, reply    = ShallowProfilerDataReduce(ds, t0, t1, ['velpt_d_upward_velocity',    'int_ctd_pressure'], ['up', 'depth'])\n",
    "    ds_north, reply = ShallowProfilerDataReduce(ds, t0, t1, ['velpt_d_northward_velocity', 'int_ctd_pressure'], ['north', 'depth'])\n",
    "    ds_east, reply  = ShallowProfilerDataReduce(ds, t0, t1, ['velpt_d_eastward_velocity',  'int_ctd_pressure'], ['east', 'depth'])\n",
    "\n",
    "    ds_up.to_netcdf('./data/rca/sensors/osb/up_jan_2022.nc')\n",
    "    ds_north.to_netcdf('./data/rca/sensors/osb/north_jan_2022.nc')\n",
    "    ds_east.to_netcdf('./data/rca/sensors/osb/east_jan_2022.nc')\n",
    "    \n",
    "    \n",
    "ds_up    = xr.open_dataset('./data/rca/sensors/osb/up_jan_2022.nc')\n",
    "ds_north = xr.open_dataset('./data/rca/sensors/osb/north_jan_2022.nc')\n",
    "ds_east  = xr.open_dataset('./data/rca/sensors/osb/east_jan_2022.nc')\n",
    "\n",
    "fig, axes = ChartSensor(profiles, ranges['up'],     [0], ds_up.up,       -ds_up.depth,    'current up', 'black', 'ascent', 6, 4)\n",
    "fig, axes = ChartSensor(profiles, ranges['north'],  [0], ds_north.north, -ds_north.depth, 'current north', 'black', 'ascent', 6, 4)\n",
    "fig, axes = ChartSensor(profiles, ranges['east'],   [0], ds_east.east,   -ds_east.depth,  'current east', 'black', 'ascent', 6, 4)"
   ]
  },
  {
   "cell_type": "markdown",
   "id": "10d0a25c-1a19-4a1f-b4db-aaed671d5c28",
   "metadata": {},
   "source": [
    "#### 10 of 10: **pco2w** i.e. pCO2"
   ]
  },
  {
   "cell_type": "code",
   "execution_count": null,
   "id": "129d7553-1fbc-4bd3-aed5-a21583f02e29",
   "metadata": {
    "tags": []
   },
   "outputs": [],
   "source": [
    "if doIngest: \n",
    "    instrument_key = 'pco2w'\n",
    "    for s in osb_profiler_streams: \n",
    "        if instrument_key in s: \n",
    "            print('Found this instrument stream:', s)\n",
    "            instrument_stream = s\n",
    "            break\n",
    "        \n",
    "    ds = loadData(instrument_stream)                      # lazy load\n",
    "    t0, t1 = '2022-01-01T00', '2022-12-31T23'             # January 2022\n",
    "    ds = ds.sel(time=slice(t0, t1))                       # Subset the full time range to one month\n",
    "    print(ds.time[0], '              ', ds.time[-1])      # verify selected one month time range\n",
    "    ds                                                    # get a 'data variable' list of sensors/metadata for this instrument"
   ]
  },
  {
   "cell_type": "markdown",
   "id": "5ad5cd00-cd39-44d9-9307-0ab51ed018e8",
   "metadata": {},
   "source": [
    "**descent, midnight and noon** `pco2_seawater` > `pco2` and `int_ctd_pressure` > `depth`."
   ]
  },
  {
   "cell_type": "code",
   "execution_count": null,
   "id": "b0346a35-7345-4da8-822a-fe1bcdbb6f76",
   "metadata": {
    "tags": []
   },
   "outputs": [],
   "source": [
    "if doIngest:\n",
    "    t0, t1 = '2022-01-01T00', '2022-01-31T23'\n",
    "    ds_pco2, reply = ShallowProfilerDataReduce(ds, t0, t1, ['pco2_seawater', 'int_ctd_pressure'], ['pco2', 'depth'])\n",
    "    ds_pco2.to_netcdf('./data/rca/sensors/osb/pco2_jan_2022.nc')\n",
    "\n",
    "ds_pco2   = xr.open_dataset('./data/rca/sensors/osb/pco2_jan_2022.nc')\n",
    "fig, axes = ChartSensor(profiles, ranges['pco2'], [3, 8, 12, 17], ds_pco2.pco2,       -ds_pco2.depth,    'pco2', 'black', 'descent', 6, 4)"
   ]
  },
  {
   "cell_type": "code",
   "execution_count": 1,
   "id": "c8854f0f-6016-4499-a077-34065e2a6e11",
   "metadata": {},
   "outputs": [
    {
     "name": "stdout",
     "output_type": "stream",
     "text": [
      "data query result type: <class 'list'> with 8760 elements\n",
      "prep time 6.17 seconds; data vector length: 4380\n"
     ]
    },
    {
     "data": {
      "image/png": "[encoded data removed]",
      "text/plain": [
       "<Figure size 700x550 with 2 Axes>"
      ]
     },
     "metadata": {},
     "output_type": "display_data"
    }
   ],
   "source": [
    "import oceanclient as oc\n",
    "dfT, dfS = oc.Chart('2022-01-05', 9)"
   ]
  },
  {
   "cell_type": "code",
   "execution_count": null,
   "id": "4e87b0e1-ee1a-468b-b68a-8db121fa1be1",
   "metadata": {},
   "outputs": [],
   "source": [
    "dfT, dfS = oc.Chart('2022-01-04', 7)"
   ]
  },
  {
   "cell_type": "code",
   "execution_count": null,
   "id": "79015f47-f9dc-4c6b-a00a-7176d2097ebf",
   "metadata": {},
   "outputs": [],
   "source": [
    "dfS\n"
   ]
  },
  {
   "cell_type": "code",
   "execution_count": null,
   "id": "bd975c8d-4fb7-4e70-befe-49fd23f0728e",
   "metadata": {},
   "outputs": [],
   "source": []
  },
  {
   "cell_type": "code",
   "execution_count": null,
   "id": "f70b7ad3-efcc-4b56-8158-988b6da4d5f6",
   "metadata": {},
   "outputs": [],
   "source": []
  }
 ],
 "metadata": {
  "kernelspec": {
   "display_name": "Python 3 (ipykernel)",
   "language": "python",
   "name": "python3"
  },
  "language_info": {
   "codemirror_mode": {
    "name": "ipython",
    "version": 3
   },
   "file_extension": ".py",
   "mimetype": "text/x-python",
   "name": "python",
   "nbconvert_exporter": "python",
   "pygments_lexer": "ipython3",
   "version": "3.12.2"
  }
 },
 "nbformat": 4,
 "nbformat_minor": 5
}
