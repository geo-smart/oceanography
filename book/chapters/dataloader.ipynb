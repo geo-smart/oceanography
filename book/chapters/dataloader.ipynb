{
 "cells": [
  {
   "cell_type": "markdown",
   "id": "7d3e14f7-a804-4b73-b024-7e5073f3d641",
   "metadata": {},
   "source": [
    "[Jupyter Book](https://geo-smart.github.io/oceanography/intro.html) and [GitHub repo](https://github.com/geo-smart/oceanography).\n",
    "\n",
    "\n",
    "# Data Loader\n",
    "\n",
    "\n",
    "In the event that the data referenced in this book is not available: This notebook has sections to load it in.\n",
    "\n",
    "\n",
    "## Shallow Profiler Oregon Slope Base January 2022"
   ]
  },
  {
   "cell_type": "code",
   "execution_count": 1,
   "id": "b36f6773-8465-41b0-a408-a8b8d9d0a13d",
   "metadata": {
    "tags": []
   },
   "outputs": [
    {
     "name": "stdout",
     "output_type": "stream",
     "text": [
      "\n",
      "Jupyter Notebook running Python 3\n"
     ]
    }
   ],
   "source": [
    "import netCDF4\n",
    "import xarray as xr\n",
    "import s3fs\n",
    "from   shallowprofiler import *\n",
    "from   charts import *\n",
    "\n",
    "fs = s3fs.S3FileSystem(anon=True)\n",
    "\n",
    "streamlist = fs.listdir('ooi-data', detail = False)\n",
    "\n",
    "profiles = ReadProfileMetadata()\n",
    "\n",
    "# 'streamlist' as the last line of the cell will list out the streams; organized by site and instrument\n",
    "# For more details on the nomenclature run the following cell."
   ]
  },
  {
   "cell_type": "code",
   "execution_count": 2,
   "id": "ba1fb07e-5c79-4e38-969b-0e253f363c30",
   "metadata": {
    "tags": []
   },
   "outputs": [
    {
     "name": "stdout",
     "output_type": "stream",
     "text": [
      "List Oregon Slope Base Profiler streams:\n",
      "\n",
      "ooi-data/RS01SBPS-SF01A-2A-CTDPFA102-streamed-ctdpf_sbe43_sample\n",
      "ooi-data/RS01SBPS-SF01A-2D-PHSENA101-streamed-phsen_data_record\n",
      "ooi-data/RS01SBPS-SF01A-3A-FLORTD101-streamed-flort_d_data_record\n",
      "ooi-data/RS01SBPS-SF01A-3B-OPTAAD101-streamed-optaa_sample\n",
      "ooi-data/RS01SBPS-SF01A-3C-PARADA101-streamed-parad_sa_sample\n",
      "ooi-data/RS01SBPS-SF01A-3D-SPKIRA101-streamed-spkir_data_record\n",
      "ooi-data/RS01SBPS-SF01A-4A-NUTNRA101-streamed-nutnr_a_dark_sample\n",
      "ooi-data/RS01SBPS-SF01A-4A-NUTNRA101-streamed-nutnr_a_sample\n",
      "ooi-data/RS01SBPS-SF01A-4B-VELPTD102-streamed-velpt_velocity_data\n",
      "ooi-data/RS01SBPS-SF01A-4F-PCO2WA101-streamed-pco2w_a_sami_data_record\n",
      "\n",
      "Translation:\n",
      "  CTDPF / ctdpf                 CTD\n",
      "  PHSEN / phsen                 pH\n",
      "  FLORT / flort                 Fluorometer { FDOM, Chlor-A, Backscatter }\n",
      "  OPTAA / optaa                 Spectrophotometer\n",
      "  PARAD / parad                 PAR\n",
      "  SPKIR / spkir                 Spectral Irradiance\n",
      "  NUTNR / nutnr_a_dark_sample   Nitrate: Dark sample (explain please)\n",
      "  NUTNR / nutnr_a_sample        Nitrate: ...\n",
      "  VELPT / velpt                 Velocity (current) ambiguous: on SCIP or affixed to platform?\n",
      "  PCO2W / pco2w                 pCO2\n",
      "\n",
      "\n",
      "Full stream name: ooi-data/CE04OSPS-SF01B-2A-CTDPFA107-streamed-ctdpf_sbe43_sample\n",
      "\n",
      "Field breakout: CE 04 OS PS SF 01 B 2A CTDPF A 107 ctdpf_sbe43_sample\n",
      "\n",
      "The first field has CE for Coastal Endurance or RS for Regional Cabled Array.\n",
      "The Oregon Offshore site is a CE site; the other two are RS sites.\n",
      "Fields 5, 6 and 7 give us shallow profiler site and choice of profiler or platform.\n",
      "\n",
      "    PC 01 B --> Oregon Offshore 200m Platform\n",
      "    SF 01 B --> Oregon Offshore Profiler\n",
      "    PC 01 A --> Oregon Slope Base 200m Platform\n",
      "    SF 01 A --> Oregon Slope Base Profiler\n",
      "    PC 03 A --> Axial Base 200m Platform\n",
      "    SF 03 A --> Axial Base Profiler\n",
      "\n",
      "Non-shallow-profiler examples:\n",
      "  DP O3 A is the Axial Base Deep Profiler\n",
      "  LJ 01 A is the Oregon Slope Base Seafloor\n",
      "\n"
     ]
    }
   ],
   "source": [
    "def InstrumentBreakout(s):\n",
    "    print('Field breakout:', s[9:11], s[11:13], s[13:15], s[15:17], s[18:20], s[20:22], s[22:23], s[24:26], \\\n",
    "          s[27:32], s[32:33], s[33:36], s[46:])\n",
    "\n",
    "print('List Oregon Slope Base Profiler streams:\\n')\n",
    "for s in streamlist:\n",
    "    if 'SF01A' in s: print(s)\n",
    "print()\n",
    "print('Translation:')\n",
    "print('  CTDPF / ctdpf                 CTD')\n",
    "print('  PHSEN / phsen                 pH')\n",
    "print('  FLORT / flort                 Fluorometer { FDOM, Chlor-A, Backscatter }')\n",
    "print('  OPTAA / optaa                 Spectrophotometer') \n",
    "print('  PARAD / parad                 PAR')\n",
    "print('  SPKIR / spkir                 Spectral Irradiance')\n",
    "print('  NUTNR / nutnr_a_dark_sample   Nitrate: Dark sample (explain please)')\n",
    "print('  NUTNR / nutnr_a_sample        Nitrate: ...')\n",
    "print('  VELPT / velpt                 Velocity (current) ambiguous: on SCIP or affixed to platform?')\n",
    "print('  PCO2W / pco2w                 pCO2')\n",
    "print()\n",
    "\n",
    "stream_choice = 15       # the 15th element in the file list corresponds to the Shallow Profiler, Oregon Slope Base site\n",
    "\n",
    "print()\n",
    "print('Full stream name:', streamlist[stream_choice])\n",
    "print()\n",
    "InstrumentBreakout(streamlist[stream_choice])\n",
    "print()\n",
    "print('The first field has CE for Coastal Endurance or RS for Regional Cabled Array.')\n",
    "print('The Oregon Offshore site is a CE site; the other two are RS sites.')\n",
    "print('Fields 5, 6 and 7 give us shallow profiler site and choice of profiler or platform.')\n",
    "print()\n",
    "indenter = 4\n",
    "print(' '*indenter + 'PC 01 B --> Oregon Offshore 200m Platform')\n",
    "print(' '*indenter + 'SF 01 B --> Oregon Offshore Profiler')\n",
    "print(' '*indenter + 'PC 01 A --> Oregon Slope Base 200m Platform')\n",
    "print(' '*indenter + 'SF 01 A --> Oregon Slope Base Profiler')\n",
    "print(' '*indenter + 'PC 03 A --> Axial Base 200m Platform')\n",
    "print(' '*indenter + 'SF 03 A --> Axial Base Profiler')\n",
    "print()\n",
    "print('Non-shallow-profiler examples:')\n",
    "print('  DP O3 A is the Axial Base Deep Profiler')\n",
    "print('  LJ 01 A is the Oregon Slope Base Seafloor')\n",
    "print()"
   ]
  },
  {
   "cell_type": "code",
   "execution_count": 3,
   "id": "033ab2fe-0e44-43fe-8bcb-0fa6d7113bb5",
   "metadata": {
    "tags": []
   },
   "outputs": [],
   "source": [
    "def loadData(stream_name):\n",
    "    fs = s3fs.S3FileSystem(anon=True)\n",
    "    zarr_store = fs.get_mapper(stream_name)\n",
    "    ds = xr.open_zarr(zarr_store, consolidated=True)\n",
    "    return ds\n",
    "\n",
    "def ShallowProfilerDataReduce(ds, t0, t1, keepers, rename):\n",
    "    \"\"\"\n",
    "    From a zarr Dataset for a shallow profiler stream ('ds') write a NetCDF file with just \n",
    "    time/sensor-value/depth over a time period typically no longer than a month.\n",
    "      - check that the dimension and coordinate is 'time'\n",
    "      - drop or rename data vars\n",
    "      - drop attributes\n",
    "    \"\"\"\n",
    "    if not len(ds.dims) == 1: \n",
    "        for dim in ds.dims:\n",
    "            if not dim == 'time':\n",
    "                ds = ds.drop_dims(dim)\n",
    "        if not len(ds.dims) == 1: return False, \"Failed to drop non-time dimensions\"\n",
    "    if not list(dict(ds.dims))[0] == 'time': \n",
    "        return False, \"Dataset dim is not 'time' (as assumed)\"\n",
    "    if not len(ds.coords) == 1: \n",
    "        return False, \"Dataset coords count is not 1 (as assumed)\"\n",
    "    if not list(dict(ds.coords))[0] == 'time': \n",
    "        return False, \"Dataset coord is not 'time' (as assumed)\"\n",
    "    \n",
    "    ds = ds.sel(time=slice(t0, t1))\n",
    "    \n",
    "    for s in ds.data_vars:\n",
    "        if not s in keepers: ds = ds.drop(s)                              # drop extraneous data vars\n",
    "    for s in ds.data_vars: ds = ds.rename({s:rename[keepers.index(s)]})   # rename the others\n",
    "    a = [s for s in ds.attrs]\n",
    "    for p in a: ds.attrs.pop(p)\n",
    "    return ds, 'looks ok'"
   ]
  },
  {
   "cell_type": "code",
   "execution_count": 4,
   "id": "253326b9-2e9b-4630-a621-91859d9bec4c",
   "metadata": {
    "tags": []
   },
   "outputs": [
    {
     "name": "stdout",
     "output_type": "stream",
     "text": [
      "CTD: ooi-data/RS01SBPS-SF01A-2A-CTDPFA102-streamed-ctdpf_sbe43_sample\n",
      "Current: ooi-data/RS01SBPS-SF01A-4B-VELPTD102-streamed-velpt_velocity_data\n",
      "There are 10 Oregon Slope Base profiler streams\n"
     ]
    }
   ],
   "source": [
    "osb_profiler_streams = [sname for sname in streamlist if 'SF01A' in sname]\n",
    "\n",
    "for s in osb_profiler_streams: \n",
    "    if 'ctdpf' in s: print('CTD:', s)\n",
    "    if 'velpt' in s: print('Current:', s)\n",
    "    \n",
    "print(\"There are\", len(osb_profiler_streams), \"Oregon Slope Base profiler streams\")"
   ]
  },
  {
   "cell_type": "markdown",
   "id": "1b94a1e6-0ae5-4423-9606-1ecfeff4ca94",
   "metadata": {},
   "source": [
    "### Go through all 10 osb profiler streams in sequence\n",
    "\n",
    "In this order: \n",
    "\n",
    "- ctdpf\n",
    "- phsen\n",
    "- flort\n",
    "- optaa\n",
    "- parad\n",
    "- spkir\n",
    "- nutnr_a_dark_sample\n",
    "- nutnr_a_sample\n",
    "- velpt\n",
    "- pco2w\n",
    "\n",
    "\n",
    "#### 1 of 10: **ctdpf** i.e. CTD"
   ]
  },
  {
   "cell_type": "code",
   "execution_count": null,
   "id": "6c46400e-d2ea-41b2-baf2-c8cf4b105298",
   "metadata": {
    "tags": []
   },
   "outputs": [],
   "source": [
    "for s in osb_profiler_streams: \n",
    "    if 'ctdpf' in s: \n",
    "        print('Found CTD:', s)\n",
    "        stream_ctd = s\n",
    "        break\n",
    "        \n",
    "ds = loadData(stream_ctd)                             # lazy load\n",
    "t0, t1 = '2022-01-01T00', '2022-12-31T23'             # January 2022\n",
    "ds = ds.sel(time=slice(t0, t1))                       # Subset the full time range to one month\n",
    "print(ds.time[0], '              ', ds.time[-1])      # verify selected one month time range\n",
    "ds                                                    # get a 'data variable' list of sensors/metadata for this instrument"
   ]
  },
  {
   "cell_type": "markdown",
   "id": "f980dc6e-58db-4377-b84c-92801017b37f",
   "metadata": {},
   "source": [
    "We pull five sensor time series datasets from the CTD stream. These are named data variables and\n",
    "they will be renamed using the table found in the **Data** chapter. Each sensor dataset also contains\n",
    "time (as dimension/coordinate) and depth (as a second data variable). \n",
    "Depth is the `sea_water_pressure` data variable renamed. \n",
    "\n",
    "```\n",
    "corrected_dissolved_oxygen              do              depth  \n",
    "sea_water_density                       density         depth                     \n",
    "sea_water_electrical_conductivity       conductivity    depth       \n",
    "sea_water_practical_salinity            salinity        depth\n",
    "sea_water_temperature                   temp            depth\n",
    "```"
   ]
  },
  {
   "cell_type": "code",
   "execution_count": null,
   "id": "f242c716-90a1-4ce6-b07b-4ba49b58f8f1",
   "metadata": {
    "tags": []
   },
   "outputs": [],
   "source": [
    "t0, t1 = '2022-01-01T00', '2022-01-31T23'\n",
    "ds_do, reply1           = ShallowProfilerDataReduce(ds, t0, t1, ['corrected_dissolved_oxygen', 'sea_water_pressure'], ['do', 'depth'])\n",
    "ds_density, reply2      = ShallowProfilerDataReduce(ds, t0, t1, ['sea_water_density', 'sea_water_pressure'], ['density', 'depth'])\n",
    "ds_conductivity, reply3 = ShallowProfilerDataReduce(ds, t0, t1, ['sea_water_electrical_conductivity', 'sea_water_pressure'], ['conductivity', 'depth'])\n",
    "ds_salinity, reply4    = ShallowProfilerDataReduce(ds, t0, t1, ['sea_water_practical_salinity', 'sea_water_pressure'], ['salinity', 'depth'])\n",
    "ds_temp, reply5        = ShallowProfilerDataReduce(ds, t0, t1, ['sea_water_temperature', 'sea_water_pressure'], ['temp', 'depth'])\n",
    "\n",
    "if False: \n",
    "    print(reply1)\n",
    "    print(reply2)\n",
    "    print(reply3)\n",
    "    print(reply4)\n",
    "    print(reply5)\n",
    "\n",
    "if False: \n",
    "    print(ds_do)\n",
    "    print(ds_density)\n",
    "    print(ds_conductivity)\n",
    "    print(ds_salinity)\n",
    "    print(ds_temp)\n",
    "\n",
    "ds_do.to_netcdf('./data/rca/sensors/osb/do_jan_2022.nc') \n",
    "ds_density.to_netcdf('./data/rca/sensors/osb/density_jan_2022.nc') \n",
    "ds_conductivity.to_netcdf('./data/rca/sensors/osb/conductivity_jan_2022.nc') \n",
    "ds_salinity.to_netcdf('./data/rca/sensors/osb/salinity_jan_2022.nc') \n",
    "ds_temp.to_netcdf('./data/rca/sensors/osb/temp_jan_2022.nc') "
   ]
  },
  {
   "cell_type": "code",
   "execution_count": null,
   "id": "14ccbac3-2fbc-48cb-a969-f52ee75ff82b",
   "metadata": {
    "tags": []
   },
   "outputs": [],
   "source": [
    "ds_temp = xr.open_dataset('./data/rca/sensors/osb/temp_jan_2022.nc')\n",
    "\n",
    "# temperature: ascent versus descent\n",
    "fig,axs = ChartTwoSensors(profiles, [ranges['temperature'], ranges['temperature']], [0], \n",
    "                          ds_temp.temp, -ds_temp.depth,\n",
    "                          'T-Ascent',   colors['temperature'],    'ascent',\n",
    "                          ds_temp.temp, -ds_temp.depth,\n",
    "                          'T-Descent',  'green',                  'descent', 6, 4)"
   ]
  },
  {
   "cell_type": "markdown",
   "id": "89d33a5d-636e-4142-a925-0968ee2e94b4",
   "metadata": {},
   "source": [
    "#### 2 of 10: **phsen** i.e. pH"
   ]
  },
  {
   "cell_type": "code",
   "execution_count": null,
   "id": "cfe26ea4-75e6-4778-b077-71b1ae8ca111",
   "metadata": {
    "tags": []
   },
   "outputs": [],
   "source": [
    "instrument_key = 'phsen'\n",
    "for s in osb_profiler_streams: \n",
    "    if instrument_key in s: \n",
    "        print('Found this instrument stream:', s)\n",
    "        instrument_stream = s\n",
    "        break\n",
    "        \n",
    "ds = loadData(instrument_stream)                      # lazy load\n",
    "t0, t1 = '2022-01-01T00', '2022-12-31T23'             # January 2022\n",
    "ds = ds.sel(time=slice(t0, t1))                       # Subset the full time range to one month\n",
    "print(ds.time[0], '              ', ds.time[-1])      # verify selected one month time range\n",
    "ds                                                    # get a 'data variable' list of sensors/metadata for this instrument"
   ]
  },
  {
   "cell_type": "markdown",
   "id": "9af9a4a0-2b75-496f-9c59-3f7f3f1db186",
   "metadata": {},
   "source": [
    "We pull one sensor time series dataset from this stream. See the CTD section above\n",
    "and the Data chapter. The data variable of interest is `ph_seawater` which will be\n",
    "renamed ph. Depth will be a rename of the `int_ctd_pressure` data variable. \n",
    "This stream has multiple dimensions so there is a preliminary step to isolate\n",
    "just time, ph_seawater and int_ctd_pressure. "
   ]
  },
  {
   "cell_type": "code",
   "execution_count": null,
   "id": "d023983f-ac29-44bb-b4ed-78bf758c25a4",
   "metadata": {
    "tags": []
   },
   "outputs": [],
   "source": [
    "t0, t1 = '2022-01-01T00', '2022-01-31T23'\n",
    "ds_ph, reply = ShallowProfilerDataReduce(ds, t0, t1, ['ph_seawater', 'int_ctd_pressure'], ['ph', 'depth'])\n",
    "print(reply)\n",
    "print(ds_ph)\n",
    "\n",
    "ds_ph.to_netcdf('./data/rca/sensors/osb/ph_jan_2022.nc') "
   ]
  },
  {
   "cell_type": "code",
   "execution_count": null,
   "id": "25bb73e1-578b-4752-9816-c3d99cda4854",
   "metadata": {
    "tags": []
   },
   "outputs": [],
   "source": [
    "ds_ph = xr.open_dataset('./data/rca/sensors/osb/ph_jan_2022.nc')\n",
    "\n",
    "# ph: is measured on descent\n",
    "fig, axes = ChartSensor(profiles, ranges['ph'], [3, 8, 12, 17], ds_ph.ph, -ds_ph.depth, 'profile pH', 'black', 'descent', 6, 4)"
   ]
  },
  {
   "cell_type": "markdown",
   "id": "9b016396-a8e7-4bd5-992d-9ae31c615841",
   "metadata": {},
   "source": [
    "#### 3 of 10: **flort** i.e. fluorometer: Chlor-A, FDOM, particulate backscatter"
   ]
  },
  {
   "cell_type": "code",
   "execution_count": null,
   "id": "c887bf8c-facf-4400-8aa7-cafdd2947452",
   "metadata": {
    "tags": []
   },
   "outputs": [],
   "source": [
    "instrument_key = 'flort'\n",
    "for s in osb_profiler_streams: \n",
    "    if instrument_key in s: \n",
    "        print('Found this instrument stream:', s)\n",
    "        instrument_stream = s\n",
    "        break\n",
    "        \n",
    "ds = loadData(instrument_stream)                      # lazy load\n",
    "t0, t1 = '2022-01-01T00', '2022-12-31T23'             # January 2022\n",
    "ds = ds.sel(time=slice(t0, t1))                       # Subset the full time range to one month\n",
    "print(ds.time[0], '              ', ds.time[-1])      # verify selected one month time range\n",
    "ds                                                    # get a 'data variable' list of sensors/metadata for this instrument"
   ]
  },
  {
   "cell_type": "markdown",
   "id": "cabefd1c-6d6d-429f-ac10-6cd9b0418ba7",
   "metadata": {},
   "source": [
    "We pull three sensor time series datasets from this stream. See the CTD section above\n",
    "and the Data chapter. Data variables: \n",
    "\n",
    "```\n",
    "fluorometric_cdom           >      fdom, depth\n",
    "fluorometric_chlorophyll_a  >      chlora, depth\n",
    "optical_backscatter         >      backscatter, depth\n",
    "```\n",
    "\n",
    "Depth from `int_ctd_pressure`."
   ]
  },
  {
   "cell_type": "code",
   "execution_count": null,
   "id": "0512238e-e884-4f06-9a62-dcfde0769a17",
   "metadata": {
    "tags": []
   },
   "outputs": [],
   "source": [
    "t0, t1 = '2022-01-01T00', '2022-01-31T23'\n",
    "ds_fdom, reply        = ShallowProfilerDataReduce(ds, t0, t1, ['fluorometric_cdom', 'int_ctd_pressure'], ['fdom', 'depth'])\n",
    "ds_chlora, reply      = ShallowProfilerDataReduce(ds, t0, t1, ['fluorometric_chlorophyll_a', 'int_ctd_pressure'], ['chlora', 'depth'])\n",
    "ds_backscatter, reply = ShallowProfilerDataReduce(ds, t0, t1, ['optical_backscatter', 'int_ctd_pressure'], ['backscatter', 'depth'])\n",
    "\n",
    "ds_fdom.to_netcdf('./data/rca/sensors/osb/fdom_jan_2022.nc')\n",
    "ds_chlora.to_netcdf('./data/rca/sensors/osb/chlora_jan_2022.nc')\n",
    "ds_backscatter.to_netcdf('./data/rca/sensors/osb/backscatter_jan_2022.nc')\n",
    "\n",
    "ds_fdom        = xr.open_dataset('./data/rca/sensors/osb/fdom_jan_2022.nc')\n",
    "ds_chlora      = xr.open_dataset('./data/rca/sensors/osb/chlora_jan_2022.nc')\n",
    "ds_backscatter = xr.open_dataset('./data/rca/sensors/osb/backscatter_jan_2022.nc')"
   ]
  },
  {
   "cell_type": "code",
   "execution_count": null,
   "id": "8eff1269-6b7d-494d-980a-bb7f7e4c0f9f",
   "metadata": {
    "tags": []
   },
   "outputs": [],
   "source": [
    "fig, axes = ChartSensor(profiles, ranges['fdom'],        [0], ds_fdom.fdom,               -ds_fdom.depth,        'profile fdom', 'black', 'ascent', 6, 4)\n",
    "fig, axes = ChartSensor(profiles, ranges['chlora'],      [0], ds_chlora.chlora,           -ds_chlora.depth,      'profile chlora', 'black', 'ascent', 6, 4)\n",
    "fig, axes = ChartSensor(profiles, ranges['backscatter'], [0], ds_backscatter.backscatter, -ds_backscatter.depth, 'profile backscatter', 'black', 'ascent', 6, 4)"
   ]
  },
  {
   "cell_type": "markdown",
   "id": "4a520057-c39e-4bc1-a14c-71ada6a286dc",
   "metadata": {},
   "source": [
    "#### 4 of 10: **optaa** i.e. spectrophotometer 2 signals x 83 channels"
   ]
  },
  {
   "cell_type": "code",
   "execution_count": null,
   "id": "6ffe45d8-0a2f-4a24-bf2e-89f3eeeed381",
   "metadata": {
    "tags": []
   },
   "outputs": [],
   "source": [
    "instrument_key = 'optaa'\n",
    "for s in osb_profiler_streams: \n",
    "    if instrument_key in s: \n",
    "        print('Found this instrument stream:', s)\n",
    "        instrument_stream = s\n",
    "        break\n",
    "        \n",
    "ds = loadData(instrument_stream)                      # lazy load\n",
    "t0, t1 = '2022-01-01T00', '2022-12-31T23'             # January 2022\n",
    "ds = ds.sel(time=slice(t0, t1))                       # Subset the full time range to one month\n",
    "print(ds.time[0], '              ', ds.time[-1])      # verify selected one month time range\n",
    "ds                                                    # get a 'data variable' list of sensors/metadata for this instrument"
   ]
  },
  {
   "cell_type": "markdown",
   "id": "3768a1ad-1063-48b1-8a72-14455724496f",
   "metadata": {},
   "source": [
    "...paused here: This will require unique code to retain the wavelength dimension..."
   ]
  },
  {
   "cell_type": "code",
   "execution_count": null,
   "id": "46eb4373-7fc7-4d14-980f-20c3f6f375c1",
   "metadata": {},
   "outputs": [],
   "source": []
  },
  {
   "cell_type": "markdown",
   "id": "363f8c5a-ca63-46c6-8f2d-db244eb7e41c",
   "metadata": {},
   "source": [
    "#### 5 of 10: **parad** i.e. PAR (photosynthetically available radiation)"
   ]
  },
  {
   "cell_type": "code",
   "execution_count": null,
   "id": "7e641072-2737-4d98-bc84-9394cf9081c1",
   "metadata": {
    "tags": []
   },
   "outputs": [
    {
     "name": "stdout",
     "output_type": "stream",
     "text": [
      "Found this instrument stream: ooi-data/RS01SBPS-SF01A-3C-PARADA101-streamed-parad_sa_sample\n"
     ]
    }
   ],
   "source": [
    "instrument_key = 'parad'\n",
    "for s in osb_profiler_streams: \n",
    "    if instrument_key in s: \n",
    "        print('Found this instrument stream:', s)\n",
    "        instrument_stream = s\n",
    "        break\n",
    "        \n",
    "ds = loadData(instrument_stream)                      # lazy load\n",
    "t0, t1 = '2022-01-01T00', '2022-12-31T23'             # January 2022\n",
    "ds = ds.sel(time=slice(t0, t1))                       # Subset the full time range to one month\n",
    "print(ds.time[0], '              ', ds.time[-1])      # verify selected one month time range\n",
    "ds                                                    # get a 'data variable' list of sensors/metadata for this instrument"
   ]
  },
  {
   "cell_type": "code",
   "execution_count": null,
   "id": "629f4ef7-fbb5-41ca-86ef-57d890bdf5db",
   "metadata": {},
   "outputs": [],
   "source": []
  },
  {
   "cell_type": "code",
   "execution_count": null,
   "id": "b94180d3-bd6e-42ad-b555-9b1039d1b9e6",
   "metadata": {},
   "outputs": [],
   "source": []
  },
  {
   "cell_type": "markdown",
   "id": "be474e5a-5bd0-4636-b2ca-7232d5f0e08f",
   "metadata": {},
   "source": [
    "#### 6 of 10: **spkir** i.e. spectral irradiance"
   ]
  },
  {
   "cell_type": "code",
   "execution_count": null,
   "id": "dc18449d-8e02-4047-b5fa-4fec129f21c1",
   "metadata": {
    "tags": []
   },
   "outputs": [],
   "source": [
    "instrument_key = 'spkir'\n",
    "for s in osb_profiler_streams: \n",
    "    if instrument_key in s: \n",
    "        print('Found this instrument stream:', s)\n",
    "        instrument_stream = s\n",
    "        break\n",
    "        \n",
    "ds = loadData(instrument_stream)                      # lazy load\n",
    "t0, t1 = '2022-01-01T00', '2022-12-31T23'             # January 2022\n",
    "ds = ds.sel(time=slice(t0, t1))                       # Subset the full time range to one month\n",
    "print(ds.time[0], '              ', ds.time[-1])      # verify selected one month time range\n",
    "ds                                                    # get a 'data variable' list of sensors/metadata for this instrument"
   ]
  },
  {
   "cell_type": "code",
   "execution_count": null,
   "id": "9c1f9945-d3e1-4575-95a4-48a6bc068d12",
   "metadata": {},
   "outputs": [],
   "source": []
  },
  {
   "cell_type": "code",
   "execution_count": null,
   "id": "3393e860-90c7-4e9a-8167-7d63a18de279",
   "metadata": {},
   "outputs": [],
   "source": []
  },
  {
   "cell_type": "markdown",
   "id": "c424d0b3-9814-4e4b-b828-ccecc97b3a33",
   "metadata": {},
   "source": [
    "#### 7 of 10: **nutnr_a_dark_sample** i.e. nitrate explain dark"
   ]
  },
  {
   "cell_type": "code",
   "execution_count": null,
   "id": "8344cfa7-362c-4522-818c-788e7a639d48",
   "metadata": {
    "tags": []
   },
   "outputs": [],
   "source": [
    "instrument_key = 'nutnr_a_dark_sample'\n",
    "for s in osb_profiler_streams: \n",
    "    if instrument_key in s: \n",
    "        print('Found this instrument stream:', s)\n",
    "        instrument_stream = s\n",
    "        break\n",
    "        \n",
    "ds = loadData(instrument_stream)                      # lazy load\n",
    "t0, t1 = '2022-01-01T00', '2022-12-31T23'             # January 2022\n",
    "ds = ds.sel(time=slice(t0, t1))                       # Subset the full time range to one month\n",
    "print(ds.time[0], '              ', ds.time[-1])      # verify selected one month time range\n",
    "ds                                                    # get a 'data variable' list of sensors/metadata for this instrument"
   ]
  },
  {
   "cell_type": "code",
   "execution_count": null,
   "id": "486618e7-6cd3-4f4d-a1f3-9d8441cf4edc",
   "metadata": {},
   "outputs": [],
   "source": []
  },
  {
   "cell_type": "code",
   "execution_count": null,
   "id": "27d613fc-fd20-4e10-839f-ee722cd11709",
   "metadata": {},
   "outputs": [],
   "source": []
  },
  {
   "cell_type": "markdown",
   "id": "98f8cabc-dcfb-434a-be5d-a1bd263ee05a",
   "metadata": {},
   "source": [
    "#### 8 of 10: **nutnr_a_sample** i.e. nitrate"
   ]
  },
  {
   "cell_type": "code",
   "execution_count": null,
   "id": "69f59bc3-04c9-4dff-9950-b10a3bffd5fa",
   "metadata": {
    "tags": []
   },
   "outputs": [],
   "source": [
    "instrument_key = 'nutnr_a_sample'\n",
    "for s in osb_profiler_streams: \n",
    "    if instrument_key in s: \n",
    "        print('Found this instrument stream:', s)\n",
    "        instrument_stream = s\n",
    "        break\n",
    "        \n",
    "ds = loadData(instrument_stream)                      # lazy load\n",
    "t0, t1 = '2022-01-01T00', '2022-12-31T23'             # January 2022\n",
    "ds = ds.sel(time=slice(t0, t1))                       # Subset the full time range to one month\n",
    "print(ds.time[0], '              ', ds.time[-1])      # verify selected one month time range\n",
    "ds                                                    # get a 'data variable' list of sensors/metadata for this instrument"
   ]
  },
  {
   "cell_type": "code",
   "execution_count": null,
   "id": "d222190b-0102-40ba-bddf-8542e840387b",
   "metadata": {},
   "outputs": [],
   "source": []
  },
  {
   "cell_type": "code",
   "execution_count": null,
   "id": "5d3aa1c9-d4ae-45de-a79c-94d56195c008",
   "metadata": {},
   "outputs": [],
   "source": []
  },
  {
   "cell_type": "markdown",
   "id": "037fc2c3-ab7b-4003-9ee9-8636daafe528",
   "metadata": {},
   "source": [
    "#### 9 of 10: **velpt** i.e. current velocity"
   ]
  },
  {
   "cell_type": "code",
   "execution_count": null,
   "id": "5b764c28-ae36-4066-9d3e-64873c13962a",
   "metadata": {
    "tags": []
   },
   "outputs": [],
   "source": [
    "instrument_key = 'velpt'\n",
    "for s in osb_profiler_streams: \n",
    "    if instrument_key in s: \n",
    "        print('Found this instrument stream:', s)\n",
    "        instrument_stream = s\n",
    "        break\n",
    "        \n",
    "ds = loadData(instrument_stream)                      # lazy load\n",
    "t0, t1 = '2022-01-01T00', '2022-12-31T23'             # January 2022\n",
    "ds = ds.sel(time=slice(t0, t1))                       # Subset the full time range to one month\n",
    "print(ds.time[0], '              ', ds.time[-1])      # verify selected one month time range\n",
    "ds                                                    # get a 'data variable' list of sensors/metadata for this instrument"
   ]
  },
  {
   "cell_type": "code",
   "execution_count": null,
   "id": "f759c852-2b10-401f-8829-6f7eccdb5fac",
   "metadata": {},
   "outputs": [],
   "source": []
  },
  {
   "cell_type": "code",
   "execution_count": null,
   "id": "065f320a-a80c-420b-8440-cfef842a599a",
   "metadata": {},
   "outputs": [],
   "source": []
  },
  {
   "cell_type": "markdown",
   "id": "10d0a25c-1a19-4a1f-b4db-aaed671d5c28",
   "metadata": {},
   "source": [
    "#### 10 of 10: **pco2w** i.e. pCO2"
   ]
  },
  {
   "cell_type": "code",
   "execution_count": null,
   "id": "129d7553-1fbc-4bd3-aed5-a21583f02e29",
   "metadata": {
    "tags": []
   },
   "outputs": [],
   "source": [
    "instrument_key = 'pco2w'\n",
    "for s in osb_profiler_streams: \n",
    "    if instrument_key in s: \n",
    "        print('Found this instrument stream:', s)\n",
    "        instrument_stream = s\n",
    "        break\n",
    "        \n",
    "ds = loadData(instrument_stream)                      # lazy load\n",
    "t0, t1 = '2022-01-01T00', '2022-12-31T23'             # January 2022\n",
    "ds = ds.sel(time=slice(t0, t1))                       # Subset the full time range to one month\n",
    "print(ds.time[0], '              ', ds.time[-1])      # verify selected one month time range\n",
    "ds                                                    # get a 'data variable' list of sensors/metadata for this instrument"
   ]
  },
  {
   "cell_type": "code",
   "execution_count": null,
   "id": "5d4d7bba-308b-4289-abf6-84f12d3d0226",
   "metadata": {},
   "outputs": [],
   "source": []
  },
  {
   "cell_type": "code",
   "execution_count": null,
   "id": "b0346a35-7345-4da8-822a-fe1bcdbb6f76",
   "metadata": {},
   "outputs": [],
   "source": []
  }
 ],
 "metadata": {
  "kernelspec": {
   "display_name": "Python 3 (ipykernel)",
   "language": "python",
   "name": "python3"
  },
  "language_info": {
   "codemirror_mode": {
    "name": "ipython",
    "version": 3
   },
   "file_extension": ".py",
   "mimetype": "text/x-python",
   "name": "python",
   "nbconvert_exporter": "python",
   "pygments_lexer": "ipython3",
   "version": "3.11.4"
  }
 },
 "nbformat": 4,
 "nbformat_minor": 5
}
