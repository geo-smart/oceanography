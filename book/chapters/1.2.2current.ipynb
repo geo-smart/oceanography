{
 "cells": [
  {
   "cell_type": "markdown",
   "id": "05f3da50-e65c-4be0-b827-45fc3c9818df",
   "metadata": {},
   "source": [
    "# Current\n",
    "\n",
    "Let's define some observational concepts.\n",
    "\n",
    "***Observation structure***: A high-confidence (i.e. real physical) anomaly\n",
    "at the observing site.\n",
    "\n",
    "\n",
    "***Persistence***: Epipelagic observational structure visible as a \n",
    "distinct onset -- persistence -- termination episode."
   ]
  },
  {
   "cell_type": "code",
   "execution_count": null,
   "id": "cc2d5d4d-5072-4f6e-992d-dabd2ff831a4",
   "metadata": {},
   "outputs": [],
   "source": []
  }
 ],
 "metadata": {
  "kernelspec": {
   "display_name": "Python 3 (ipykernel)",
   "language": "python",
   "name": "python3"
  },
  "language_info": {
   "codemirror_mode": {
    "name": "ipython",
    "version": 3
   },
   "file_extension": ".py",
   "mimetype": "text/x-python",
   "name": "python",
   "nbconvert_exporter": "python",
   "pygments_lexer": "ipython3",
   "version": "3.12.3"
  }
 },
 "nbformat": 4,
 "nbformat_minor": 5
}
