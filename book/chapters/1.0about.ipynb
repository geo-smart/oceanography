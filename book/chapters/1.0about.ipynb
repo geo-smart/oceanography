{
 "cells": [
  {
   "cell_type": "markdown",
   "metadata": {
    "tags": []
   },
   "source": [
    "[Jupyter Book](https://geo-smart.github.io/oceanography/intro.html)\n",
    "[GitHub repo](https://github.com/geo-smart/oceanography)\n",
    "\n",
    "\n",
    "# The GeoSMART Use Case Library\n",
    "\n",
    "\n",
    "## Preamble\n",
    "\n",
    "These remarks consider a collection of Jupyter Books forming a digital \n",
    "geoscience library. \n",
    "Books in the library can be identified by the badge\n",
    "[![GeoSMART Use Case](../img/use_case_badge.svg)](https://geo-smart.github.io/usecases)\n",
    "\n",
    "\n",
    "## Contributing\n",
    "\n",
    "DIY Jupyter Book from template; or contribute content for integration\n",
    "\n",
    "\n",
    "Jupyter books support executable code on some platform.\n",
    "\n",
    "\n",
    "* Binder\n",
    "* Google Colab\n",
    "* Free AWS tier (smaller cloud-based examples)\n",
    "\n",
    "\n",
    "## Creating a Jupyter Book\n",
    "\n",
    "\n",
    "Navigate the Use Case template repository and click \"use as template\".\n",
    "In the resulting repo: The `.github` folder contains github actions that will \n",
    "recompile the book when revisions are submitted. There is no gh-pages branch\n",
    "creation; this is automated."
   ]
  },
  {
   "cell_type": "code",
   "execution_count": null,
   "metadata": {},
   "outputs": [],
   "source": []
  }
 ],
 "metadata": {
  "kernelspec": {
   "display_name": "Python 3 (ipykernel)",
   "language": "python",
   "name": "python3"
  },
  "language_info": {
   "codemirror_mode": {
    "name": "ipython",
    "version": 3
   },
   "file_extension": ".py",
   "mimetype": "text/x-python",
   "name": "python",
   "nbconvert_exporter": "python",
   "pygments_lexer": "ipython3",
   "version": "3.12.3"
  },
  "vscode": {
   "interpreter": {
    "hash": "c446eef832ec964573dc49f36fd16bdbed40cbfbefbf557bc2dc78d9e7968689"
   }
  }
 },
 "nbformat": 4,
 "nbformat_minor": 4
}
