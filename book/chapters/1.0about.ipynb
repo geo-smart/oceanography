{
 "cells": [
  {
   "cell_type": "markdown",
   "metadata": {
    "tags": []
   },
   "source": [
    "[Jupyter Book](https://geo-smart.github.io/oceanography/intro.html)\n",
    "[GitHub repo](https://github.com/geo-smart/oceanography)\n",
    "\n",
    "\n",
    "# About the GeoSMART Use Case Library and this book on oceanography\n",
    "\n",
    "\n",
    "## The GeoSMART Jupyter Book library\n",
    "\n",
    "\n",
    "Jupyter Books include executable code. Supporting platforms include\n",
    "Binder, Colab and the AWS free tier.\n",
    "\n",
    "\n",
    "GeoSMART supports a collection of Jupyter Books forming a digital geoscience library. \n",
    "Books in the library can be identified by this badge:\n",
    "\n",
    "\n",
    "[![GeoSMART Use Case](../img/use_case_badge.svg)](https://geo-smart.github.io/usecases)\n",
    "\n",
    "\n",
    "Contributions are welcome! Taking a full scale 'do it yourself' approach: \n",
    "Create a Jupyter Book from a GeoSMART template. Contributions are also welcome\n",
    "on a smaller scale: Simply start that conversation by contacting the GeoSMAR organization.\n",
    "\n",
    "\n",
    "### Creating a Jupyter Book\n",
    "\n",
    "\n",
    "Navigate the Use Case template repository and click \"use as template\".\n",
    "In the resulting repo: The `.github` folder contains github actions that will \n",
    "recompile the book when revisions are submitted. There is no gh-pages branch\n",
    "creation; this is automated."
   ]
  },
  {
   "cell_type": "markdown",
   "metadata": {},
   "source": [
    "## Oceanography\n",
    "\n",
    "\n",
    "The book is divided into two parts. The first part emphasizes scientific research\n",
    "concerning the upper layer of the\n",
    "\n",
    "\n",
    "\n",
    "\n",
    "\n"
   ]
  }
 ],
 "metadata": {
  "kernelspec": {
   "display_name": "Python 3 (ipykernel)",
   "language": "python",
   "name": "python3"
  },
  "language_info": {
   "codemirror_mode": {
    "name": "ipython",
    "version": 3
   },
   "file_extension": ".py",
   "mimetype": "text/x-python",
   "name": "python",
   "nbconvert_exporter": "python",
   "pygments_lexer": "ipython3",
   "version": "3.12.3"
  },
  "vscode": {
   "interpreter": {
    "hash": "c446eef832ec964573dc49f36fd16bdbed40cbfbefbf557bc2dc78d9e7968689"
   }
  }
 },
 "nbformat": 4,
 "nbformat_minor": 4
}
