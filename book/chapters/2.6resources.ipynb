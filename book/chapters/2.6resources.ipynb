{
 "cells": [
  {
   "cell_type": "markdown",
   "id": "cf3937d6-7bf3-4b03-ae47-7ab0c5eef559",
   "metadata": {},
   "source": [
    "[Jupyter Book](https://geo-smart.github.io/oceanography/chapters/2.6resources.html) \n",
    "<br> [GitHub repo](https://github.com/geo-smart/oceanography)\n",
    "<br> [Regional Cabled Array Learning Site](https://interactiveoceans.washington.edu)\n",
    "<br> [Ryan Abernathy's Introduction to Physical Oceanography](https://rabernat.github.io/intro_to_physical_oceanography/intro.html#)\n",
    "\n",
    "\n",
    "\n",
    "\n",
    "# Resources\n",
    "\n",
    "This chapter provides some pathways for learning more about ocean science.\n",
    "\n",
    "\n",
    "## Oceanography learning sites\n",
    "\n",
    "- [Introduction to Physical Oceanography by Ryan Abernathy](https://rabernat.github.io/intro_to_physical_oceanography/intro.html#)\n",
    "- [Ocean Carbon and Biogeochemistry](https://www.us-ocb.org/)\n",
    "- [Regional Cabled Array (University of Washington)](https://interactiveoceans.washington.edu)"
   ]
  },
  {
   "cell_type": "code",
   "execution_count": null,
   "id": "ad36906b-6e00-427e-ba2d-4f8adbf34e93",
   "metadata": {},
   "outputs": [],
   "source": []
  }
 ],
 "metadata": {
  "kernelspec": {
   "display_name": "Python 3 (ipykernel)",
   "language": "python",
   "name": "python3"
  },
  "language_info": {
   "codemirror_mode": {
    "name": "ipython",
    "version": 3
   },
   "file_extension": ".py",
   "mimetype": "text/x-python",
   "name": "python",
   "nbconvert_exporter": "python",
   "pygments_lexer": "ipython3",
   "version": "3.12.3"
  }
 },
 "nbformat": 4,
 "nbformat_minor": 5
}
