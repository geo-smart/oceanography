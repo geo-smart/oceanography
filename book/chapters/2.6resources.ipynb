{
 "cells": [
  {
   "cell_type": "markdown",
   "id": "cf3937d6-7bf3-4b03-ae47-7ab0c5eef559",
   "metadata": {},
   "source": [
    "# Resources\n",
    "\n",
    "This chapter provides some pathways for learning more about ocean science.\n",
    "\n",
    "\n",
    "- [Introduction to Physical Oceanography by Ryan Abernathy (chapter 1)](https://rabernat.github.io/intro_to_physical_oceanography/01_ocean_bathymetry.html)\n",
    "- "
   ]
  }
 ],
 "metadata": {
  "kernelspec": {
   "display_name": "Python 3 (ipykernel)",
   "language": "python",
   "name": "python3"
  },
  "language_info": {
   "codemirror_mode": {
    "name": "ipython",
    "version": 3
   },
   "file_extension": ".py",
   "mimetype": "text/x-python",
   "name": "python",
   "nbconvert_exporter": "python",
   "pygments_lexer": "ipython3",
   "version": "3.12.3"
  }
 },
 "nbformat": 4,
 "nbformat_minor": 5
}
