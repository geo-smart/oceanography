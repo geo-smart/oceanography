{
 "cells": [
  {
   "cell_type": "markdown",
   "metadata": {
    "tags": []
   },
   "source": [
    "[Jupyter Book](https://geo-smart.github.io/oceanography/intro.html)        [GitHub repo](https://github.com/geo-smart/oceanography).\n",
    "\n",
    "\n",
    "# About the GeoSMART Use Case Library\n",
    "\n",
    "\n",
    "### General Overview\n",
    "\n",
    "\n",
    "Explain this family of books, link to others, explain how to contribute and purpose. Books in the library can be identified by the badge:\n",
    "\n",
    "\n",
    "[![GeoSMART Use Case](../img/use_case_badge.svg)](https://geo-smart.github.io/usecases)\n",
    "\n",
    "\n",
    "### Contributing Content\n",
    "\n",
    "\n",
    "Tutorial content can be integrated into jupyterbooks in one of two ways:\n",
    "* Do it yourself (use this template book and add your content)\n",
    "* Provide use your content (preferably in a github repo) and we will integrate it\n",
    "\n",
    "\n",
    "The goal is to provide executable code on some platform. The contributor can choose between:\n",
    "* Binder\n",
    "* Google Colab\n",
    "* Free AWS (smaller cloud-based examples)\n",
    "If none of the above options work for you, please contact us directly to discuss further.\n",
    "\n",
    "\n",
    "### Technical Details\n",
    "\n",
    "\n",
    "Creating a use case book can either be done by navigating use case template repository and clicking the \"use as template\" button.\n",
    "\n",
    "\n",
    "The `.github` folder already contains the github actions that will handle CI/CD deployment to github pages. There is no need to create a gh-pages branch, the first run of the github actions should handle that automatically."
   ]
  }
 ],
 "metadata": {
  "kernelspec": {
   "display_name": "Python 3 (ipykernel)",
   "language": "python",
   "name": "python3"
  },
  "language_info": {
   "codemirror_mode": {
    "name": "ipython",
    "version": 3
   },
   "file_extension": ".py",
   "mimetype": "text/x-python",
   "name": "python",
   "nbconvert_exporter": "python",
   "pygments_lexer": "ipython3",
   "version": "3.11.4"
  },
  "vscode": {
   "interpreter": {
    "hash": "c446eef832ec964573dc49f36fd16bdbed40cbfbefbf557bc2dc78d9e7968689"
   }
  }
 },
 "nbformat": 4,
 "nbformat_minor": 4
}
